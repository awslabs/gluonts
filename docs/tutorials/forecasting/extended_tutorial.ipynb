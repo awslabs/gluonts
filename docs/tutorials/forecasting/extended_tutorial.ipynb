{
 "cells": [
  {
   "cell_type": "markdown",
   "metadata": {},
   "source": [
    "# Extended Forecasting Tutorial"
   ]
  },
  {
   "cell_type": "code",
   "execution_count": 1,
   "metadata": {
    "execution": {
     "iopub.execute_input": "2022-06-13T08:55:37.112241Z",
     "iopub.status.busy": "2022-06-13T08:55:37.111179Z",
     "iopub.status.idle": "2022-06-13T08:55:39.186635Z",
     "shell.execute_reply": "2022-06-13T08:55:39.187259Z"
    }
   },
   "outputs": [],
   "source": [
    "%matplotlib inline\n",
    "import mxnet as mx\n",
    "from mxnet import gluon\n",
    "import numpy as np\n",
    "import pandas as pd\n",
    "import matplotlib.pyplot as plt\n",
    "import json\n",
    "import os\n",
    "from itertools import islice\n",
    "from pathlib import Path"
   ]
  },
  {
   "cell_type": "code",
   "execution_count": 2,
   "metadata": {
    "execution": {
     "iopub.execute_input": "2022-06-13T08:55:39.192619Z",
     "iopub.status.busy": "2022-06-13T08:55:39.191804Z",
     "iopub.status.idle": "2022-06-13T08:55:39.195258Z",
     "shell.execute_reply": "2022-06-13T08:55:39.194613Z"
    }
   },
   "outputs": [],
   "source": [
    "mx.random.seed(0)\n",
    "np.random.seed(0)"
   ]
  },
  {
   "cell_type": "markdown",
   "metadata": {},
   "source": [
    "## Datasets\n",
    "\n",
    "The first requirement to use GluonTS is to have an appropriate dataset. GluonTS offers three different options to practitioners that want to experiment with the various modules: \n",
    "\n",
    "- Use an available dataset provided by GluonTS\n",
    "- Create an artificial dataset using GluonTS\n",
    "- Convert your dataset to a GluonTS friendly format\n",
    "\n",
    "In general, a dataset should satisfy some minimum format requirements to be compatible with GluonTS. In particular, it should be an iterable collection of data entries (time series), and each entry should have at least a `target` field, which contains the actual values of the time series, and a `start` field, which denotes the starting date of the time series. There are many more optional fields that we will go through in this tutorial.\n",
    "\n",
    "The datasets provided by GluonTS come in the appropriate format and they can be used without any post processing. However, a custom dataset needs to be converted. Fortunately this is an easy task.\n",
    "\n",
    "### Available datasets in GluonTS\n",
    "\n",
    "GluonTS comes with a number of available datasets."
   ]
  },
  {
   "cell_type": "code",
   "execution_count": 3,
   "metadata": {
    "execution": {
     "iopub.execute_input": "2022-06-13T08:55:39.200325Z",
     "iopub.status.busy": "2022-06-13T08:55:39.199239Z",
     "iopub.status.idle": "2022-06-13T08:55:39.537806Z",
     "shell.execute_reply": "2022-06-13T08:55:39.538317Z"
    }
   },
   "outputs": [],
   "source": [
    "from gluonts.dataset.repository.datasets import get_dataset, dataset_recipes\n",
    "from gluonts.dataset.util import to_pandas"
   ]
  },
  {
   "cell_type": "code",
   "execution_count": 4,
   "metadata": {
    "execution": {
     "iopub.execute_input": "2022-06-13T08:55:39.543498Z",
     "iopub.status.busy": "2022-06-13T08:55:39.542572Z",
     "iopub.status.idle": "2022-06-13T08:55:39.546247Z",
     "shell.execute_reply": "2022-06-13T08:55:39.546799Z"
    }
   },
   "outputs": [
    {
     "name": "stdout",
     "output_type": "stream",
     "text": [
      "Available datasets: ['constant', 'exchange_rate', 'solar-energy', 'electricity', 'traffic', 'exchange_rate_nips', 'electricity_nips', 'traffic_nips', 'solar_nips', 'wiki-rolling_nips', 'taxi_30min', 'kaggle_web_traffic_with_missing', 'kaggle_web_traffic_without_missing', 'kaggle_web_traffic_weekly', 'm1_yearly', 'm1_quarterly', 'm1_monthly', 'nn5_daily_with_missing', 'nn5_daily_without_missing', 'nn5_weekly', 'tourism_monthly', 'tourism_quarterly', 'tourism_yearly', 'cif_2016', 'london_smart_meters_without_missing', 'wind_farms_without_missing', 'car_parts_without_missing', 'dominick', 'fred_md', 'pedestrian_counts', 'hospital', 'covid_deaths', 'kdd_cup_2018_without_missing', 'weather', 'm3_monthly', 'm3_quarterly', 'm3_yearly', 'm3_other', 'm4_hourly', 'm4_daily', 'm4_weekly', 'm4_monthly', 'm4_quarterly', 'm4_yearly', 'm5', 'uber_tlc_daily', 'uber_tlc_hourly']\n"
     ]
    }
   ],
   "source": [
    "print(f\"Available datasets: {list(dataset_recipes.keys())}\")"
   ]
  },
  {
   "cell_type": "markdown",
   "metadata": {},
   "source": [
    "To download one of the built-in datasets, simply call `get_dataset` with one of the above names. GluonTS can re-use the saved dataset so that it does not need to be downloaded again the next time around."
   ]
  },
  {
   "cell_type": "code",
   "execution_count": 5,
   "metadata": {
    "execution": {
     "iopub.execute_input": "2022-06-13T08:55:39.551793Z",
     "iopub.status.busy": "2022-06-13T08:55:39.550837Z",
     "iopub.status.idle": "2022-06-13T08:55:39.555096Z",
     "shell.execute_reply": "2022-06-13T08:55:39.555714Z"
    }
   },
   "outputs": [],
   "source": [
    "dataset = get_dataset(\"m4_hourly\")"
   ]
  },
  {
   "cell_type": "markdown",
   "metadata": {},
   "source": [
    "### What is in a dataset?\n",
    "\n",
    "In general, the datasets provided by GluonTS are objects that consists of three main members:\n",
    "\n",
    "- `dataset.train` is an iterable collection of data entries used for training. Each entry corresponds to one time series.\n",
    "- `dataset.test` is an iterable collection of data entries used for inference. The test dataset is an extended version of the train dataset that contains a window in the end of each time series that was not seen during training. This window has length equal to the recommended prediction length.\n",
    "- `dataset.metadata` contains metadata of the dataset such as the frequency of the time series, a recommended prediction horizon, associated features, etc.\n",
    "\n",
    "First, let's see what the first entry of the train dataset contains. We should expect at least a `target` and a `start` field in each entry, and the target of the test entry to have an additional window equal to `prediction_length`."
   ]
  },
  {
   "cell_type": "code",
   "execution_count": 6,
   "metadata": {
    "execution": {
     "iopub.execute_input": "2022-06-13T08:55:39.560412Z",
     "iopub.status.busy": "2022-06-13T08:55:39.559578Z",
     "iopub.status.idle": "2022-06-13T08:55:39.568471Z",
     "shell.execute_reply": "2022-06-13T08:55:39.569044Z"
    }
   },
   "outputs": [
    {
     "data": {
      "text/plain": [
       "dict_keys(['start', 'target', 'feat_static_cat', 'item_id', 'source'])"
      ]
     },
     "execution_count": 6,
     "metadata": {},
     "output_type": "execute_result"
    }
   ],
   "source": [
    "# get the first time series in the training set\n",
    "train_entry = next(iter(dataset.train))\n",
    "train_entry.keys()"
   ]
  },
  {
   "cell_type": "markdown",
   "metadata": {},
   "source": [
    "We observe that apart from the required fields there is one more `feat_static_cat` field (we can safely ignore the `source` field). This shows that the dataset has some features apart from the values of the time series. For now, we will ignore this field too. We will explain it in detail later with all the other optional fields.\n",
    "\n",
    "We can similarly examine the first entry of the test dataset. We should expect exactly the same fields as in the train dataset."
   ]
  },
  {
   "cell_type": "code",
   "execution_count": 7,
   "metadata": {
    "execution": {
     "iopub.execute_input": "2022-06-13T08:55:39.574065Z",
     "iopub.status.busy": "2022-06-13T08:55:39.573155Z",
     "iopub.status.idle": "2022-06-13T08:55:39.579896Z",
     "shell.execute_reply": "2022-06-13T08:55:39.580448Z"
    }
   },
   "outputs": [
    {
     "data": {
      "text/plain": [
       "dict_keys(['start', 'target', 'feat_static_cat', 'item_id', 'source'])"
      ]
     },
     "execution_count": 7,
     "metadata": {},
     "output_type": "execute_result"
    }
   ],
   "source": [
    "# get the first time series in the test set\n",
    "test_entry = next(iter(dataset.test))\n",
    "test_entry.keys()"
   ]
  },
  {
   "cell_type": "markdown",
   "metadata": {},
   "source": [
    "Moreover, we should expect that the target will have an additional window in the end with length equal to `prediction_length`. To better understand what this means we can visualize both the train and test time series."
   ]
  },
  {
   "cell_type": "code",
   "execution_count": 8,
   "metadata": {
    "execution": {
     "iopub.execute_input": "2022-06-13T08:55:39.591681Z",
     "iopub.status.busy": "2022-06-13T08:55:39.589563Z",
     "iopub.status.idle": "2022-06-13T08:55:40.015033Z",
     "shell.execute_reply": "2022-06-13T08:55:40.015451Z"
    }
   },
   "outputs": [
    {
     "data": {
      "image/png": "[encoded data removed]",
      "text/plain": [
       "<Figure size 720x504 with 2 Axes>"
      ]
     },
     "metadata": {
      "needs_background": "light"
     },
     "output_type": "display_data"
    }
   ],
   "source": [
    "test_series = to_pandas(test_entry)\n",
    "train_series = to_pandas(train_entry)\n",
    "\n",
    "fig, ax = plt.subplots(2, 1, sharex=True, sharey=True, figsize=(10, 7))\n",
    "\n",
    "train_series.plot(ax=ax[0])\n",
    "ax[0].grid(which=\"both\")\n",
    "ax[0].legend([\"train series\"], loc=\"upper left\")\n",
    "\n",
    "test_series.plot(ax=ax[1])\n",
    "ax[1].axvline(train_series.index[-1], color='r') # end of train dataset\n",
    "ax[1].grid(which=\"both\")\n",
    "ax[1].legend([\"test series\", \"end of train series\"], loc=\"upper left\")\n",
    "\n",
    "plt.show()"
   ]
  },
  {
   "cell_type": "code",
   "execution_count": 9,
   "metadata": {
    "execution": {
     "iopub.execute_input": "2022-06-13T08:55:40.019727Z",
     "iopub.status.busy": "2022-06-13T08:55:40.019124Z",
     "iopub.status.idle": "2022-06-13T08:55:40.021781Z",
     "shell.execute_reply": "2022-06-13T08:55:40.022197Z"
    }
   },
   "outputs": [
    {
     "name": "stdout",
     "output_type": "stream",
     "text": [
      "Length of forecasting window in test dataset: 48\n",
      "Recommended prediction horizon: 48\n",
      "Frequency of the time series: H\n"
     ]
    }
   ],
   "source": [
    "print(f\"Length of forecasting window in test dataset: {len(test_series) - len(train_series)}\")\n",
    "print(f\"Recommended prediction horizon: {dataset.metadata.prediction_length}\")\n",
    "print(f\"Frequency of the time series: {dataset.metadata.freq}\")"
   ]
  },
  {
   "cell_type": "markdown",
   "metadata": {},
   "source": [
    "### Create artificial datasets\n",
    "\n",
    "We can easily create a complex artificial time series dataset using the `ComplexSeasonalTimeSeries` module."
   ]
  },
  {
   "cell_type": "code",
   "execution_count": 10,
   "metadata": {
    "execution": {
     "iopub.execute_input": "2022-06-13T08:55:40.026116Z",
     "iopub.status.busy": "2022-06-13T08:55:40.025300Z",
     "iopub.status.idle": "2022-06-13T08:55:40.027275Z",
     "shell.execute_reply": "2022-06-13T08:55:40.027759Z"
    }
   },
   "outputs": [],
   "source": [
    "from gluonts.dataset.artificial import ComplexSeasonalTimeSeries\n",
    "from gluonts.dataset.common import ListDataset"
   ]
  },
  {
   "cell_type": "code",
   "execution_count": 11,
   "metadata": {
    "execution": {
     "iopub.execute_input": "2022-06-13T08:55:40.032788Z",
     "iopub.status.busy": "2022-06-13T08:55:40.031798Z",
     "iopub.status.idle": "2022-06-13T08:55:40.033989Z",
     "shell.execute_reply": "2022-06-13T08:55:40.034405Z"
    }
   },
   "outputs": [],
   "source": [
    "artificial_dataset = ComplexSeasonalTimeSeries(\n",
    "    num_series=10,\n",
    "    prediction_length=21,\n",
    "    freq_str=\"H\",\n",
    "    length_low=30,\n",
    "    length_high=200,\n",
    "    min_val=-10000,\n",
    "    max_val=10000,\n",
    "    is_integer=False,\n",
    "    proportion_missing_values=0,\n",
    "    is_noise=True,\n",
    "    is_scale=True,\n",
    "    percentage_unique_timestamps=1,\n",
    "    is_out_of_bounds_date=True,\n",
    ")"
   ]
  },
  {
   "cell_type": "markdown",
   "metadata": {},
   "source": [
    "We can access some important metadata of the artificial dataset as follows:"
   ]
  },
  {
   "cell_type": "code",
   "execution_count": 12,
   "metadata": {
    "execution": {
     "iopub.execute_input": "2022-06-13T08:55:40.038267Z",
     "iopub.status.busy": "2022-06-13T08:55:40.037453Z",
     "iopub.status.idle": "2022-06-13T08:55:40.040693Z",
     "shell.execute_reply": "2022-06-13T08:55:40.040228Z"
    }
   },
   "outputs": [
    {
     "name": "stdout",
     "output_type": "stream",
     "text": [
      "prediction length: 21\n",
      "frequency: H\n"
     ]
    }
   ],
   "source": [
    "print(f\"prediction length: {artificial_dataset.metadata.prediction_length}\")\n",
    "print(f\"frequency: {artificial_dataset.metadata.freq}\")"
   ]
  },
  {
   "cell_type": "markdown",
   "metadata": {},
   "source": [
    "The artificial dataset that we created is a list of dictionaries. Each dictionary corresponds to a time series and it should contain the required fields."
   ]
  },
  {
   "cell_type": "code",
   "execution_count": 13,
   "metadata": {
    "execution": {
     "iopub.execute_input": "2022-06-13T08:55:40.044574Z",
     "iopub.status.busy": "2022-06-13T08:55:40.043954Z",
     "iopub.status.idle": "2022-06-13T08:55:40.072345Z",
     "shell.execute_reply": "2022-06-13T08:55:40.072799Z"
    }
   },
   "outputs": [
    {
     "name": "stdout",
     "output_type": "stream",
     "text": [
      "type of train dataset: <class 'list'>\n",
      "train dataset fields: dict_keys(['start', 'target', 'item_id'])\n",
      "type of test dataset: <class 'list'>\n",
      "test dataset fields: dict_keys(['start', 'target', 'item_id'])\n"
     ]
    },
    {
     "name": "stderr",
     "output_type": "stream",
     "text": [
      "/Users/stellalo/gluon-ts/src/gluonts/dataset/artificial/_base.py:640: FutureWarning: The 'freq' argument in Timestamp is deprecated and will be removed in a future version.\n",
      "  start=pd.Timestamp(start, freq=self.freq_str),\n"
     ]
    }
   ],
   "source": [
    "print(f\"type of train dataset: {type(artificial_dataset.train)}\")\n",
    "print(f\"train dataset fields: {artificial_dataset.train[0].keys()}\")\n",
    "print(f\"type of test dataset: {type(artificial_dataset.test)}\")\n",
    "print(f\"test dataset fields: {artificial_dataset.test[0].keys()}\")"
   ]
  },
  {
   "cell_type": "markdown",
   "metadata": {},
   "source": [
    "In order to use the artificially created datasets (list of dictionaries) we need to convert them to `ListDataset` objects."
   ]
  },
  {
   "cell_type": "code",
   "execution_count": 14,
   "metadata": {
    "execution": {
     "iopub.execute_input": "2022-06-13T08:55:40.078521Z",
     "iopub.status.busy": "2022-06-13T08:55:40.077119Z",
     "iopub.status.idle": "2022-06-13T08:55:40.085332Z",
     "shell.execute_reply": "2022-06-13T08:55:40.085764Z"
    }
   },
   "outputs": [],
   "source": [
    "train_ds = ListDataset(\n",
    "    artificial_dataset.train, \n",
    "    freq=artificial_dataset.metadata.freq\n",
    ")"
   ]
  },
  {
   "cell_type": "code",
   "execution_count": 15,
   "metadata": {
    "execution": {
     "iopub.execute_input": "2022-06-13T08:55:40.090660Z",
     "iopub.status.busy": "2022-06-13T08:55:40.089365Z",
     "iopub.status.idle": "2022-06-13T08:55:40.097669Z",
     "shell.execute_reply": "2022-06-13T08:55:40.098206Z"
    }
   },
   "outputs": [],
   "source": [
    "test_ds = ListDataset(\n",
    "    artificial_dataset.test, \n",
    "    freq=artificial_dataset.metadata.freq\n",
    ")"
   ]
  },
  {
   "cell_type": "code",
   "execution_count": 16,
   "metadata": {
    "execution": {
     "iopub.execute_input": "2022-06-13T08:55:40.103146Z",
     "iopub.status.busy": "2022-06-13T08:55:40.102346Z",
     "iopub.status.idle": "2022-06-13T08:55:40.105699Z",
     "shell.execute_reply": "2022-06-13T08:55:40.106131Z"
    }
   },
   "outputs": [
    {
     "data": {
      "text/plain": [
       "dict_keys(['start', 'target', 'item_id', 'source'])"
      ]
     },
     "execution_count": 16,
     "metadata": {},
     "output_type": "execute_result"
    }
   ],
   "source": [
    "train_entry = next(iter(train_ds))\n",
    "train_entry.keys()"
   ]
  },
  {
   "cell_type": "code",
   "execution_count": 17,
   "metadata": {
    "execution": {
     "iopub.execute_input": "2022-06-13T08:55:40.110793Z",
     "iopub.status.busy": "2022-06-13T08:55:40.109983Z",
     "iopub.status.idle": "2022-06-13T08:55:40.113071Z",
     "shell.execute_reply": "2022-06-13T08:55:40.113498Z"
    }
   },
   "outputs": [
    {
     "data": {
      "text/plain": [
       "dict_keys(['start', 'target', 'item_id', 'source'])"
      ]
     },
     "execution_count": 17,
     "metadata": {},
     "output_type": "execute_result"
    }
   ],
   "source": [
    "test_entry = next(iter(test_ds))\n",
    "test_entry.keys()"
   ]
  },
  {
   "cell_type": "code",
   "execution_count": 18,
   "metadata": {
    "execution": {
     "iopub.execute_input": "2022-06-13T08:55:40.121234Z",
     "iopub.status.busy": "2022-06-13T08:55:40.120395Z",
     "iopub.status.idle": "2022-06-13T08:55:40.356328Z",
     "shell.execute_reply": "2022-06-13T08:55:40.356757Z"
    }
   },
   "outputs": [
    {
     "data": {
      "image/png": "[encoded data removed]",
      "text/plain": [
       "<Figure size 720x504 with 2 Axes>"
      ]
     },
     "metadata": {
      "needs_background": "light"
     },
     "output_type": "display_data"
    }
   ],
   "source": [
    "test_series = to_pandas(test_entry)\n",
    "train_series = to_pandas(train_entry)\n",
    "\n",
    "fig, ax = plt.subplots(2, 1, sharex=True, sharey=True, figsize=(10, 7))\n",
    "\n",
    "train_series.plot(ax=ax[0])\n",
    "ax[0].grid(which=\"both\")\n",
    "ax[0].legend([\"train series\"], loc=\"upper left\")\n",
    "\n",
    "test_series.plot(ax=ax[1])\n",
    "ax[1].axvline(train_series.index[-1], color='r') # end of train dataset\n",
    "ax[1].grid(which=\"both\")\n",
    "ax[1].legend([\"test series\", \"end of train series\"], loc=\"upper left\")\n",
    "\n",
    "plt.show()"
   ]
  },
  {
   "cell_type": "markdown",
   "metadata": {},
   "source": [
    "### Use your time series and features\n",
    "\n",
    "Now, we will see how we can convert any custom dataset with any associated features to an appropriate format for GluonTS.\n",
    "\n",
    "As already mentioned a dataset is required to have at least the `target` and the `start` fields. However, it may have more. Let's see what are all the available fields:"
   ]
  },
  {
   "cell_type": "code",
   "execution_count": 19,
   "metadata": {
    "execution": {
     "iopub.execute_input": "2022-06-13T08:55:40.361481Z",
     "iopub.status.busy": "2022-06-13T08:55:40.360736Z",
     "iopub.status.idle": "2022-06-13T08:55:40.363533Z",
     "shell.execute_reply": "2022-06-13T08:55:40.363968Z"
    }
   },
   "outputs": [],
   "source": [
    "from gluonts.dataset.field_names import FieldName"
   ]
  },
  {
   "cell_type": "code",
   "execution_count": 20,
   "metadata": {
    "execution": {
     "iopub.execute_input": "2022-06-13T08:55:40.368878Z",
     "iopub.status.busy": "2022-06-13T08:55:40.367966Z",
     "iopub.status.idle": "2022-06-13T08:55:40.371320Z",
     "shell.execute_reply": "2022-06-13T08:55:40.371747Z"
    }
   },
   "outputs": [
    {
     "data": {
      "text/plain": [
       "[\"FieldName.ITEM_ID = 'item_id'\",\n",
       " \"FieldName.START = 'start'\",\n",
       " \"FieldName.TARGET = 'target'\",\n",
       " \"FieldName.FEAT_STATIC_CAT = 'feat_static_cat'\",\n",
       " \"FieldName.FEAT_STATIC_REAL = 'feat_static_real'\",\n",
       " \"FieldName.FEAT_DYNAMIC_CAT = 'feat_dynamic_cat'\",\n",
       " \"FieldName.FEAT_DYNAMIC_REAL = 'feat_dynamic_real'\",\n",
       " \"FieldName.PAST_FEAT_DYNAMIC_REAL = 'past_feat_dynamic_real'\",\n",
       " \"FieldName.FEAT_DYNAMIC_REAL_LEGACY = 'dynamic_feat'\",\n",
       " \"FieldName.FEAT_DYNAMIC = 'feat_dynamic'\",\n",
       " \"FieldName.PAST_FEAT_DYNAMIC = 'past_feat_dynamic'\",\n",
       " \"FieldName.FEAT_TIME = 'time_feat'\",\n",
       " \"FieldName.FEAT_CONST = 'feat_dynamic_const'\",\n",
       " \"FieldName.FEAT_AGE = 'feat_dynamic_age'\",\n",
       " \"FieldName.OBSERVED_VALUES = 'observed_values'\",\n",
       " \"FieldName.IS_PAD = 'is_pad'\",\n",
       " \"FieldName.FORECAST_START = 'forecast_start'\",\n",
       " \"FieldName.TARGET_DIM_INDICATOR = 'target_dimension_indicator'\"]"
      ]
     },
     "execution_count": 20,
     "metadata": {},
     "output_type": "execute_result"
    }
   ],
   "source": [
    "[f\"FieldName.{k} = '{v}'\" for k, v in FieldName.__dict__.items() if not k.startswith('_')]"
   ]
  },
  {
   "cell_type": "markdown",
   "metadata": {},
   "source": [
    "The fields are split into three categories: the required ones, the optional ones, and the ones that can be added by the `Transformation` (explained in a while).\n",
    "\n",
    "Required:\n",
    "\n",
    "- `start`: start date of the time series\n",
    "- `target`: values of the time series\n",
    "\n",
    "Optional:\n",
    "\n",
    "- `feat_static_cat`: static (over time) categorical features, list with dimension equal to the number of features\n",
    "- `feat_static_real`: static (over time) real features, list with dimension equal to the number of features\n",
    "- `feat_dynamic_cat`: dynamic (over time) categorical features, array with shape equal to (number of features, target length)\n",
    "- `feat_dynamic_real`: dynamic (over time) real features, array with shape equal to (number of features, target length)\n",
    "\n",
    "Added by `Transformation`:\n",
    "\n",
    "- `time_feat`: time related features such as the month or the day \n",
    "- `feat_dynamic_const`: expands a constant value feature along the time axis\n",
    "- `feat_dynamic_age`: age feature, i.e., a feature that its value is small for distant past timestamps and it monotonically increases the more we approach the current timestamp\n",
    "- `observed_values`: indicator for observed values, i.e., a feature that equals to 1 if the value is observed and 0 if the value is missing\n",
    "- `is_pad`: indicator for each time step that shows if it is padded (if the length is not enough) \n",
    "- `forecast_start`: forecast start date\n",
    "\n",
    "As a simple example, we can create a custom dataset to see how we can use some of these fields. The dataset consists of a target, a real dynamic feature (which in this example we set to be the target value one period earlier), and a static categorical feature that indicates the sinusoid type (different phase) that we used to create the target."
   ]
  },
  {
   "cell_type": "code",
   "execution_count": 21,
   "metadata": {
    "execution": {
     "iopub.execute_input": "2022-06-13T08:55:40.379935Z",
     "iopub.status.busy": "2022-06-13T08:55:40.379176Z",
     "iopub.status.idle": "2022-06-13T08:55:40.381253Z",
     "shell.execute_reply": "2022-06-13T08:55:40.381684Z"
    }
   },
   "outputs": [],
   "source": [
    "def create_dataset(num_series, num_steps, period=24, mu=1, sigma=0.3):\n",
    "    # create target: noise + pattern    \n",
    "    # noise\n",
    "    noise = np.random.normal(mu, sigma, size=(num_series, num_steps))\n",
    "    \n",
    "    # pattern - sinusoid with different phase\n",
    "    sin_minusPi_Pi = np.sin(np.tile(np.linspace(-np.pi, np.pi, period), int(num_steps / period)))\n",
    "    sin_Zero_2Pi = np.sin(np.tile(np.linspace(0, 2 * np.pi, 24), int(num_steps / period)))\n",
    "    \n",
    "    pattern = np.concatenate(\n",
    "        (\n",
    "            np.tile(\n",
    "                sin_minusPi_Pi.reshape(1, -1), \n",
    "                (int(np.ceil(num_series / 2)),1)\n",
    "            ), \n",
    "            np.tile(\n",
    "                sin_Zero_2Pi.reshape(1, -1), \n",
    "                (int(np.floor(num_series / 2)), 1)\n",
    "            )\n",
    "        ),\n",
    "        axis=0\n",
    "    )\n",
    "    \n",
    "    target = noise + pattern\n",
    "    \n",
    "    # create time features: use target one period earlier, append with zeros\n",
    "    feat_dynamic_real = np.concatenate(\n",
    "        (\n",
    "            np.zeros((num_series, period)), \n",
    "            target[:, :-period]\n",
    "        ), \n",
    "        axis=1\n",
    "    )\n",
    "    \n",
    "    # create categorical static feats: use the sinusoid type as a categorical feature\n",
    "    feat_static_cat = np.concatenate(\n",
    "        (\n",
    "            np.zeros(int(np.ceil(num_series / 2))), \n",
    "            np.ones(int(np.floor(num_series / 2)))\n",
    "        ),\n",
    "        axis=0\n",
    "    )\n",
    "    \n",
    "    return target, feat_dynamic_real, feat_static_cat\n",
    "    "
   ]
  },
  {
   "cell_type": "code",
   "execution_count": 22,
   "metadata": {
    "execution": {
     "iopub.execute_input": "2022-06-13T08:55:40.394492Z",
     "iopub.status.busy": "2022-06-13T08:55:40.393873Z",
     "iopub.status.idle": "2022-06-13T08:55:40.395694Z",
     "shell.execute_reply": "2022-06-13T08:55:40.396112Z"
    }
   },
   "outputs": [],
   "source": [
    "# define the parameters of the dataset\n",
    "custom_ds_metadata = {\n",
    "    'num_series': 100,\n",
    "    'num_steps': 24 * 7,\n",
    "    'prediction_length': 24,\n",
    "    'freq': '1H',\n",
    "    'start': [\n",
    "        pd.Period(\"01-01-2019\", freq='1H')\n",
    "        for _ in range(100)\n",
    "    ]\n",
    "}"
   ]
  },
  {
   "cell_type": "code",
   "execution_count": 23,
   "metadata": {
    "execution": {
     "iopub.execute_input": "2022-06-13T08:55:40.400220Z",
     "iopub.status.busy": "2022-06-13T08:55:40.399329Z",
     "iopub.status.idle": "2022-06-13T08:55:40.402385Z",
     "shell.execute_reply": "2022-06-13T08:55:40.402801Z"
    }
   },
   "outputs": [],
   "source": [
    "data_out = create_dataset(\n",
    "    custom_ds_metadata['num_series'], \n",
    "    custom_ds_metadata['num_steps'],                                                      \n",
    "    custom_ds_metadata['prediction_length']\n",
    ")\n",
    "\n",
    "target, feat_dynamic_real, feat_static_cat = data_out"
   ]
  },
  {
   "cell_type": "markdown",
   "metadata": {},
   "source": [
    "We can easily create the train and test datasets by simply filling in the correct fields. Remember that for the train dataset we need to cut the last window."
   ]
  },
  {
   "cell_type": "code",
   "execution_count": 24,
   "metadata": {
    "execution": {
     "iopub.execute_input": "2022-06-13T08:55:40.408512Z",
     "iopub.status.busy": "2022-06-13T08:55:40.407693Z",
     "iopub.status.idle": "2022-06-13T08:55:40.409812Z",
     "shell.execute_reply": "2022-06-13T08:55:40.410228Z"
    }
   },
   "outputs": [],
   "source": [
    "train_ds = ListDataset(\n",
    "    [\n",
    "        {\n",
    "            FieldName.TARGET: target,\n",
    "            FieldName.START: start,\n",
    "            FieldName.FEAT_DYNAMIC_REAL: [fdr],\n",
    "            FieldName.FEAT_STATIC_CAT: [fsc]\n",
    "        }\n",
    "        for (target, start, fdr, fsc) in zip(\n",
    "            target[:, :-custom_ds_metadata['prediction_length']],\n",
    "            custom_ds_metadata['start'],\n",
    "            feat_dynamic_real[:, :-custom_ds_metadata['prediction_length']],\n",
    "            feat_static_cat\n",
    "        )\n",
    "    ],\n",
    "    freq=custom_ds_metadata['freq']\n",
    ")"
   ]
  },
  {
   "cell_type": "code",
   "execution_count": 25,
   "metadata": {
    "execution": {
     "iopub.execute_input": "2022-06-13T08:55:40.415478Z",
     "iopub.status.busy": "2022-06-13T08:55:40.414661Z",
     "iopub.status.idle": "2022-06-13T08:55:40.417134Z",
     "shell.execute_reply": "2022-06-13T08:55:40.417562Z"
    }
   },
   "outputs": [],
   "source": [
    "test_ds = ListDataset(\n",
    "    [\n",
    "        {\n",
    "            FieldName.TARGET: target, \n",
    "            FieldName.START: start,\n",
    "            FieldName.FEAT_DYNAMIC_REAL: [fdr],\n",
    "            FieldName.FEAT_STATIC_CAT: [fsc]\n",
    "        } \n",
    "        for (target, start, fdr, fsc) in zip(\n",
    "            target, \n",
    "            custom_ds_metadata['start'], \n",
    "            feat_dynamic_real, \n",
    "            feat_static_cat)\n",
    "    ],\n",
    "    freq=custom_ds_metadata['freq']\n",
    ")"
   ]
  },
  {
   "cell_type": "markdown",
   "metadata": {},
   "source": [
    "Now, we can examine each entry of the train and test datasets. We should expect that they have the following fields: `target`, `start`, `feat_dynamic_real` and `feat_static_cat`."
   ]
  },
  {
   "cell_type": "code",
   "execution_count": 26,
   "metadata": {
    "execution": {
     "iopub.execute_input": "2022-06-13T08:55:40.421645Z",
     "iopub.status.busy": "2022-06-13T08:55:40.420939Z",
     "iopub.status.idle": "2022-06-13T08:55:40.423668Z",
     "shell.execute_reply": "2022-06-13T08:55:40.424088Z"
    }
   },
   "outputs": [
    {
     "data": {
      "text/plain": [
       "dict_keys(['target', 'start', 'feat_dynamic_real', 'feat_static_cat', 'source'])"
      ]
     },
     "execution_count": 26,
     "metadata": {},
     "output_type": "execute_result"
    }
   ],
   "source": [
    "train_entry = next(iter(train_ds))\n",
    "train_entry.keys()"
   ]
  },
  {
   "cell_type": "code",
   "execution_count": 27,
   "metadata": {
    "execution": {
     "iopub.execute_input": "2022-06-13T08:55:40.428363Z",
     "iopub.status.busy": "2022-06-13T08:55:40.427635Z",
     "iopub.status.idle": "2022-06-13T08:55:40.430640Z",
     "shell.execute_reply": "2022-06-13T08:55:40.431162Z"
    }
   },
   "outputs": [
    {
     "data": {
      "text/plain": [
       "dict_keys(['target', 'start', 'feat_dynamic_real', 'feat_static_cat', 'source'])"
      ]
     },
     "execution_count": 27,
     "metadata": {},
     "output_type": "execute_result"
    }
   ],
   "source": [
    "test_entry = next(iter(test_ds))\n",
    "test_entry.keys()"
   ]
  },
  {
   "cell_type": "code",
   "execution_count": 28,
   "metadata": {
    "execution": {
     "iopub.execute_input": "2022-06-13T08:55:40.439101Z",
     "iopub.status.busy": "2022-06-13T08:55:40.437568Z",
     "iopub.status.idle": "2022-06-13T08:55:40.708075Z",
     "shell.execute_reply": "2022-06-13T08:55:40.708684Z"
    }
   },
   "outputs": [
    {
     "data": {
      "image/png": "[encoded data removed]",
      "text/plain": [
       "<Figure size 720x504 with 2 Axes>"
      ]
     },
     "metadata": {
      "needs_background": "light"
     },
     "output_type": "display_data"
    }
   ],
   "source": [
    "test_series = to_pandas(test_entry)\n",
    "train_series = to_pandas(train_entry)\n",
    "\n",
    "fig, ax = plt.subplots(2, 1, sharex=True, sharey=True, figsize=(10, 7))\n",
    "\n",
    "train_series.plot(ax=ax[0])\n",
    "ax[0].grid(which=\"both\")\n",
    "ax[0].legend([\"train series\"], loc=\"upper left\")\n",
    "\n",
    "test_series.plot(ax=ax[1])\n",
    "ax[1].axvline(train_series.index[-1], color='r') # end of train dataset\n",
    "ax[1].grid(which=\"both\")\n",
    "ax[1].legend([\"test series\", \"end of train series\"], loc=\"upper left\")\n",
    "\n",
    "plt.show()"
   ]
  },
  {
   "cell_type": "markdown",
   "metadata": {},
   "source": [
    "<span style=\"color:red\">*For the rest of the tutorial we will use the custom dataset*</span>\n",
    "\n",
    "## Transformations\n",
    "\n",
    "### Define a transformation\n",
    "\n",
    "The primary use case for a `Transformation` is for feature processing, e.g., adding a holiday feature and for defining the way the dataset will be split into appropriate windows during training and inference. \n",
    "\n",
    "In general, it gets an iterable collection of entries of a dataset and transform it to another iterable collection that can possibly contain more fields. The transformation is done by defining a set of \"actions\" to the raw dataset depending on what is useful to our model. This actions usually create some additional features or transform an existing feature. As an example, in the following we add the following transformations:\n",
    "\n",
    "- `AddObservedValuesIndicator`: Creates the `observed_values` field in the dataset, i.e., adds a feature that equals to 1 if the value is observed and 0 if the value is missing \n",
    "- `AddAgeFeature`: Creates the `feat_dynamic_age` field in the dataset, i.e., adds a feature that its value is small for distant past timestamps and it monotonically increases the more we approach the current timestamp   \n",
    "\n",
    "One more transformation that can be used is the `InstanceSplitter`, which is used to define how the datasets are going to be split in example windows during training, validation, or at prediction time. The `InstanceSplitter` is configured as follows (skipping the obvious fields):\n",
    "\n",
    "- `is_pad_field`: indicator if the time series is padded (if the length is not enough)\n",
    "- `train_sampler`: defines how the training windows are cut/sampled\n",
    "- `time_series_fields`: contains the time dependent features that need to be split in the same manner as the target"
   ]
  },
  {
   "cell_type": "code",
   "execution_count": 29,
   "metadata": {
    "execution": {
     "iopub.execute_input": "2022-06-13T08:55:40.713795Z",
     "iopub.status.busy": "2022-06-13T08:55:40.712794Z",
     "iopub.status.idle": "2022-06-13T08:55:40.740935Z",
     "shell.execute_reply": "2022-06-13T08:55:40.741440Z"
    }
   },
   "outputs": [],
   "source": [
    "from gluonts.transform import (\n",
    "    AddAgeFeature,\n",
    "    AddObservedValuesIndicator,\n",
    "    Chain,\n",
    "    ExpectedNumInstanceSampler,\n",
    "    InstanceSplitter,\n",
    "    SetFieldIfNotPresent,\n",
    ")"
   ]
  },
  {
   "cell_type": "code",
   "execution_count": 30,
   "metadata": {
    "execution": {
     "iopub.execute_input": "2022-06-13T08:55:40.747478Z",
     "iopub.status.busy": "2022-06-13T08:55:40.746799Z",
     "iopub.status.idle": "2022-06-13T08:55:40.749287Z",
     "shell.execute_reply": "2022-06-13T08:55:40.749711Z"
    }
   },
   "outputs": [],
   "source": [
    "def create_transformation(freq, context_length, prediction_length):\n",
    "    return Chain(\n",
    "        [\n",
    "            AddObservedValuesIndicator(\n",
    "                target_field=FieldName.TARGET,\n",
    "                output_field=FieldName.OBSERVED_VALUES,\n",
    "            ),\n",
    "            AddAgeFeature(\n",
    "                target_field=FieldName.TARGET,\n",
    "                output_field=FieldName.FEAT_AGE,\n",
    "                pred_length=prediction_length,\n",
    "                log_scale=True,\n",
    "            ),\n",
    "            InstanceSplitter(\n",
    "                target_field=FieldName.TARGET,\n",
    "                is_pad_field=FieldName.IS_PAD,\n",
    "                start_field=FieldName.START,\n",
    "                forecast_start_field=FieldName.FORECAST_START,\n",
    "                instance_sampler=ExpectedNumInstanceSampler(\n",
    "                    num_instances=1,\n",
    "                    min_future=prediction_length,\n",
    "                ),\n",
    "                past_length=context_length,\n",
    "                future_length=prediction_length,\n",
    "                time_series_fields=[\n",
    "                    FieldName.FEAT_AGE,\n",
    "                    FieldName.FEAT_DYNAMIC_REAL,\n",
    "                    FieldName.OBSERVED_VALUES,\n",
    "                ],\n",
    "            ),\n",
    "        ]\n",
    "    )"
   ]
  },
  {
   "cell_type": "markdown",
   "metadata": {},
   "source": [
    "### Transform a dataset\n",
    "\n",
    "Now, we can create a transformation object by applying the above transformation to the custom dataset we have created."
   ]
  },
  {
   "cell_type": "code",
   "execution_count": 31,
   "metadata": {
    "execution": {
     "iopub.execute_input": "2022-06-13T08:55:40.754053Z",
     "iopub.status.busy": "2022-06-13T08:55:40.753246Z",
     "iopub.status.idle": "2022-06-13T08:55:40.755257Z",
     "shell.execute_reply": "2022-06-13T08:55:40.755736Z"
    }
   },
   "outputs": [],
   "source": [
    "transformation = create_transformation(\n",
    "    custom_ds_metadata['freq'], \n",
    "    2 * custom_ds_metadata['prediction_length'], # can be any appropriate value\n",
    "    custom_ds_metadata['prediction_length']\n",
    ")"
   ]
  },
  {
   "cell_type": "code",
   "execution_count": 32,
   "metadata": {
    "execution": {
     "iopub.execute_input": "2022-06-13T08:55:40.759729Z",
     "iopub.status.busy": "2022-06-13T08:55:40.758878Z",
     "iopub.status.idle": "2022-06-13T08:55:40.760882Z",
     "shell.execute_reply": "2022-06-13T08:55:40.761313Z"
    }
   },
   "outputs": [],
   "source": [
    "train_tf = transformation(iter(train_ds), is_train=True)"
   ]
  },
  {
   "cell_type": "code",
   "execution_count": 33,
   "metadata": {
    "execution": {
     "iopub.execute_input": "2022-06-13T08:55:40.765485Z",
     "iopub.status.busy": "2022-06-13T08:55:40.764513Z",
     "iopub.status.idle": "2022-06-13T08:55:40.767422Z",
     "shell.execute_reply": "2022-06-13T08:55:40.767850Z"
    }
   },
   "outputs": [
    {
     "data": {
      "text/plain": [
       "generator"
      ]
     },
     "execution_count": 33,
     "metadata": {},
     "output_type": "execute_result"
    }
   ],
   "source": [
    "type(train_tf)"
   ]
  },
  {
   "cell_type": "markdown",
   "metadata": {},
   "source": [
    "As expected, the output is another iterable object. We can easily examine what is contained in an entry of the transformed dataset. The `InstanceSplitter` iterates over the transformed dataset and cuts windows by selecting randomly a time series and a starting point on that time series (this \"randomness\" is defined by the `instance_sampler`)."
   ]
  },
  {
   "cell_type": "code",
   "execution_count": 34,
   "metadata": {
    "execution": {
     "iopub.execute_input": "2022-06-13T08:55:40.772517Z",
     "iopub.status.busy": "2022-06-13T08:55:40.771634Z",
     "iopub.status.idle": "2022-06-13T08:55:40.774472Z",
     "shell.execute_reply": "2022-06-13T08:55:40.774886Z"
    }
   },
   "outputs": [
    {
     "data": {
      "text/plain": [
       "['start',\n",
       " 'feat_static_cat',\n",
       " 'source',\n",
       " 'past_feat_dynamic_age',\n",
       " 'future_feat_dynamic_age',\n",
       " 'past_feat_dynamic_real',\n",
       " 'future_feat_dynamic_real',\n",
       " 'past_observed_values',\n",
       " 'future_observed_values',\n",
       " 'past_target',\n",
       " 'future_target',\n",
       " 'past_is_pad',\n",
       " 'forecast_start']"
      ]
     },
     "execution_count": 34,
     "metadata": {},
     "output_type": "execute_result"
    }
   ],
   "source": [
    "train_tf_entry = next(iter(train_tf))\n",
    "[k for k in train_tf_entry.keys()]"
   ]
  },
  {
   "cell_type": "markdown",
   "metadata": {},
   "source": [
    "The transformer has done what we asked. In particular it has added:\n",
    "\n",
    "- a field for observed values (`observed_values`)  \n",
    "- a field for the age feature (`feat_dynamic_age`)\n",
    "- some extra useful fields (`past_is_pad`, `forecast_start`)\n",
    "\n",
    "It has done one more important thing: it has split the window into past and future and has added the corresponding prefixes to all time dependent fields. This way we can easily use e.g., the `past_target` field as input and the `future_target` field to calculate the error of our predictions. Of course, the length of the past is equal to the `context_length` and of the future equal to the `prediction_length`."
   ]
  },
  {
   "cell_type": "code",
   "execution_count": 35,
   "metadata": {
    "execution": {
     "iopub.execute_input": "2022-06-13T08:55:40.779155Z",
     "iopub.status.busy": "2022-06-13T08:55:40.778473Z",
     "iopub.status.idle": "2022-06-13T08:55:40.782404Z",
     "shell.execute_reply": "2022-06-13T08:55:40.782824Z"
    }
   },
   "outputs": [
    {
     "name": "stdout",
     "output_type": "stream",
     "text": [
      "past target shape: (48,)\n",
      "future target shape: (24,)\n",
      "past observed values shape: (48,)\n",
      "future observed values shape: (24,)\n",
      "past age feature shape: (48, 1)\n",
      "future age feature shape: (24, 1)\n",
      "[0]\n"
     ]
    }
   ],
   "source": [
    "print(f\"past target shape: {train_tf_entry['past_target'].shape}\")\n",
    "print(f\"future target shape: {train_tf_entry['future_target'].shape}\")\n",
    "print(f\"past observed values shape: {train_tf_entry['past_observed_values'].shape}\")\n",
    "print(f\"future observed values shape: {train_tf_entry['future_observed_values'].shape}\")\n",
    "print(f\"past age feature shape: {train_tf_entry['past_feat_dynamic_age'].shape}\")\n",
    "print(f\"future age feature shape: {train_tf_entry['future_feat_dynamic_age'].shape}\")\n",
    "print(train_tf_entry['feat_static_cat'])"
   ]
  },
  {
   "cell_type": "markdown",
   "metadata": {},
   "source": [
    "Just for comparison, let's see again what were the fields in the original dataset before the transformation:"
   ]
  },
  {
   "cell_type": "code",
   "execution_count": 36,
   "metadata": {
    "execution": {
     "iopub.execute_input": "2022-06-13T08:55:40.787366Z",
     "iopub.status.busy": "2022-06-13T08:55:40.786505Z",
     "iopub.status.idle": "2022-06-13T08:55:40.789580Z",
     "shell.execute_reply": "2022-06-13T08:55:40.790002Z"
    }
   },
   "outputs": [
    {
     "data": {
      "text/plain": [
       "['target', 'start', 'feat_dynamic_real', 'feat_static_cat', 'source']"
      ]
     },
     "execution_count": 36,
     "metadata": {},
     "output_type": "execute_result"
    }
   ],
   "source": [
    "[k for k in next(iter(train_ds)).keys()]"
   ]
  },
  {
   "cell_type": "markdown",
   "metadata": {},
   "source": [
    "Now, we can move on and see how the test dataset is split. As we saw, the transformation splits the windows into past and future. However, during inference (`is_train=False` in the transformation), the splitter always cuts the last window (of length `context_length`) of the dataset so it can be used to predict the subsequent unknown values of length `prediction_length`. \n",
    "\n",
    "So, how is the test dataset split in past and future since we do not know the future target? And what about the time dependent features?"
   ]
  },
  {
   "cell_type": "code",
   "execution_count": 37,
   "metadata": {
    "execution": {
     "iopub.execute_input": "2022-06-13T08:55:40.794154Z",
     "iopub.status.busy": "2022-06-13T08:55:40.793467Z",
     "iopub.status.idle": "2022-06-13T08:55:40.795667Z",
     "shell.execute_reply": "2022-06-13T08:55:40.796105Z"
    }
   },
   "outputs": [],
   "source": [
    "test_tf = transformation(iter(test_ds), is_train=False)"
   ]
  },
  {
   "cell_type": "code",
   "execution_count": 38,
   "metadata": {
    "execution": {
     "iopub.execute_input": "2022-06-13T08:55:40.800966Z",
     "iopub.status.busy": "2022-06-13T08:55:40.800059Z",
     "iopub.status.idle": "2022-06-13T08:55:40.803285Z",
     "shell.execute_reply": "2022-06-13T08:55:40.803706Z"
    }
   },
   "outputs": [
    {
     "data": {
      "text/plain": [
       "['start',\n",
       " 'feat_static_cat',\n",
       " 'source',\n",
       " 'past_feat_dynamic_age',\n",
       " 'future_feat_dynamic_age',\n",
       " 'past_feat_dynamic_real',\n",
       " 'future_feat_dynamic_real',\n",
       " 'past_observed_values',\n",
       " 'future_observed_values',\n",
       " 'past_target',\n",
       " 'future_target',\n",
       " 'past_is_pad',\n",
       " 'forecast_start']"
      ]
     },
     "execution_count": 38,
     "metadata": {},
     "output_type": "execute_result"
    }
   ],
   "source": [
    "test_tf_entry = next(iter(test_tf))\n",
    "[k for k in test_tf_entry.keys()]"
   ]
  },
  {
   "cell_type": "code",
   "execution_count": 39,
   "metadata": {
    "execution": {
     "iopub.execute_input": "2022-06-13T08:55:40.808707Z",
     "iopub.status.busy": "2022-06-13T08:55:40.807777Z",
     "iopub.status.idle": "2022-06-13T08:55:40.810415Z",
     "shell.execute_reply": "2022-06-13T08:55:40.810881Z"
    }
   },
   "outputs": [
    {
     "name": "stdout",
     "output_type": "stream",
     "text": [
      "past target shape: (48,)\n",
      "future target shape: (24,)\n",
      "past observed values shape: (48,)\n",
      "future observed values shape: (24,)\n",
      "past age feature shape: (48, 1)\n",
      "future age feature shape: (24, 1)\n",
      "[0]\n"
     ]
    }
   ],
   "source": [
    "print(f\"past target shape: {test_tf_entry['past_target'].shape}\")\n",
    "print(f\"future target shape: {test_tf_entry['future_target'].shape}\")\n",
    "print(f\"past observed values shape: {test_tf_entry['past_observed_values'].shape}\")\n",
    "print(f\"future observed values shape: {test_tf_entry['future_observed_values'].shape}\")\n",
    "print(f\"past age feature shape: {test_tf_entry['past_feat_dynamic_age'].shape}\")\n",
    "print(f\"future age feature shape: {test_tf_entry['future_feat_dynamic_age'].shape}\")\n",
    "print(test_tf_entry['feat_static_cat'])"
   ]
  },
  {
   "cell_type": "markdown",
   "metadata": {},
   "source": [
    "The future target is empty but not the features - we always assume that we know the future features!\n",
    "\n",
    "All the things we did manually here are done by an internal block called `DataLoader`. It gets as an input the raw dataset (in appropriate format) and the transformation object and it outputs the transformed iterable dataset batch by batch. The only thing that we need to worry about is setting the transformation fields correctly!"
   ]
  },
  {
   "cell_type": "markdown",
   "metadata": {},
   "source": [
    "## Training an existing model\n",
    "\n",
    "GluonTS comes with a number of pre-built models. All the user needs to do is configure some hyperparameters. The existing models focus on (but are not limited to) probabilistic forecasting. Probabilistic forecasts are predictions in the form of a probability distribution, rather than simply a single point estimate. Having estimated the future distribution of each time step in the forecasting horizon, we can draw a sample from the distribution at each time step and thus create a \"sample path\" that can be seen as a possible realization of the future. In practice we draw multiple samples and create multiple sample paths which can be used for visualization, evaluation of the model, to derive statistics, etc.\n",
    "\n",
    "### Configuring an estimator\n",
    "\n",
    "We will begin with GulonTS's pre-built feedforward neural network estimator, a simple but powerful forecasting model. We will use this model to demonstrate the process of training a model, producing forecasts, and evaluating the results.\n",
    "\n",
    "GluonTS's built-in feedforward neural network (`SimpleFeedForwardEstimator`) accepts an input window of length `context_length` and predicts the distribution of the values of the subsequent `prediction_length` values. In GluonTS parlance, the feedforward neural network model is an example of `Estimator`. In GluonTS, `Estimator` objects represent a forecasting model as well as details such as its coefficients, weights, etc.\n",
    "\n",
    "In general, each estimator (pre-built or custom) is configured by a number of hyperparameters that can be either common (but not binding) among all estimators (e.g., the `prediction_length`) or specific for the particular estimator (e.g., number of layers for a neural network or the stride in a CNN).\n",
    "\n",
    "Finally, each estimator is configured by a `Trainer`, which defines how the model will be trained i.e., the number of epochs, the learning rate, etc."
   ]
  },
  {
   "cell_type": "code",
   "execution_count": 40,
   "metadata": {
    "execution": {
     "iopub.execute_input": "2022-06-13T08:55:40.814939Z",
     "iopub.status.busy": "2022-06-13T08:55:40.814086Z",
     "iopub.status.idle": "2022-06-13T08:55:40.942987Z",
     "shell.execute_reply": "2022-06-13T08:55:40.943598Z"
    }
   },
   "outputs": [],
   "source": [
    "from gluonts.model.simple_feedforward import SimpleFeedForwardEstimator\n",
    "from gluonts.mx import Trainer"
   ]
  },
  {
   "cell_type": "code",
   "execution_count": 41,
   "metadata": {
    "execution": {
     "iopub.execute_input": "2022-06-13T08:55:40.950649Z",
     "iopub.status.busy": "2022-06-13T08:55:40.949825Z",
     "iopub.status.idle": "2022-06-13T08:55:40.952815Z",
     "shell.execute_reply": "2022-06-13T08:55:40.953390Z"
    }
   },
   "outputs": [],
   "source": [
    "estimator = SimpleFeedForwardEstimator(\n",
    "    num_hidden_dimensions=[10],\n",
    "    prediction_length=custom_ds_metadata['prediction_length'],\n",
    "    context_length=2*custom_ds_metadata['prediction_length'],\n",
    "    freq=custom_ds_metadata['freq'],\n",
    "    trainer=Trainer(\n",
    "        ctx=\"cpu\", \n",
    "        epochs=5, \n",
    "        learning_rate=1e-3, \n",
    "        hybridize=False, \n",
    "        num_batches_per_epoch=100\n",
    "    )\n",
    ")"
   ]
  },
  {
   "cell_type": "markdown",
   "metadata": {},
   "source": [
    "### Getting a predictor\n",
    "\n",
    "After specifying our estimator with all the necessary hyperparameters we can train it using our training dataset `dataset.train` by invoking the `train` method of the estimator. The training algorithm returns a fitted model (or a `Predictor` in GluonTS parlance) that can be used to construct forecasts.\n",
    "\n",
    "We should emphasize here that a single model, as the one defined above, is trained over all the time series contained in the training dataset `train_ds`. This results in a **global** model, suitable for prediction for all the time series in `train_ds` and possibly for other unseen related time series."
   ]
  },
  {
   "cell_type": "code",
   "execution_count": 42,
   "metadata": {
    "execution": {
     "iopub.execute_input": "2022-06-13T08:55:40.966230Z",
     "iopub.status.busy": "2022-06-13T08:55:40.965395Z",
     "iopub.status.idle": "2022-06-13T08:55:44.968444Z",
     "shell.execute_reply": "2022-06-13T08:55:44.968932Z"
    }
   },
   "outputs": [
    {
     "name": "stderr",
     "output_type": "stream",
     "text": [
      "\r",
      "  0%|                                                                                               | 0/100 [00:00<?, ?it/s]"
     ]
    },
    {
     "name": "stderr",
     "output_type": "stream",
     "text": [
      "\r",
      "100%|████████████████████████████████████████████████████| 100/100 [00:00<00:00, 120.27it/s, epoch=1/5, avg_epoch_loss=1.28]"
     ]
    },
    {
     "name": "stderr",
     "output_type": "stream",
     "text": [
      "\n"
     ]
    },
    {
     "name": "stderr",
     "output_type": "stream",
     "text": [
      "\r",
      "  0%|                                                                                               | 0/100 [00:00<?, ?it/s]"
     ]
    },
    {
     "name": "stderr",
     "output_type": "stream",
     "text": [
      "\r",
      "100%|███████████████████████████████████████████████████| 100/100 [00:00<00:00, 124.71it/s, epoch=2/5, avg_epoch_loss=0.735]"
     ]
    },
    {
     "name": "stderr",
     "output_type": "stream",
     "text": [
      "\n"
     ]
    },
    {
     "name": "stderr",
     "output_type": "stream",
     "text": [
      "\r",
      "  0%|                                                                                               | 0/100 [00:00<?, ?it/s]"
     ]
    },
    {
     "name": "stderr",
     "output_type": "stream",
     "text": [
      "\r",
      "100%|███████████████████████████████████████████████████| 100/100 [00:00<00:00, 126.65it/s, epoch=3/5, avg_epoch_loss=0.677]"
     ]
    },
    {
     "name": "stderr",
     "output_type": "stream",
     "text": [
      "\n"
     ]
    },
    {
     "name": "stderr",
     "output_type": "stream",
     "text": [
      "\r",
      "  0%|                                                                                               | 0/100 [00:00<?, ?it/s]"
     ]
    },
    {
     "name": "stderr",
     "output_type": "stream",
     "text": [
      "\r",
      "100%|███████████████████████████████████████████████████| 100/100 [00:00<00:00, 128.22it/s, epoch=4/5, avg_epoch_loss=0.644]"
     ]
    },
    {
     "name": "stderr",
     "output_type": "stream",
     "text": [
      "\n"
     ]
    },
    {
     "name": "stderr",
     "output_type": "stream",
     "text": [
      "\r",
      "  0%|                                                                                               | 0/100 [00:00<?, ?it/s]"
     ]
    },
    {
     "name": "stderr",
     "output_type": "stream",
     "text": [
      "\r",
      "100%|███████████████████████████████████████████████████| 100/100 [00:00<00:00, 130.22it/s, epoch=5/5, avg_epoch_loss=0.605]"
     ]
    },
    {
     "name": "stderr",
     "output_type": "stream",
     "text": [
      "\n"
     ]
    }
   ],
   "source": [
    "predictor = estimator.train(train_ds)"
   ]
  },
  {
   "cell_type": "markdown",
   "metadata": {},
   "source": [
    "### Saving/Loading an existing model\n",
    "\n",
    "A fitted model, i.e., a `Predictor`, can be saved and loaded back easily:"
   ]
  },
  {
   "cell_type": "code",
   "execution_count": 43,
   "metadata": {
    "execution": {
     "iopub.execute_input": "2022-06-13T08:55:44.972846Z",
     "iopub.status.busy": "2022-06-13T08:55:44.972051Z",
     "iopub.status.idle": "2022-06-13T08:55:44.982418Z",
     "shell.execute_reply": "2022-06-13T08:55:44.982956Z"
    }
   },
   "outputs": [
    {
     "name": "stderr",
     "output_type": "stream",
     "text": [
      "WARNING:root:Serializing RepresentableBlockPredictor instances does not save the prediction network structure in a backwards-compatible manner. Be careful not to use this method in production.\n"
     ]
    }
   ],
   "source": [
    "# save the trained model in tmp/\n",
    "from pathlib import Path\n",
    "predictor.serialize(Path(\"/tmp/\"))"
   ]
  },
  {
   "cell_type": "code",
   "execution_count": 44,
   "metadata": {
    "execution": {
     "iopub.execute_input": "2022-06-13T08:55:44.987442Z",
     "iopub.status.busy": "2022-06-13T08:55:44.986586Z",
     "iopub.status.idle": "2022-06-13T08:55:44.992706Z",
     "shell.execute_reply": "2022-06-13T08:55:44.993140Z"
    }
   },
   "outputs": [],
   "source": [
    "# loads it back\n",
    "from gluonts.model.predictor import Predictor\n",
    "predictor_deserialized = Predictor.deserialize(Path(\"/tmp/\"))"
   ]
  },
  {
   "cell_type": "markdown",
   "metadata": {},
   "source": [
    "## Evaluation\n",
    "\n",
    "### Getting the forecasts\n",
    "\n",
    "With a predictor in hand, we can now predict the last window of the `dataset.test` and evaluate our model's performance.\n",
    "\n",
    "GluonTS comes with the `make_evaluation_predictions` function that automates the process of prediction and model evaluation. Roughly, this function performs the following steps:\n",
    "\n",
    "- Removes the final window of length `prediction_length` of the `dataset.test` that we want to predict\n",
    "- The estimator uses the remaining data to predict (in the form of sample paths) the \"future\" window that was just removed\n",
    "- The module outputs the forecast sample paths and the `dataset.test` (as python generator objects)"
   ]
  },
  {
   "cell_type": "code",
   "execution_count": 45,
   "metadata": {
    "execution": {
     "iopub.execute_input": "2022-06-13T08:55:44.996967Z",
     "iopub.status.busy": "2022-06-13T08:55:44.996025Z",
     "iopub.status.idle": "2022-06-13T08:55:45.000884Z",
     "shell.execute_reply": "2022-06-13T08:55:45.001308Z"
    }
   },
   "outputs": [],
   "source": [
    "from gluonts.evaluation import make_evaluation_predictions"
   ]
  },
  {
   "cell_type": "code",
   "execution_count": 46,
   "metadata": {
    "execution": {
     "iopub.execute_input": "2022-06-13T08:55:45.005423Z",
     "iopub.status.busy": "2022-06-13T08:55:45.004470Z",
     "iopub.status.idle": "2022-06-13T08:55:45.006735Z",
     "shell.execute_reply": "2022-06-13T08:55:45.007158Z"
    }
   },
   "outputs": [],
   "source": [
    "forecast_it, ts_it = make_evaluation_predictions(\n",
    "    dataset=test_ds,  # test dataset\n",
    "    predictor=predictor,  # predictor\n",
    "    num_samples=100,  # number of sample paths we want for evaluation\n",
    ")"
   ]
  },
  {
   "cell_type": "markdown",
   "metadata": {},
   "source": [
    "First, we can convert these generators to lists to ease the subsequent computations."
   ]
  },
  {
   "cell_type": "code",
   "execution_count": 47,
   "metadata": {
    "execution": {
     "iopub.execute_input": "2022-06-13T08:55:45.013668Z",
     "iopub.status.busy": "2022-06-13T08:55:45.012899Z",
     "iopub.status.idle": "2022-06-13T08:55:45.090475Z",
     "shell.execute_reply": "2022-06-13T08:55:45.090904Z"
    }
   },
   "outputs": [],
   "source": [
    "forecasts = list(forecast_it)\n",
    "tss = list(ts_it)"
   ]
  },
  {
   "cell_type": "markdown",
   "metadata": {},
   "source": [
    "We can examine the first element of these lists (that corresponds to the first time series of the dataset). Let's start with the list containing the time series, i.e., `tss`. We expect the first entry of `tss` to contain the (target of the) first time series of `test_ds`."
   ]
  },
  {
   "cell_type": "code",
   "execution_count": 48,
   "metadata": {
    "execution": {
     "iopub.execute_input": "2022-06-13T08:55:45.095174Z",
     "iopub.status.busy": "2022-06-13T08:55:45.094304Z",
     "iopub.status.idle": "2022-06-13T08:55:45.097023Z",
     "shell.execute_reply": "2022-06-13T08:55:45.097543Z"
    }
   },
   "outputs": [],
   "source": [
    "# first entry of the time series list\n",
    "ts_entry = tss[0]"
   ]
  },
  {
   "cell_type": "code",
   "execution_count": 49,
   "metadata": {
    "execution": {
     "iopub.execute_input": "2022-06-13T08:55:45.103677Z",
     "iopub.status.busy": "2022-06-13T08:55:45.102512Z",
     "iopub.status.idle": "2022-06-13T08:55:45.106382Z",
     "shell.execute_reply": "2022-06-13T08:55:45.106952Z"
    }
   },
   "outputs": [
    {
     "data": {
      "text/plain": [
       "array([1.5292157 , 0.85025036, 0.7740374 , 0.941432  , 0.6723822 ],\n",
       "      dtype=float32)"
      ]
     },
     "execution_count": 49,
     "metadata": {},
     "output_type": "execute_result"
    }
   ],
   "source": [
    "# first 5 values of the time series (convert from pandas to numpy)\n",
    "np.array(ts_entry[:5]).reshape(-1,)"
   ]
  },
  {
   "cell_type": "code",
   "execution_count": 50,
   "metadata": {
    "execution": {
     "iopub.execute_input": "2022-06-13T08:55:45.111383Z",
     "iopub.status.busy": "2022-06-13T08:55:45.110614Z",
     "iopub.status.idle": "2022-06-13T08:55:45.112757Z",
     "shell.execute_reply": "2022-06-13T08:55:45.113214Z"
    }
   },
   "outputs": [],
   "source": [
    "# first entry of test_ds\n",
    "test_ds_entry = next(iter(test_ds))"
   ]
  },
  {
   "cell_type": "code",
   "execution_count": 51,
   "metadata": {
    "execution": {
     "iopub.execute_input": "2022-06-13T08:55:45.117559Z",
     "iopub.status.busy": "2022-06-13T08:55:45.116571Z",
     "iopub.status.idle": "2022-06-13T08:55:45.119956Z",
     "shell.execute_reply": "2022-06-13T08:55:45.120424Z"
    }
   },
   "outputs": [
    {
     "data": {
      "text/plain": [
       "array([1.5292157 , 0.85025036, 0.7740374 , 0.941432  , 0.6723822 ],\n",
       "      dtype=float32)"
      ]
     },
     "execution_count": 51,
     "metadata": {},
     "output_type": "execute_result"
    }
   ],
   "source": [
    "# first 5 values\n",
    "test_ds_entry['target'][:5]"
   ]
  },
  {
   "cell_type": "markdown",
   "metadata": {},
   "source": [
    "The entries in the `forecast` list are a bit more complex. They are objects that contain all the sample paths in the form of `numpy.ndarray` with dimension `(num_samples, prediction_length)`, the start date of the forecast, the frequency of the time series, etc. We can access all these information by simply invoking the corresponding attribute of the forecast object."
   ]
  },
  {
   "cell_type": "code",
   "execution_count": 52,
   "metadata": {
    "execution": {
     "iopub.execute_input": "2022-06-13T08:55:45.124412Z",
     "iopub.status.busy": "2022-06-13T08:55:45.123524Z",
     "iopub.status.idle": "2022-06-13T08:55:45.125963Z",
     "shell.execute_reply": "2022-06-13T08:55:45.126392Z"
    }
   },
   "outputs": [],
   "source": [
    "# first entry of the forecast list\n",
    "forecast_entry = forecasts[0]"
   ]
  },
  {
   "cell_type": "code",
   "execution_count": 53,
   "metadata": {
    "execution": {
     "iopub.execute_input": "2022-06-13T08:55:45.130490Z",
     "iopub.status.busy": "2022-06-13T08:55:45.129722Z",
     "iopub.status.idle": "2022-06-13T08:55:45.132315Z",
     "shell.execute_reply": "2022-06-13T08:55:45.132743Z"
    }
   },
   "outputs": [
    {
     "name": "stdout",
     "output_type": "stream",
     "text": [
      "Number of sample paths: 100\n",
      "Dimension of samples: (100, 24)\n",
      "Start date of the forecast window: 2019-01-07 00:00\n",
      "Frequency of the time series: <Hour>\n"
     ]
    }
   ],
   "source": [
    "print(f\"Number of sample paths: {forecast_entry.num_samples}\")\n",
    "print(f\"Dimension of samples: {forecast_entry.samples.shape}\")\n",
    "print(f\"Start date of the forecast window: {forecast_entry.start_date}\")\n",
    "print(f\"Frequency of the time series: {forecast_entry.freq}\")"
   ]
  },
  {
   "cell_type": "markdown",
   "metadata": {},
   "source": [
    "We can also do calculations to summarize the sample paths, such as computing the mean or a quantile for each of the 24 time steps in the forecast window."
   ]
  },
  {
   "cell_type": "code",
   "execution_count": 54,
   "metadata": {
    "execution": {
     "iopub.execute_input": "2022-06-13T08:55:45.136873Z",
     "iopub.status.busy": "2022-06-13T08:55:45.136122Z",
     "iopub.status.idle": "2022-06-13T08:55:45.139374Z",
     "shell.execute_reply": "2022-06-13T08:55:45.139805Z"
    }
   },
   "outputs": [
    {
     "name": "stdout",
     "output_type": "stream",
     "text": [
      "Mean of the future window:\n",
      " [ 0.9325081   0.42344594  0.6410389   0.32837266  0.07866155  0.07445939\n",
      " -0.14185278  0.19504751  0.07800539  0.44639206  0.6214713   0.93874353\n",
      "  1.0759872   1.2639699   1.6049056   1.9173782   1.8374654   1.8084614\n",
      "  1.9578192   1.8212903   1.7286431   1.5800558   1.257884    1.1592294 ]\n",
      "0.5-quantile (median) of the future window:\n",
      " [ 0.90331984  0.50012326  0.6727759   0.36360857  0.0816559   0.09091982\n",
      " -0.11844088  0.17335594  0.10704559  0.4449452   0.66597533  0.94671667\n",
      "  1.097261    1.2285546   1.5955487   1.9096934   1.8352115   1.81152\n",
      "  1.9721138   1.8075656   1.7403402   1.5337147   1.2483954   1.1800429 ]\n"
     ]
    }
   ],
   "source": [
    "print(f\"Mean of the future window:\\n {forecast_entry.mean}\")\n",
    "print(f\"0.5-quantile (median) of the future window:\\n {forecast_entry.quantile(0.5)}\")"
   ]
  },
  {
   "cell_type": "markdown",
   "metadata": {},
   "source": [
    "`Forecast` objects have a `plot` method that can summarize the forecast paths as the mean, prediction intervals, etc. The prediction intervals are shaded in different colors as a \"fan chart\"."
   ]
  },
  {
   "cell_type": "code",
   "execution_count": 55,
   "metadata": {
    "execution": {
     "iopub.execute_input": "2022-06-13T08:55:45.145408Z",
     "iopub.status.busy": "2022-06-13T08:55:45.144631Z",
     "iopub.status.idle": "2022-06-13T08:55:45.146656Z",
     "shell.execute_reply": "2022-06-13T08:55:45.147147Z"
    }
   },
   "outputs": [],
   "source": [
    "def plot_prob_forecasts(ts_entry, forecast_entry):\n",
    "    plot_length = 150 \n",
    "    prediction_intervals = (50.0, 90.0)\n",
    "    legend = [\"observations\", \"median prediction\"] + [f\"{k}% prediction interval\" for k in prediction_intervals][::-1]\n",
    "\n",
    "    fig, ax = plt.subplots(1, 1, figsize=(10, 7))\n",
    "    ts_entry[-plot_length:].plot(ax=ax)  # plot the time series\n",
    "    forecast_entry.plot(prediction_intervals=prediction_intervals, color='g')\n",
    "    plt.grid(which=\"both\")\n",
    "    plt.legend(legend, loc=\"upper left\")\n",
    "    plt.show()"
   ]
  },
  {
   "cell_type": "code",
   "execution_count": 56,
   "metadata": {
    "execution": {
     "iopub.execute_input": "2022-06-13T08:55:45.152418Z",
     "iopub.status.busy": "2022-06-13T08:55:45.150231Z",
     "iopub.status.idle": "2022-06-13T08:55:45.360623Z",
     "shell.execute_reply": "2022-06-13T08:55:45.360102Z"
    }
   },
   "outputs": [
    {
     "data": {
      "image/png": "[encoded data removed]",
      "text/plain": [
       "<Figure size 720x504 with 1 Axes>"
      ]
     },
     "metadata": {
      "needs_background": "light"
     },
     "output_type": "display_data"
    }
   ],
   "source": [
    "plot_prob_forecasts(ts_entry, forecast_entry)"
   ]
  },
  {
   "cell_type": "markdown",
   "metadata": {},
   "source": [
    "### Compute metrics\n",
    "\n",
    "We can also evaluate the quality of our forecasts numerically. In GluonTS, the `Evaluator` class can compute aggregate performance metrics, as well as metrics per time series (which can be useful for analyzing performance across heterogeneous time series)."
   ]
  },
  {
   "cell_type": "code",
   "execution_count": 57,
   "metadata": {
    "execution": {
     "iopub.execute_input": "2022-06-13T08:55:45.364904Z",
     "iopub.status.busy": "2022-06-13T08:55:45.363907Z",
     "iopub.status.idle": "2022-06-13T08:55:45.366867Z",
     "shell.execute_reply": "2022-06-13T08:55:45.367291Z"
    }
   },
   "outputs": [],
   "source": [
    "from gluonts.evaluation import Evaluator"
   ]
  },
  {
   "cell_type": "code",
   "execution_count": 58,
   "metadata": {
    "execution": {
     "iopub.execute_input": "2022-06-13T08:55:45.371542Z",
     "iopub.status.busy": "2022-06-13T08:55:45.370839Z",
     "iopub.status.idle": "2022-06-13T08:55:45.677510Z",
     "shell.execute_reply": "2022-06-13T08:55:45.678194Z"
    }
   },
   "outputs": [
    {
     "name": "stderr",
     "output_type": "stream",
     "text": [
      "\r",
      "Running evaluation:   0%|                                                                           | 0/100 [00:00<?, ?it/s]"
     ]
    },
    {
     "name": "stderr",
     "output_type": "stream",
     "text": [
      "\r",
      "Running evaluation: 100%|███████████████████████████████████████████████████████████████| 100/100 [00:00<00:00, 1379.81it/s]"
     ]
    },
    {
     "name": "stderr",
     "output_type": "stream",
     "text": [
      "\n"
     ]
    }
   ],
   "source": [
    "evaluator = Evaluator(quantiles=[0.1, 0.5, 0.9])\n",
    "agg_metrics, item_metrics = evaluator(iter(tss), iter(forecasts), num_series=len(test_ds))"
   ]
  },
  {
   "cell_type": "markdown",
   "metadata": {},
   "source": [
    "Aggregate metrics aggregate both across time-steps and across time series."
   ]
  },
  {
   "cell_type": "code",
   "execution_count": 59,
   "metadata": {
    "execution": {
     "iopub.execute_input": "2022-06-13T08:55:45.684449Z",
     "iopub.status.busy": "2022-06-13T08:55:45.683666Z",
     "iopub.status.idle": "2022-06-13T08:55:45.686536Z",
     "shell.execute_reply": "2022-06-13T08:55:45.687178Z"
    }
   },
   "outputs": [
    {
     "name": "stdout",
     "output_type": "stream",
     "text": [
      "{\n",
      "    \"MSE\": 0.11028172721465429,\n",
      "    \"abs_error\": 632.8662009239197,\n",
      "    \"abs_target_sum\": 2505.765546798706,\n",
      "    \"abs_target_mean\": 1.0440689778327943,\n",
      "    \"seasonal_error\": 0.3378558193842571,\n",
      "    \"MASE\": 0.7880705590347453,\n",
      "    \"MAPE\": 2.1314925642808276,\n",
      "    \"sMAPE\": 0.5338235131899514,\n",
      "    \"MSIS\": 5.616316450037149,\n",
      "    \"QuantileLoss[0.1]\": 278.89773178361355,\n",
      "    \"Coverage[0.1]\": 0.09000000000000002,\n",
      "    \"QuantileLoss[0.5]\": 632.8661977155134,\n",
      "    \"Coverage[0.5]\": 0.48833333333333334,\n",
      "    \"QuantileLoss[0.9]\": 300.9366287440061,\n",
      "    \"Coverage[0.9]\": 0.8875,\n",
      "    \"RMSE\": 0.3320869271962603,\n",
      "    \"NRMSE\": 0.3180699113248085,\n",
      "    \"ND\": 0.2525640125160358,\n",
      "    \"wQuantileLoss[0.1]\": 0.11130240502345691,\n",
      "    \"wQuantileLoss[0.5]\": 0.2525640112356262,\n",
      "    \"wQuantileLoss[0.9]\": 0.12009767997986646,\n",
      "    \"mean_absolute_QuantileLoss\": 404.2335194143777,\n",
      "    \"mean_wQuantileLoss\": 0.1613213654129832,\n",
      "    \"MAE_Coverage\": 0.011388888888888902,\n",
      "    \"OWA\": NaN\n",
      "}\n"
     ]
    }
   ],
   "source": [
    "print(json.dumps(agg_metrics, indent=4))"
   ]
  },
  {
   "cell_type": "markdown",
   "metadata": {},
   "source": [
    "Individual metrics are aggregated only across time-steps."
   ]
  },
  {
   "cell_type": "code",
   "execution_count": 60,
   "metadata": {
    "execution": {
     "iopub.execute_input": "2022-06-13T08:55:45.693002Z",
     "iopub.status.busy": "2022-06-13T08:55:45.692216Z",
     "iopub.status.idle": "2022-06-13T08:55:45.711657Z",
     "shell.execute_reply": "2022-06-13T08:55:45.712460Z"
    }
   },
   "outputs": [
    {
     "data": {
      "text/html": [
       "<div>\n",
       "<style scoped>\n",
       "    .dataframe tbody tr th:only-of-type {\n",
       "        vertical-align: middle;\n",
       "    }\n",
       "\n",
       "    .dataframe tbody tr th {\n",
       "        vertical-align: top;\n",
       "    }\n",
       "\n",
       "    .dataframe thead th {\n",
       "        text-align: right;\n",
       "    }\n",
       "</style>\n",
       "<table border=\"1\" class=\"dataframe\">\n",
       "  <thead>\n",
       "    <tr style=\"text-align: right;\">\n",
       "      <th></th>\n",
       "      <th>item_id</th>\n",
       "      <th>MSE</th>\n",
       "      <th>abs_error</th>\n",
       "      <th>abs_target_sum</th>\n",
       "      <th>abs_target_mean</th>\n",
       "      <th>seasonal_error</th>\n",
       "      <th>MASE</th>\n",
       "      <th>MAPE</th>\n",
       "      <th>sMAPE</th>\n",
       "      <th>ND</th>\n",
       "      <th>MSIS</th>\n",
       "      <th>QuantileLoss[0.1]</th>\n",
       "      <th>Coverage[0.1]</th>\n",
       "      <th>QuantileLoss[0.5]</th>\n",
       "      <th>Coverage[0.5]</th>\n",
       "      <th>QuantileLoss[0.9]</th>\n",
       "      <th>Coverage[0.9]</th>\n",
       "    </tr>\n",
       "  </thead>\n",
       "  <tbody>\n",
       "    <tr>\n",
       "      <th>0</th>\n",
       "      <td>NaN</td>\n",
       "      <td>0.143016</td>\n",
       "      <td>7.758639</td>\n",
       "      <td>24.638548</td>\n",
       "      <td>1.026606</td>\n",
       "      <td>0.351642</td>\n",
       "      <td>0.919336</td>\n",
       "      <td>0.958919</td>\n",
       "      <td>0.656756</td>\n",
       "      <td>0.314898</td>\n",
       "      <td>5.135024</td>\n",
       "      <td>2.529837</td>\n",
       "      <td>0.083333</td>\n",
       "      <td>7.758639</td>\n",
       "      <td>0.583333</td>\n",
       "      <td>3.507080</td>\n",
       "      <td>0.875000</td>\n",
       "    </tr>\n",
       "    <tr>\n",
       "      <th>1</th>\n",
       "      <td>NaN</td>\n",
       "      <td>0.107110</td>\n",
       "      <td>5.870079</td>\n",
       "      <td>22.178631</td>\n",
       "      <td>0.924110</td>\n",
       "      <td>0.340241</td>\n",
       "      <td>0.718862</td>\n",
       "      <td>1.509559</td>\n",
       "      <td>0.550516</td>\n",
       "      <td>0.264673</td>\n",
       "      <td>4.859853</td>\n",
       "      <td>2.473792</td>\n",
       "      <td>0.083333</td>\n",
       "      <td>5.870079</td>\n",
       "      <td>0.666667</td>\n",
       "      <td>2.718595</td>\n",
       "      <td>0.916667</td>\n",
       "    </tr>\n",
       "    <tr>\n",
       "      <th>2</th>\n",
       "      <td>NaN</td>\n",
       "      <td>0.160152</td>\n",
       "      <td>7.503419</td>\n",
       "      <td>26.601139</td>\n",
       "      <td>1.108381</td>\n",
       "      <td>0.323560</td>\n",
       "      <td>0.966259</td>\n",
       "      <td>0.471024</td>\n",
       "      <td>0.619295</td>\n",
       "      <td>0.282071</td>\n",
       "      <td>7.831571</td>\n",
       "      <td>3.357761</td>\n",
       "      <td>0.083333</td>\n",
       "      <td>7.503419</td>\n",
       "      <td>0.500000</td>\n",
       "      <td>3.995045</td>\n",
       "      <td>0.791667</td>\n",
       "    </tr>\n",
       "    <tr>\n",
       "      <th>3</th>\n",
       "      <td>NaN</td>\n",
       "      <td>0.111842</td>\n",
       "      <td>6.408131</td>\n",
       "      <td>22.502333</td>\n",
       "      <td>0.937597</td>\n",
       "      <td>0.311026</td>\n",
       "      <td>0.858467</td>\n",
       "      <td>1.047766</td>\n",
       "      <td>0.614644</td>\n",
       "      <td>0.284776</td>\n",
       "      <td>6.441522</td>\n",
       "      <td>3.169918</td>\n",
       "      <td>0.166667</td>\n",
       "      <td>6.408131</td>\n",
       "      <td>0.583333</td>\n",
       "      <td>3.326974</td>\n",
       "      <td>0.958333</td>\n",
       "    </tr>\n",
       "    <tr>\n",
       "      <th>4</th>\n",
       "      <td>NaN</td>\n",
       "      <td>0.058205</td>\n",
       "      <td>4.480354</td>\n",
       "      <td>25.864388</td>\n",
       "      <td>1.077683</td>\n",
       "      <td>0.313119</td>\n",
       "      <td>0.596199</td>\n",
       "      <td>1.010988</td>\n",
       "      <td>0.391646</td>\n",
       "      <td>0.173225</td>\n",
       "      <td>6.240303</td>\n",
       "      <td>2.515967</td>\n",
       "      <td>0.000000</td>\n",
       "      <td>4.480354</td>\n",
       "      <td>0.500000</td>\n",
       "      <td>2.862365</td>\n",
       "      <td>0.875000</td>\n",
       "    </tr>\n",
       "  </tbody>\n",
       "</table>\n",
       "</div>"
      ],
      "text/plain": [
       "   item_id       MSE  abs_error  abs_target_sum  abs_target_mean  \\\n",
       "0      NaN  0.143016   7.758639       24.638548         1.026606   \n",
       "1      NaN  0.107110   5.870079       22.178631         0.924110   \n",
       "2      NaN  0.160152   7.503419       26.601139         1.108381   \n",
       "3      NaN  0.111842   6.408131       22.502333         0.937597   \n",
       "4      NaN  0.058205   4.480354       25.864388         1.077683   \n",
       "\n",
       "   seasonal_error      MASE      MAPE     sMAPE        ND      MSIS  \\\n",
       "0        0.351642  0.919336  0.958919  0.656756  0.314898  5.135024   \n",
       "1        0.340241  0.718862  1.509559  0.550516  0.264673  4.859853   \n",
       "2        0.323560  0.966259  0.471024  0.619295  0.282071  7.831571   \n",
       "3        0.311026  0.858467  1.047766  0.614644  0.284776  6.441522   \n",
       "4        0.313119  0.596199  1.010988  0.391646  0.173225  6.240303   \n",
       "\n",
       "   QuantileLoss[0.1]  Coverage[0.1]  QuantileLoss[0.5]  Coverage[0.5]  \\\n",
       "0           2.529837       0.083333           7.758639       0.583333   \n",
       "1           2.473792       0.083333           5.870079       0.666667   \n",
       "2           3.357761       0.083333           7.503419       0.500000   \n",
       "3           3.169918       0.166667           6.408131       0.583333   \n",
       "4           2.515967       0.000000           4.480354       0.500000   \n",
       "\n",
       "   QuantileLoss[0.9]  Coverage[0.9]  \n",
       "0           3.507080       0.875000  \n",
       "1           2.718595       0.916667  \n",
       "2           3.995045       0.791667  \n",
       "3           3.326974       0.958333  \n",
       "4           2.862365       0.875000  "
      ]
     },
     "execution_count": 60,
     "metadata": {},
     "output_type": "execute_result"
    }
   ],
   "source": [
    "item_metrics.head()"
   ]
  },
  {
   "cell_type": "code",
   "execution_count": 61,
   "metadata": {
    "execution": {
     "iopub.execute_input": "2022-06-13T08:55:45.727887Z",
     "iopub.status.busy": "2022-06-13T08:55:45.726135Z",
     "iopub.status.idle": "2022-06-13T08:55:45.849254Z",
     "shell.execute_reply": "2022-06-13T08:55:45.849860Z"
    }
   },
   "outputs": [
    {
     "data": {
      "image/png": "[encoded data removed]",
      "text/plain": [
       "<Figure size 432x288 with 1 Axes>"
      ]
     },
     "metadata": {
      "needs_background": "light"
     },
     "output_type": "display_data"
    }
   ],
   "source": [
    "item_metrics.plot(x='MSIS', y='MASE', kind='scatter')\n",
    "plt.grid(which=\"both\")\n",
    "plt.show()"
   ]
  },
  {
   "cell_type": "markdown",
   "metadata": {},
   "source": [
    "## Create your own model\n",
    "\n",
    "For creating our own forecast model we need to:\n",
    "\n",
    "- Define the training and prediction network\n",
    "- Define a new estimator that specifies any data processing and uses the networks\n",
    "\n",
    "The training and prediction networks can be arbitrarily complex but they should follow some basic rules:\n",
    "\n",
    "- Both should have a `hybrid_forward` method that defines what should happen when the network is called    \n",
    "- The training network's `hybrid_forward` should return a **loss** based on the prediction and the true values\n",
    "- The prediction network's `hybrid_forward` should return the predictions \n",
    "\n",
    "The estimator should also include the following methods:\n",
    "\n",
    "- `create_transformation`, defining all the data pre-processing transformations (like adding features)\n",
    "- `create_training_data_loader`, constructing the data loader that gives batches to be used in training, out of a given dataset\n",
    "- `create_training_network`, returning the training network configured with any necessary hyperparameters\n",
    "- `create_predictor`, creting the prediction network, and returning a `Predictor` object \n",
    "\n",
    "If a validation dataset is to be accepted, for some validation metric to be computed, then also the following should be defined:\n",
    "\n",
    "- `create_validation_data_loader`\n",
    "\n",
    "A `Predictor` defines the `predictor.predict` method of a given predictor. This method takes the test dataset, it passes it through the prediction network to take the predictions, and yields the predictions. You can think of the `Predictor` object as a wrapper of the prediction network that defines its `predict` method. \n",
    "\n",
    "In this section, we will start simple by creating a feedforward network that is restricted to point forecasts. Then, we will add complexity to the network by expanding it to probabilistic forecasting, considering features and scaling of the time series, and in the end we will replace it with an RNN.\n",
    "\n",
    "We need to emphasize that the way the following models are implemented and all the design choices that are made are neither binding nor necessarily optimal. Their sole purpose is to provide guidelines and hints on how to build a model. \n",
    "\n",
    "### Point forecasts with a simple feedforward network\n",
    "\n",
    "We can create a simple training network that defines a neural network that takes as input a window of length `context_length` and predicts the subsequent window of dimension `prediction_length` (thus, the output dimension of the network is `prediction_length`). The `hybrid_forward` method of the training network returns the mean of the L1 loss. \n",
    "\n",
    "The prediction network is (and should be) identical to the training network (by inheriting the class) and its `hybrid_forward` method returns the predictions."
   ]
  },
  {
   "cell_type": "code",
   "execution_count": 62,
   "metadata": {
    "execution": {
     "iopub.execute_input": "2022-06-13T08:55:45.857270Z",
     "iopub.status.busy": "2022-06-13T08:55:45.856608Z",
     "iopub.status.idle": "2022-06-13T08:55:45.859610Z",
     "shell.execute_reply": "2022-06-13T08:55:45.860028Z"
    }
   },
   "outputs": [],
   "source": [
    "class MyNetwork(gluon.HybridBlock):\n",
    "    def __init__(self, prediction_length, num_cells, **kwargs):\n",
    "        super().__init__(**kwargs)\n",
    "        self.prediction_length = prediction_length\n",
    "        self.num_cells = num_cells\n",
    "    \n",
    "        with self.name_scope():\n",
    "            # Set up a 3 layer neural network that directly predicts the target values\n",
    "            self.nn = mx.gluon.nn.HybridSequential()\n",
    "            self.nn.add(mx.gluon.nn.Dense(units=self.num_cells, activation='relu'))\n",
    "            self.nn.add(mx.gluon.nn.Dense(units=self.num_cells, activation='relu'))\n",
    "            self.nn.add(mx.gluon.nn.Dense(units=self.prediction_length, activation='softrelu'))\n",
    "\n",
    "\n",
    "class MyTrainNetwork(MyNetwork):    \n",
    "    def hybrid_forward(self, F, past_target, future_target):\n",
    "        prediction = self.nn(past_target)\n",
    "        # calculate L1 loss with the future_target to learn the median\n",
    "        return (prediction - future_target).abs().mean(axis=-1)\n",
    "\n",
    "\n",
    "class MyPredNetwork(MyTrainNetwork):\n",
    "    # The prediction network only receives past_target and returns predictions\n",
    "    def hybrid_forward(self, F, past_target):\n",
    "        prediction = self.nn(past_target)\n",
    "        return prediction.expand_dims(axis=1)"
   ]
  },
  {
   "cell_type": "markdown",
   "metadata": {},
   "source": [
    "The estimator class is configured by a few hyperparameters and implements the required methods."
   ]
  },
  {
   "cell_type": "code",
   "execution_count": 63,
   "metadata": {
    "execution": {
     "iopub.execute_input": "2022-06-13T08:55:45.865225Z",
     "iopub.status.busy": "2022-06-13T08:55:45.864448Z",
     "iopub.status.idle": "2022-06-13T08:55:45.866560Z",
     "shell.execute_reply": "2022-06-13T08:55:45.867053Z"
    }
   },
   "outputs": [],
   "source": [
    "from functools import partial\n",
    "from mxnet.gluon import HybridBlock\n",
    "from gluonts.core.component import validated\n",
    "from gluonts.dataset.loader import TrainDataLoader\n",
    "from gluonts.model.predictor import Predictor\n",
    "from gluonts.mx import (\n",
    "    as_in_context, \n",
    "    batchify,\n",
    "    copy_parameters, \n",
    "    get_hybrid_forward_input_names,\n",
    "    GluonEstimator,\n",
    "    RepresentableBlockPredictor,\n",
    "    Trainer,\n",
    ")\n",
    "from gluonts.transform import (\n",
    "    ExpectedNumInstanceSampler,\n",
    "    Transformation,\n",
    "    InstanceSplitter,\n",
    "    TestSplitSampler,\n",
    "    SelectFields,\n",
    "    Chain\n",
    ")"
   ]
  },
  {
   "cell_type": "code",
   "execution_count": 64,
   "metadata": {
    "execution": {
     "iopub.execute_input": "2022-06-13T08:55:45.880269Z",
     "iopub.status.busy": "2022-06-13T08:55:45.879310Z",
     "iopub.status.idle": "2022-06-13T08:55:45.881745Z",
     "shell.execute_reply": "2022-06-13T08:55:45.882239Z"
    }
   },
   "outputs": [],
   "source": [
    "class MyEstimator(GluonEstimator):\n",
    "    @validated()\n",
    "    def __init__(\n",
    "        self,\n",
    "        prediction_length: int,\n",
    "        context_length: int,\n",
    "        freq: str,\n",
    "        num_cells: int,\n",
    "        batch_size: int = 32,\n",
    "        trainer: Trainer = Trainer()\n",
    "    ) -> None:\n",
    "        super().__init__(trainer=trainer, batch_size=batch_size)\n",
    "        self.prediction_length = prediction_length\n",
    "        self.context_length = context_length\n",
    "        self.freq = freq\n",
    "        self.num_cells = num_cells\n",
    "            \n",
    "    def create_transformation(self):\n",
    "        return Chain([])\n",
    "    \n",
    "    def create_training_data_loader(self, dataset, **kwargs):\n",
    "        instance_splitter = InstanceSplitter(\n",
    "            target_field=FieldName.TARGET,\n",
    "            is_pad_field=FieldName.IS_PAD,\n",
    "            start_field=FieldName.START,\n",
    "            forecast_start_field=FieldName.FORECAST_START,\n",
    "            instance_sampler=ExpectedNumInstanceSampler(\n",
    "                num_instances=1,\n",
    "                min_future=self.prediction_length\n",
    "            ),\n",
    "            past_length=self.context_length,\n",
    "            future_length=self.prediction_length,\n",
    "        )\n",
    "        input_names = get_hybrid_forward_input_names(MyTrainNetwork)\n",
    "        return TrainDataLoader(\n",
    "            dataset=dataset,\n",
    "            transform=instance_splitter + SelectFields(input_names),\n",
    "            batch_size=self.batch_size,\n",
    "            stack_fn=partial(batchify, ctx=self.trainer.ctx, dtype=self.dtype),\n",
    "            decode_fn=partial(as_in_context, ctx=self.trainer.ctx),\n",
    "            **kwargs,\n",
    "        )\n",
    "    \n",
    "    def create_training_network(self) -> MyTrainNetwork:\n",
    "        return MyTrainNetwork(\n",
    "            prediction_length=self.prediction_length,\n",
    "            num_cells = self.num_cells\n",
    "        )\n",
    "\n",
    "    def create_predictor(\n",
    "        self, transformation: Transformation, trained_network: HybridBlock\n",
    "    ) -> Predictor:\n",
    "        prediction_splitter = InstanceSplitter(\n",
    "            target_field=FieldName.TARGET,\n",
    "            is_pad_field=FieldName.IS_PAD,\n",
    "            start_field=FieldName.START,\n",
    "            forecast_start_field=FieldName.FORECAST_START,\n",
    "            instance_sampler=TestSplitSampler(),\n",
    "            past_length=self.context_length,\n",
    "            future_length=self.prediction_length,\n",
    "        )\n",
    "\n",
    "        prediction_network = MyPredNetwork(\n",
    "            prediction_length=self.prediction_length,\n",
    "            num_cells=self.num_cells\n",
    "        )\n",
    "\n",
    "        copy_parameters(trained_network, prediction_network)\n",
    "\n",
    "        return RepresentableBlockPredictor(\n",
    "            input_transform=transformation + prediction_splitter,\n",
    "            prediction_net=prediction_network,\n",
    "            batch_size=self.trainer.batch_size,\n",
    "            freq=self.freq,\n",
    "            prediction_length=self.prediction_length,\n",
    "            ctx=self.trainer.ctx,\n",
    "        )"
   ]
  },
  {
   "cell_type": "markdown",
   "metadata": {},
   "source": [
    "After defining the training and prediction network, as well as the estimator class, we can follow exactly the same steps as with the existing models, i.e., we can specify our estimator by passing all the required hyperparameters to the estimator class, train the estimator by invoking its `train` method to create a predictor, and finally use the `make_evaluation_predictions` function to generate our forecasts."
   ]
  },
  {
   "cell_type": "code",
   "execution_count": 65,
   "metadata": {
    "execution": {
     "iopub.execute_input": "2022-06-13T08:55:45.888126Z",
     "iopub.status.busy": "2022-06-13T08:55:45.887243Z",
     "iopub.status.idle": "2022-06-13T08:55:45.889598Z",
     "shell.execute_reply": "2022-06-13T08:55:45.890124Z"
    }
   },
   "outputs": [],
   "source": [
    "estimator = MyEstimator(\n",
    "    prediction_length=custom_ds_metadata['prediction_length'],\n",
    "    context_length=2*custom_ds_metadata['prediction_length'],\n",
    "    freq=custom_ds_metadata['freq'],\n",
    "    num_cells=40,\n",
    "    trainer=Trainer(\n",
    "        ctx=\"cpu\",\n",
    "        epochs=5, \n",
    "        learning_rate=1e-3, \n",
    "        hybridize=False, \n",
    "        num_batches_per_epoch=100\n",
    "    )\n",
    ")"
   ]
  },
  {
   "cell_type": "markdown",
   "metadata": {},
   "source": [
    "The estimator can be trained using our training dataset `train_ds` just by invoking its `train` method. The training returns a predictor that can be used to predict."
   ]
  },
  {
   "cell_type": "code",
   "execution_count": 66,
   "metadata": {
    "execution": {
     "iopub.execute_input": "2022-06-13T08:55:45.895141Z",
     "iopub.status.busy": "2022-06-13T08:55:45.894504Z",
     "iopub.status.idle": "2022-06-13T08:55:48.237243Z",
     "shell.execute_reply": "2022-06-13T08:55:48.237667Z"
    }
   },
   "outputs": [
    {
     "name": "stderr",
     "output_type": "stream",
     "text": [
      "\r",
      "  0%|                                                                                               | 0/100 [00:00<?, ?it/s]"
     ]
    },
    {
     "name": "stderr",
     "output_type": "stream",
     "text": [
      "\r",
      "100%|███████████████████████████████████████████████████| 100/100 [00:00<00:00, 243.44it/s, epoch=1/5, avg_epoch_loss=0.462]"
     ]
    },
    {
     "name": "stderr",
     "output_type": "stream",
     "text": [
      "\n"
     ]
    },
    {
     "name": "stderr",
     "output_type": "stream",
     "text": [
      "\r",
      "  0%|                                                                                               | 0/100 [00:00<?, ?it/s]"
     ]
    },
    {
     "name": "stderr",
     "output_type": "stream",
     "text": [
      "\r",
      "100%|███████████████████████████████████████████████████| 100/100 [00:00<00:00, 151.41it/s, epoch=2/5, avg_epoch_loss=0.318]"
     ]
    },
    {
     "name": "stderr",
     "output_type": "stream",
     "text": [
      "\n"
     ]
    },
    {
     "name": "stderr",
     "output_type": "stream",
     "text": [
      "\r",
      "  0%|                                                                                               | 0/100 [00:00<?, ?it/s]"
     ]
    },
    {
     "name": "stderr",
     "output_type": "stream",
     "text": [
      "\r",
      "100%|███████████████████████████████████████████████████| 100/100 [00:00<00:00, 235.37it/s, epoch=3/5, avg_epoch_loss=0.306]"
     ]
    },
    {
     "name": "stderr",
     "output_type": "stream",
     "text": [
      "\n"
     ]
    },
    {
     "name": "stderr",
     "output_type": "stream",
     "text": [
      "\r",
      "  0%|                                                                                               | 0/100 [00:00<?, ?it/s]"
     ]
    },
    {
     "name": "stderr",
     "output_type": "stream",
     "text": [
      "\r",
      "100%|███████████████████████████████████████████████████| 100/100 [00:00<00:00, 247.04it/s, epoch=4/5, avg_epoch_loss=0.294]"
     ]
    },
    {
     "name": "stderr",
     "output_type": "stream",
     "text": [
      "\n"
     ]
    },
    {
     "name": "stderr",
     "output_type": "stream",
     "text": [
      "\r",
      "  0%|                                                                                               | 0/100 [00:00<?, ?it/s]"
     ]
    },
    {
     "name": "stderr",
     "output_type": "stream",
     "text": [
      "\r",
      "100%|███████████████████████████████████████████████████| 100/100 [00:00<00:00, 244.76it/s, epoch=5/5, avg_epoch_loss=0.292]"
     ]
    },
    {
     "name": "stderr",
     "output_type": "stream",
     "text": [
      "\n"
     ]
    }
   ],
   "source": [
    "predictor = estimator.train(train_ds)"
   ]
  },
  {
   "cell_type": "code",
   "execution_count": 67,
   "metadata": {
    "execution": {
     "iopub.execute_input": "2022-06-13T08:55:48.241889Z",
     "iopub.status.busy": "2022-06-13T08:55:48.241111Z",
     "iopub.status.idle": "2022-06-13T08:55:48.243161Z",
     "shell.execute_reply": "2022-06-13T08:55:48.243646Z"
    }
   },
   "outputs": [],
   "source": [
    "forecast_it, ts_it = make_evaluation_predictions(\n",
    "    dataset=test_ds,  # test dataset\n",
    "    predictor=predictor,  # predictor\n",
    "    num_samples=100,  # number of sample paths we want for evaluation\n",
    ")"
   ]
  },
  {
   "cell_type": "code",
   "execution_count": 68,
   "metadata": {
    "execution": {
     "iopub.execute_input": "2022-06-13T08:55:48.249662Z",
     "iopub.status.busy": "2022-06-13T08:55:48.248701Z",
     "iopub.status.idle": "2022-06-13T08:55:48.522525Z",
     "shell.execute_reply": "2022-06-13T08:55:48.523118Z"
    }
   },
   "outputs": [],
   "source": [
    "forecasts = list(forecast_it)\n",
    "tss = list(ts_it)"
   ]
  },
  {
   "cell_type": "code",
   "execution_count": 69,
   "metadata": {
    "execution": {
     "iopub.execute_input": "2022-06-13T08:55:48.535856Z",
     "iopub.status.busy": "2022-06-13T08:55:48.533380Z",
     "iopub.status.idle": "2022-06-13T08:55:48.807444Z",
     "shell.execute_reply": "2022-06-13T08:55:48.806852Z"
    }
   },
   "outputs": [
    {
     "data": {
      "image/png": "[encoded data removed]",
      "text/plain": [
       "<Figure size 720x504 with 1 Axes>"
      ]
     },
     "metadata": {
      "needs_background": "light"
     },
     "output_type": "display_data"
    }
   ],
   "source": [
    "plot_prob_forecasts(tss[0], forecasts[0])"
   ]
  },
  {
   "cell_type": "markdown",
   "metadata": {},
   "source": [
    "Observe that we cannot actually see any prediction intervals in the predictions. This is expected since the model that we defined does not do probabilistic forecasting but it just gives point estimates. By requiring 100 sample paths (defined in `make_evaluation_predictions`) in such a network, we get 100 times the same output.\n",
    "\n",
    "### Probabilistic forecasting\n",
    "\n",
    "#### How does a model learn a distribution?\n",
    "\n",
    "Probabilistic forecasting requires that we learn the distribution of the future values of the time series and not the values themselves as in point forecasting. To achieve this, we need to specify the type of distribution that the future values follow. GluonTS comes with a number of different distributions that cover many use cases, such as Gaussian, Student-t and Uniform just to name a few.  \n",
    "\n",
    "\n",
    "In order to learn a distribution we need to learn its parameters. For example, in the simple case where we assume a Gaussian distribution, we need to learn the mean and the variance that fully specify the distribution.\n",
    "\n",
    "Each distribution that is available in GluonTS is defined by the corresponding `Distribution` class (e.g., `Gaussian`). This class defines -among others- the parameters of the distribution, its (log-)likelihood and a sampling method (given the parameters). \n",
    "\n",
    "However, it is not straightforward how to connect a model with such a distribution and learn its parameters. For this, each distribution comes with a `DistributionOutput` class (e.g., `GaussianOutput`). The role of this class is to connect a model with a distribution. Its main usage is to take the output of the model and map it to the parameters of the distribution. You can think of it as an additional projection layer on top of the model. The parameters of this layer are optimized along with the rest of the network.\n",
    "\n",
    "By including this projection layer, our model effectively learns the parameters of the (chosen) distribution of each time step. Such a model is usually optimized by choosing as a loss function the negative log-likelihood of the chosen distribution. After we optimize our model and learn the parameters we can sample or derive any other useful statistics from the learned distributions.\n",
    "\n",
    "#### Feedforward network for probabilistic forecasting\n",
    "\n",
    "Let's see what changes we need to make to the previous model to make it probabilistic: \n",
    "\n",
    "- First, we need to change the output of the network. In the point forecast network the output was a vector of length `prediction_length` that gave directly the point estimates. Now, we need to output a set of features that the `DistributionOutput` will use to project to the distribution parameters. These features should be different for each time step at the prediction horizon. Therefore we need an overall output of `prediction_length * num_features` values.\n",
    "- The `DistributionOutput` takes as input a tensor and uses the last dimension as features to be projected to the distribution parameters. Here, we need a distribution object for each time step, i.e., `prediction_length` distribution objects. Given that the output of the network has `prediction_length * num_features` values, we can reshape it to `(prediction_length, num_features)` and get the required distributions, while the last axis of length `num_features` will be projected to the distribution parameters. \n",
    "- We want the prediction network to output many sample paths for each time series. To achieve this we can repeat each time series as many times as the number of sample paths and do a standard forecast for each of them. \n",
    "\n",
    "Note that in all the tensors that we handle there is an initial dimension that refers to the batch, e.g., the output of the network has dimension `(batch_size, prediction_length * num_features)`."
   ]
  },
  {
   "cell_type": "code",
   "execution_count": 70,
   "metadata": {
    "execution": {
     "iopub.execute_input": "2022-06-13T08:55:48.812295Z",
     "iopub.status.busy": "2022-06-13T08:55:48.810322Z",
     "iopub.status.idle": "2022-06-13T08:55:48.815084Z",
     "shell.execute_reply": "2022-06-13T08:55:48.815669Z"
    }
   },
   "outputs": [],
   "source": [
    "from gluonts.mx import DistributionOutput, GaussianOutput"
   ]
  },
  {
   "cell_type": "code",
   "execution_count": 71,
   "metadata": {
    "execution": {
     "iopub.execute_input": "2022-06-13T08:55:48.829651Z",
     "iopub.status.busy": "2022-06-13T08:55:48.828373Z",
     "iopub.status.idle": "2022-06-13T08:55:48.831222Z",
     "shell.execute_reply": "2022-06-13T08:55:48.831800Z"
    }
   },
   "outputs": [],
   "source": [
    "class MyProbNetwork(gluon.HybridBlock):\n",
    "    def __init__(\n",
    "        self, \n",
    "        prediction_length, \n",
    "        distr_output, \n",
    "        num_cells, \n",
    "        num_sample_paths=100, \n",
    "        **kwargs\n",
    "    ) -> None:\n",
    "        super().__init__(**kwargs)\n",
    "        self.prediction_length = prediction_length\n",
    "        self.distr_output = distr_output\n",
    "        self.num_cells = num_cells\n",
    "        self.num_sample_paths = num_sample_paths\n",
    "        self.proj_distr_args = distr_output.get_args_proj()\n",
    "\n",
    "        with self.name_scope():\n",
    "            # Set up a 2 layer neural network that its ouput will be projected to the distribution parameters\n",
    "            self.nn = mx.gluon.nn.HybridSequential()\n",
    "            self.nn.add(mx.gluon.nn.Dense(units=self.num_cells, activation='relu'))\n",
    "            self.nn.add(mx.gluon.nn.Dense(units=self.prediction_length * self.num_cells, activation='relu'))\n",
    "\n",
    "\n",
    "class MyProbTrainNetwork(MyProbNetwork):\n",
    "    def hybrid_forward(self, F, past_target, future_target):\n",
    "        # compute network output\n",
    "        net_output = self.nn(past_target)\n",
    "\n",
    "        # (batch, prediction_length * nn_features)  ->  (batch, prediction_length, nn_features)\n",
    "        net_output = net_output.reshape(0, self.prediction_length, -1)\n",
    "\n",
    "        # project network output to distribution parameters domain\n",
    "        distr_args = self.proj_distr_args(net_output)\n",
    "\n",
    "        # compute distribution\n",
    "        distr = self.distr_output.distribution(distr_args)\n",
    "\n",
    "        # negative log-likelihood\n",
    "        loss = distr.loss(future_target)\n",
    "        return loss\n",
    "\n",
    "\n",
    "class MyProbPredNetwork(MyProbTrainNetwork):\n",
    "    # The prediction network only receives past_target and returns predictions\n",
    "    def hybrid_forward(self, F, past_target):\n",
    "        # repeat past target: from (batch_size, past_target_length) to \n",
    "        # (batch_size * num_sample_paths, past_target_length)\n",
    "        repeated_past_target = past_target.repeat(\n",
    "            repeats=self.num_sample_paths, axis=0\n",
    "        )\n",
    "        \n",
    "        # compute network output\n",
    "        net_output = self.nn(repeated_past_target)\n",
    "\n",
    "        # (batch * num_sample_paths, prediction_length * nn_features)  ->  (batch * num_sample_paths, prediction_length, nn_features)\n",
    "        net_output = net_output.reshape(0, self.prediction_length, -1)\n",
    "       \n",
    "        # project network output to distribution parameters domain\n",
    "        distr_args = self.proj_distr_args(net_output)\n",
    "\n",
    "        # compute distribution\n",
    "        distr = self.distr_output.distribution(distr_args)\n",
    "\n",
    "        # get (batch_size * num_sample_paths, prediction_length) samples\n",
    "        samples = distr.sample()\n",
    "        \n",
    "        # reshape from (batch_size * num_sample_paths, prediction_length) to \n",
    "        # (batch_size, num_sample_paths, prediction_length)\n",
    "        return samples.reshape(shape=(-1, self.num_sample_paths, self.prediction_length))"
   ]
  },
  {
   "cell_type": "markdown",
   "metadata": {},
   "source": [
    "The changes we need to do at the estimator are minor and they mainly reflect the additional `distr_output` parameter that our networks use."
   ]
  },
  {
   "cell_type": "code",
   "execution_count": 72,
   "metadata": {
    "execution": {
     "iopub.execute_input": "2022-06-13T08:55:48.849688Z",
     "iopub.status.busy": "2022-06-13T08:55:48.848676Z",
     "iopub.status.idle": "2022-06-13T08:55:48.851339Z",
     "shell.execute_reply": "2022-06-13T08:55:48.851984Z"
    }
   },
   "outputs": [],
   "source": [
    "class MyProbEstimator(GluonEstimator):\n",
    "    @validated()\n",
    "    def __init__(\n",
    "        self,\n",
    "        prediction_length: int,\n",
    "        context_length: int,\n",
    "        freq: str,\n",
    "        distr_output: DistributionOutput,\n",
    "        num_cells: int,\n",
    "        num_sample_paths: int = 100,\n",
    "        batch_size: int = 32,\n",
    "        trainer: Trainer = Trainer()\n",
    "    ) -> None:\n",
    "        super().__init__(trainer=trainer, batch_size=batch_size)\n",
    "        self.prediction_length = prediction_length\n",
    "        self.context_length = context_length\n",
    "        self.freq = freq\n",
    "        self.distr_output = distr_output\n",
    "        self.num_cells = num_cells\n",
    "        self.num_sample_paths = num_sample_paths\n",
    "\n",
    "    def create_transformation(self):\n",
    "        return Chain([])\n",
    "    \n",
    "    def create_training_data_loader(self, dataset, **kwargs):\n",
    "        instance_splitter = InstanceSplitter(\n",
    "            target_field=FieldName.TARGET,\n",
    "            is_pad_field=FieldName.IS_PAD,\n",
    "            start_field=FieldName.START,\n",
    "            forecast_start_field=FieldName.FORECAST_START,\n",
    "            instance_sampler=ExpectedNumInstanceSampler(\n",
    "                num_instances=1,\n",
    "                min_future=self.prediction_length\n",
    "            ),\n",
    "            past_length=self.context_length,\n",
    "            future_length=self.prediction_length,\n",
    "        )\n",
    "        input_names = get_hybrid_forward_input_names(MyProbTrainNetwork)\n",
    "        return TrainDataLoader(\n",
    "            dataset=dataset,\n",
    "            transform=instance_splitter + SelectFields(input_names),\n",
    "            batch_size=self.batch_size,\n",
    "            stack_fn=partial(batchify, ctx=self.trainer.ctx, dtype=self.dtype),\n",
    "            decode_fn=partial(as_in_context, ctx=self.trainer.ctx),\n",
    "            **kwargs,\n",
    "        )\n",
    "\n",
    "    def create_training_network(self) -> MyProbTrainNetwork:\n",
    "        return MyProbTrainNetwork(\n",
    "            prediction_length=self.prediction_length,\n",
    "            distr_output=self.distr_output,\n",
    "            num_cells=self.num_cells,\n",
    "            num_sample_paths=self.num_sample_paths\n",
    "        )\n",
    "\n",
    "    def create_predictor(\n",
    "        self, transformation: Transformation, trained_network: HybridBlock\n",
    "    ) -> Predictor:\n",
    "        prediction_splitter = InstanceSplitter(\n",
    "            target_field=FieldName.TARGET,\n",
    "            is_pad_field=FieldName.IS_PAD,\n",
    "            start_field=FieldName.START,\n",
    "            forecast_start_field=FieldName.FORECAST_START,\n",
    "            instance_sampler=TestSplitSampler(),\n",
    "            past_length=self.context_length,\n",
    "            future_length=self.prediction_length,\n",
    "        )\n",
    "\n",
    "        prediction_network = MyProbPredNetwork(\n",
    "            prediction_length=self.prediction_length,\n",
    "            distr_output=self.distr_output,\n",
    "            num_cells=self.num_cells,\n",
    "            num_sample_paths=self.num_sample_paths\n",
    "        )\n",
    "\n",
    "        copy_parameters(trained_network, prediction_network)\n",
    "\n",
    "        return RepresentableBlockPredictor(\n",
    "            input_transform=transformation + prediction_splitter,\n",
    "            prediction_net=prediction_network,\n",
    "            batch_size=self.trainer.batch_size,\n",
    "            freq=self.freq,\n",
    "            prediction_length=self.prediction_length,\n",
    "            ctx=self.trainer.ctx,\n",
    "        )"
   ]
  },
  {
   "cell_type": "code",
   "execution_count": 73,
   "metadata": {
    "execution": {
     "iopub.execute_input": "2022-06-13T08:55:48.859193Z",
     "iopub.status.busy": "2022-06-13T08:55:48.857933Z",
     "iopub.status.idle": "2022-06-13T08:55:48.861287Z",
     "shell.execute_reply": "2022-06-13T08:55:48.861929Z"
    }
   },
   "outputs": [],
   "source": [
    "estimator = MyProbEstimator(\n",
    "    prediction_length=custom_ds_metadata['prediction_length'],\n",
    "    context_length=2*custom_ds_metadata['prediction_length'],\n",
    "    freq=custom_ds_metadata['freq'],\n",
    "    distr_output=GaussianOutput(),\n",
    "    num_cells=40,\n",
    "    trainer=Trainer(\n",
    "        ctx=\"cpu\", \n",
    "        epochs=5, \n",
    "        learning_rate=1e-3, \n",
    "        hybridize=False, \n",
    "        num_batches_per_epoch=100\n",
    "    )\n",
    ")"
   ]
  },
  {
   "cell_type": "code",
   "execution_count": 74,
   "metadata": {
    "execution": {
     "iopub.execute_input": "2022-06-13T08:55:48.868502Z",
     "iopub.status.busy": "2022-06-13T08:55:48.867391Z",
     "iopub.status.idle": "2022-06-13T08:55:51.725552Z",
     "shell.execute_reply": "2022-06-13T08:55:51.726059Z"
    }
   },
   "outputs": [
    {
     "name": "stderr",
     "output_type": "stream",
     "text": [
      "\r",
      "  0%|                                                                                               | 0/100 [00:00<?, ?it/s]"
     ]
    },
    {
     "name": "stderr",
     "output_type": "stream",
     "text": [
      "\r",
      "100%|███████████████████████████████████████████████████| 100/100 [00:00<00:00, 148.35it/s, epoch=1/5, avg_epoch_loss=0.737]"
     ]
    },
    {
     "name": "stderr",
     "output_type": "stream",
     "text": [
      "\n"
     ]
    },
    {
     "name": "stderr",
     "output_type": "stream",
     "text": [
      "\r",
      "  0%|                                                                                               | 0/100 [00:00<?, ?it/s]"
     ]
    },
    {
     "name": "stderr",
     "output_type": "stream",
     "text": [
      "\r",
      "100%|███████████████████████████████████████████████████| 100/100 [00:00<00:00, 198.78it/s, epoch=2/5, avg_epoch_loss=0.398]"
     ]
    },
    {
     "name": "stderr",
     "output_type": "stream",
     "text": [
      "\n"
     ]
    },
    {
     "name": "stderr",
     "output_type": "stream",
     "text": [
      "\r",
      "  0%|                                                                                               | 0/100 [00:00<?, ?it/s]"
     ]
    },
    {
     "name": "stderr",
     "output_type": "stream",
     "text": [
      "\r",
      "100%|███████████████████████████████████████████████████| 100/100 [00:00<00:00, 169.94it/s, epoch=3/5, avg_epoch_loss=0.373]"
     ]
    },
    {
     "name": "stderr",
     "output_type": "stream",
     "text": [
      "\n"
     ]
    },
    {
     "name": "stderr",
     "output_type": "stream",
     "text": [
      "\r",
      "  0%|                                                                                               | 0/100 [00:00<?, ?it/s]"
     ]
    },
    {
     "name": "stderr",
     "output_type": "stream",
     "text": [
      "\r",
      "100%|███████████████████████████████████████████████████| 100/100 [00:00<00:00, 185.00it/s, epoch=4/5, avg_epoch_loss=0.353]"
     ]
    },
    {
     "name": "stderr",
     "output_type": "stream",
     "text": [
      "\n"
     ]
    },
    {
     "name": "stderr",
     "output_type": "stream",
     "text": [
      "\r",
      "  0%|                                                                                               | 0/100 [00:00<?, ?it/s]"
     ]
    },
    {
     "name": "stderr",
     "output_type": "stream",
     "text": [
      "\r",
      "100%|███████████████████████████████████████████████████| 100/100 [00:00<00:00, 195.30it/s, epoch=5/5, avg_epoch_loss=0.344]"
     ]
    },
    {
     "name": "stderr",
     "output_type": "stream",
     "text": [
      "\n"
     ]
    }
   ],
   "source": [
    "predictor = estimator.train(train_ds)"
   ]
  },
  {
   "cell_type": "code",
   "execution_count": 75,
   "metadata": {
    "execution": {
     "iopub.execute_input": "2022-06-13T08:55:51.730257Z",
     "iopub.status.busy": "2022-06-13T08:55:51.729493Z",
     "iopub.status.idle": "2022-06-13T08:55:51.732041Z",
     "shell.execute_reply": "2022-06-13T08:55:51.732550Z"
    }
   },
   "outputs": [],
   "source": [
    "forecast_it, ts_it = make_evaluation_predictions(\n",
    "    dataset=test_ds,  # test dataset\n",
    "    predictor=predictor,  # predictor\n",
    "    num_samples=100,  # number of sample paths we want for evaluation\n",
    ")"
   ]
  },
  {
   "cell_type": "code",
   "execution_count": 76,
   "metadata": {
    "execution": {
     "iopub.execute_input": "2022-06-13T08:55:51.740151Z",
     "iopub.status.busy": "2022-06-13T08:55:51.739287Z",
     "iopub.status.idle": "2022-06-13T08:55:51.829722Z",
     "shell.execute_reply": "2022-06-13T08:55:51.830524Z"
    }
   },
   "outputs": [],
   "source": [
    "forecasts = list(forecast_it)\n",
    "tss = list(ts_it)"
   ]
  },
  {
   "cell_type": "code",
   "execution_count": 77,
   "metadata": {
    "execution": {
     "iopub.execute_input": "2022-06-13T08:55:51.840213Z",
     "iopub.status.busy": "2022-06-13T08:55:51.836860Z",
     "iopub.status.idle": "2022-06-13T08:55:52.042690Z",
     "shell.execute_reply": "2022-06-13T08:55:52.043190Z"
    }
   },
   "outputs": [
    {
     "data": {
      "image/png": "[encoded data removed]",
      "text/plain": [
       "<Figure size 720x504 with 1 Axes>"
      ]
     },
     "metadata": {
      "needs_background": "light"
     },
     "output_type": "display_data"
    }
   ],
   "source": [
    "plot_prob_forecasts(tss[0], forecasts[0])"
   ]
  },
  {
   "cell_type": "markdown",
   "metadata": {},
   "source": [
    "### Add features and scaling\n",
    "\n",
    "In the previous networks we used only the target and did not leverage any of the features of the dataset. Here we expand the probabilistic network by including the `feat_dynamic_real` field of the dataset that could enhance the forecasting power of our model. We achieve this by concatenating the target and the features to an enhanced vector that forms the new network input. \n",
    "\n",
    "All the features that are available in a dataset can be potentially used as inputs to our model. However, for the purposes of this example we will restrict ourselves to using only one feature.\n",
    "\n",
    "An important issue that a practitioner needs to deal with often is the different orders of magnitude in the values of the time series in a dataset. It is extremely helpful for a model to be trained and forecast values that lie roughly in the same value range. To address this issue, we add a `Scaler` to out model, that computes the scale of each time series. Then we can scale accordingly the values of the time series or any related features and use these as inputs to the network."
   ]
  },
  {
   "cell_type": "code",
   "execution_count": 78,
   "metadata": {
    "execution": {
     "iopub.execute_input": "2022-06-13T08:55:52.048615Z",
     "iopub.status.busy": "2022-06-13T08:55:52.047629Z",
     "iopub.status.idle": "2022-06-13T08:55:52.050169Z",
     "shell.execute_reply": "2022-06-13T08:55:52.050856Z"
    }
   },
   "outputs": [],
   "source": [
    "from gluonts.mx import MeanScaler, NOPScaler"
   ]
  },
  {
   "cell_type": "code",
   "execution_count": 79,
   "metadata": {
    "execution": {
     "iopub.execute_input": "2022-06-13T08:55:52.072147Z",
     "iopub.status.busy": "2022-06-13T08:55:52.070751Z",
     "iopub.status.idle": "2022-06-13T08:55:52.073611Z",
     "shell.execute_reply": "2022-06-13T08:55:52.074183Z"
    }
   },
   "outputs": [],
   "source": [
    "class MyProbNetwork(gluon.HybridBlock):\n",
    "    def __init__(\n",
    "        self, \n",
    "        prediction_length, \n",
    "        context_length, \n",
    "        distr_output, \n",
    "        num_cells, \n",
    "        num_sample_paths=100, \n",
    "        scaling=True, \n",
    "        **kwargs\n",
    "    ) -> None:\n",
    "        super().__init__(**kwargs)\n",
    "        self.prediction_length = prediction_length\n",
    "        self.context_length = context_length\n",
    "        self.distr_output = distr_output\n",
    "        self.num_cells = num_cells\n",
    "        self.num_sample_paths = num_sample_paths\n",
    "        self.proj_distr_args = distr_output.get_args_proj()\n",
    "        self.scaling = scaling\n",
    "\n",
    "        with self.name_scope():\n",
    "            # Set up a 2 layer neural network that its ouput will be projected to the distribution parameters\n",
    "            self.nn = mx.gluon.nn.HybridSequential()\n",
    "            self.nn.add(mx.gluon.nn.Dense(units=self.num_cells, activation='relu'))\n",
    "            self.nn.add(mx.gluon.nn.Dense(units=self.prediction_length * self.num_cells, activation='relu'))\n",
    "\n",
    "            if scaling:\n",
    "                self.scaler = MeanScaler(keepdims=True)\n",
    "            else:\n",
    "                self.scaler = NOPScaler(keepdims=True)\n",
    "\n",
    "    def compute_scale(self, past_target, past_observed_values):\n",
    "        # scale shape is (batch_size, 1)\n",
    "        _, scale = self.scaler(\n",
    "            past_target.slice_axis(\n",
    "                axis=1, begin=-self.context_length, end=None\n",
    "            ),\n",
    "            past_observed_values.slice_axis(\n",
    "                axis=1, begin=-self.context_length, end=None\n",
    "            ),\n",
    "        )\n",
    "\n",
    "        return scale\n",
    "\n",
    "\n",
    "class MyProbTrainNetwork(MyProbNetwork):\n",
    "    def hybrid_forward(self, F, past_target, future_target, past_observed_values, past_feat_dynamic_real):\n",
    "        # compute scale \n",
    "        scale = self.compute_scale(past_target, past_observed_values)\n",
    "\n",
    "        # scale target and time features\n",
    "        past_target_scale = F.broadcast_div(past_target, scale)\n",
    "        past_feat_dynamic_real_scale = F.broadcast_div(past_feat_dynamic_real.squeeze(axis=-1), scale)\n",
    "\n",
    "        # concatenate target and time features to use them as input to the network\n",
    "        net_input = F.concat(past_target_scale, past_feat_dynamic_real_scale, dim=-1)\n",
    "\n",
    "        # compute network output\n",
    "        net_output = self.nn(net_input)\n",
    "\n",
    "        # (batch, prediction_length * nn_features)  ->  (batch, prediction_length, nn_features)\n",
    "        net_output = net_output.reshape(0, self.prediction_length, -1)\n",
    "\n",
    "        # project network output to distribution parameters domain\n",
    "        distr_args = self.proj_distr_args(net_output)\n",
    "\n",
    "        # compute distribution\n",
    "        distr = self.distr_output.distribution(distr_args, scale=scale)\n",
    "\n",
    "        # negative log-likelihood\n",
    "        loss = distr.loss(future_target)\n",
    "        return loss\n",
    "\n",
    "\n",
    "class MyProbPredNetwork(MyProbTrainNetwork):\n",
    "    # The prediction network only receives past_target and returns predictions\n",
    "    def hybrid_forward(self, F, past_target, past_observed_values, past_feat_dynamic_real):\n",
    "        # repeat fields: from (batch_size, past_target_length) to\n",
    "        # (batch_size * num_sample_paths, past_target_length)\n",
    "        repeated_past_target = past_target.repeat(\n",
    "            repeats=self.num_sample_paths, axis=0\n",
    "        )\n",
    "        repeated_past_observed_values = past_observed_values.repeat(\n",
    "            repeats=self.num_sample_paths, axis=0\n",
    "        )\n",
    "        repeated_past_feat_dynamic_real = past_feat_dynamic_real.repeat(\n",
    "            repeats=self.num_sample_paths, axis=0\n",
    "        )\n",
    "        \n",
    "        # compute scale\n",
    "        scale = self.compute_scale(repeated_past_target, repeated_past_observed_values)\n",
    "\n",
    "        # scale repeated target and time features\n",
    "        repeated_past_target_scale = F.broadcast_div(repeated_past_target, scale)\n",
    "        repeated_past_feat_dynamic_real_scale = F.broadcast_div(repeated_past_feat_dynamic_real.squeeze(axis=-1), scale)\n",
    "\n",
    "        # concatenate target and time features to use them as input to the network\n",
    "        net_input = F.concat(repeated_past_target_scale, repeated_past_feat_dynamic_real_scale, dim=-1)\n",
    "\n",
    "        # compute network oputput\n",
    "        net_output = self.nn(net_input)\n",
    "        \n",
    "        # (batch * num_sample_paths, prediction_length * nn_features)  ->  (batch * num_sample_paths, prediction_length, nn_features)\n",
    "        net_output = net_output.reshape(0, self.prediction_length, -1)\n",
    "\n",
    "        # project network output to distribution parameters domain\n",
    "        distr_args = self.proj_distr_args(net_output)\n",
    "        \n",
    "        # compute distribution\n",
    "        distr = self.distr_output.distribution(distr_args, scale=scale)\n",
    "\n",
    "        # get (batch_size * num_sample_paths, prediction_length) samples\n",
    "        samples = distr.sample()\n",
    "\n",
    "        # reshape from (batch_size * num_sample_paths, prediction_length) to\n",
    "        # (batch_size, num_sample_paths, prediction_length)\n",
    "        return samples.reshape(shape=(-1, self.num_sample_paths, self.prediction_length))"
   ]
  },
  {
   "cell_type": "code",
   "execution_count": 80,
   "metadata": {
    "execution": {
     "iopub.execute_input": "2022-06-13T08:55:52.093518Z",
     "iopub.status.busy": "2022-06-13T08:55:52.088201Z",
     "iopub.status.idle": "2022-06-13T08:55:52.097354Z",
     "shell.execute_reply": "2022-06-13T08:55:52.096633Z"
    }
   },
   "outputs": [],
   "source": [
    "class MyProbEstimator(GluonEstimator):\n",
    "    @validated()\n",
    "    def __init__(\n",
    "        self,\n",
    "        prediction_length: int,\n",
    "        context_length: int,\n",
    "        freq: str,\n",
    "        distr_output: DistributionOutput,\n",
    "        num_cells: int,\n",
    "        num_sample_paths: int = 100,\n",
    "        scaling: bool = True,\n",
    "        batch_size: int = 32,\n",
    "        trainer: Trainer = Trainer()\n",
    "    ) -> None:\n",
    "        super().__init__(trainer=trainer, batch_size=batch_size)\n",
    "        self.prediction_length = prediction_length\n",
    "        self.context_length = context_length\n",
    "        self.freq = freq\n",
    "        self.distr_output = distr_output\n",
    "        self.num_cells = num_cells\n",
    "        self.num_sample_paths = num_sample_paths\n",
    "        self.scaling = scaling\n",
    "\n",
    "    def create_transformation(self):\n",
    "        # Feature transformation that the model uses for input.\n",
    "        return AddObservedValuesIndicator(\n",
    "            target_field=FieldName.TARGET,\n",
    "            output_field=FieldName.OBSERVED_VALUES,\n",
    "        )\n",
    "    \n",
    "    def create_training_data_loader(self, dataset, **kwargs):\n",
    "        instance_splitter = InstanceSplitter(\n",
    "            target_field=FieldName.TARGET,\n",
    "            is_pad_field=FieldName.IS_PAD,\n",
    "            start_field=FieldName.START,\n",
    "            forecast_start_field=FieldName.FORECAST_START,\n",
    "            instance_sampler=ExpectedNumInstanceSampler(\n",
    "                num_instances=1,\n",
    "                min_future=self.prediction_length\n",
    "            ),\n",
    "            past_length=self.context_length,\n",
    "            future_length=self.prediction_length,\n",
    "            time_series_fields=[\n",
    "                FieldName.FEAT_DYNAMIC_REAL,\n",
    "                FieldName.OBSERVED_VALUES,\n",
    "            ],\n",
    "        )\n",
    "        input_names = get_hybrid_forward_input_names(MyProbTrainNetwork)\n",
    "        return TrainDataLoader(\n",
    "            dataset=dataset,\n",
    "            transform=instance_splitter + SelectFields(input_names),\n",
    "            batch_size=self.batch_size,\n",
    "            stack_fn=partial(batchify, ctx=self.trainer.ctx, dtype=self.dtype),\n",
    "            decode_fn=partial(as_in_context, ctx=self.trainer.ctx),\n",
    "            **kwargs,\n",
    "        )\n",
    "\n",
    "    def create_training_network(self) -> MyProbTrainNetwork:\n",
    "        return MyProbTrainNetwork(\n",
    "            prediction_length=self.prediction_length,\n",
    "            context_length=self.context_length,\n",
    "            distr_output=self.distr_output,\n",
    "            num_cells=self.num_cells,\n",
    "            num_sample_paths=self.num_sample_paths,\n",
    "            scaling=self.scaling\n",
    "        )\n",
    "\n",
    "    def create_predictor(\n",
    "        self, transformation: Transformation, trained_network: HybridBlock\n",
    "    ) -> Predictor:\n",
    "        prediction_splitter = InstanceSplitter(\n",
    "            target_field=FieldName.TARGET,\n",
    "            is_pad_field=FieldName.IS_PAD,\n",
    "            start_field=FieldName.START,\n",
    "            forecast_start_field=FieldName.FORECAST_START,\n",
    "            instance_sampler=TestSplitSampler(),\n",
    "            past_length=self.context_length,\n",
    "            future_length=self.prediction_length,\n",
    "            time_series_fields=[\n",
    "                FieldName.FEAT_DYNAMIC_REAL,\n",
    "                FieldName.OBSERVED_VALUES,\n",
    "            ],\n",
    "        )\n",
    "\n",
    "        prediction_network = MyProbPredNetwork(\n",
    "            prediction_length=self.prediction_length,\n",
    "            context_length=self.context_length,\n",
    "            distr_output=self.distr_output,\n",
    "            num_cells=self.num_cells,\n",
    "            num_sample_paths=self.num_sample_paths,\n",
    "            scaling=self.scaling\n",
    "        )\n",
    "\n",
    "        copy_parameters(trained_network, prediction_network)\n",
    "\n",
    "        return RepresentableBlockPredictor(\n",
    "            input_transform=transformation + prediction_splitter,\n",
    "            prediction_net=prediction_network,\n",
    "            batch_size=self.trainer.batch_size,\n",
    "            freq=self.freq,\n",
    "            prediction_length=self.prediction_length,\n",
    "            ctx=self.trainer.ctx,\n",
    "        )"
   ]
  },
  {
   "cell_type": "code",
   "execution_count": 81,
   "metadata": {
    "execution": {
     "iopub.execute_input": "2022-06-13T08:55:52.104638Z",
     "iopub.status.busy": "2022-06-13T08:55:52.103646Z",
     "iopub.status.idle": "2022-06-13T08:55:52.106076Z",
     "shell.execute_reply": "2022-06-13T08:55:52.106626Z"
    }
   },
   "outputs": [],
   "source": [
    "estimator = MyProbEstimator(\n",
    "    prediction_length=custom_ds_metadata['prediction_length'],\n",
    "    context_length=2*custom_ds_metadata['prediction_length'],\n",
    "    freq=custom_ds_metadata['freq'],\n",
    "    distr_output=GaussianOutput(),\n",
    "    num_cells=40,\n",
    "    trainer=Trainer(\n",
    "        ctx=\"cpu\", \n",
    "        epochs=5, \n",
    "        learning_rate=1e-3, \n",
    "        hybridize=False, \n",
    "        num_batches_per_epoch=100\n",
    "    )\n",
    ")"
   ]
  },
  {
   "cell_type": "code",
   "execution_count": 82,
   "metadata": {
    "execution": {
     "iopub.execute_input": "2022-06-13T08:55:52.114140Z",
     "iopub.status.busy": "2022-06-13T08:55:52.112654Z",
     "iopub.status.idle": "2022-06-13T08:55:56.642045Z",
     "shell.execute_reply": "2022-06-13T08:55:56.642584Z"
    }
   },
   "outputs": [
    {
     "name": "stderr",
     "output_type": "stream",
     "text": [
      "\r",
      "  0%|                                                                                               | 0/100 [00:00<?, ?it/s]"
     ]
    },
    {
     "name": "stderr",
     "output_type": "stream",
     "text": [
      "\r",
      "100%|████████████████████████████████████████████████████| 100/100 [00:01<00:00, 88.73it/s, epoch=1/5, avg_epoch_loss=0.893]"
     ]
    },
    {
     "name": "stderr",
     "output_type": "stream",
     "text": [
      "\n"
     ]
    },
    {
     "name": "stderr",
     "output_type": "stream",
     "text": [
      "\r",
      "  0%|                                                                                               | 0/100 [00:00<?, ?it/s]"
     ]
    },
    {
     "name": "stderr",
     "output_type": "stream",
     "text": [
      "\r",
      "100%|████████████████████████████████████████████████████| 100/100 [00:00<00:00, 117.62it/s, epoch=2/5, avg_epoch_loss=0.52]"
     ]
    },
    {
     "name": "stderr",
     "output_type": "stream",
     "text": [
      "\n"
     ]
    },
    {
     "name": "stderr",
     "output_type": "stream",
     "text": [
      "\r",
      "  0%|                                                                                               | 0/100 [00:00<?, ?it/s]"
     ]
    },
    {
     "name": "stderr",
     "output_type": "stream",
     "text": [
      "\r",
      "100%|███████████████████████████████████████████████████| 100/100 [00:00<00:00, 112.04it/s, epoch=3/5, avg_epoch_loss=0.458]"
     ]
    },
    {
     "name": "stderr",
     "output_type": "stream",
     "text": [
      "\n"
     ]
    },
    {
     "name": "stderr",
     "output_type": "stream",
     "text": [
      "\r",
      "  0%|                                                                                               | 0/100 [00:00<?, ?it/s]"
     ]
    },
    {
     "name": "stderr",
     "output_type": "stream",
     "text": [
      "\r",
      "100%|███████████████████████████████████████████████████| 100/100 [00:00<00:00, 114.55it/s, epoch=4/5, avg_epoch_loss=0.432]"
     ]
    },
    {
     "name": "stderr",
     "output_type": "stream",
     "text": [
      "\n"
     ]
    },
    {
     "name": "stderr",
     "output_type": "stream",
     "text": [
      "\r",
      "  0%|                                                                                               | 0/100 [00:00<?, ?it/s]"
     ]
    },
    {
     "name": "stderr",
     "output_type": "stream",
     "text": [
      "\r",
      "100%|███████████████████████████████████████████████████| 100/100 [00:00<00:00, 134.14it/s, epoch=5/5, avg_epoch_loss=0.416]"
     ]
    },
    {
     "name": "stderr",
     "output_type": "stream",
     "text": [
      "\n"
     ]
    }
   ],
   "source": [
    "predictor = estimator.train(train_ds)"
   ]
  },
  {
   "cell_type": "code",
   "execution_count": 83,
   "metadata": {
    "execution": {
     "iopub.execute_input": "2022-06-13T08:55:56.646999Z",
     "iopub.status.busy": "2022-06-13T08:55:56.646117Z",
     "iopub.status.idle": "2022-06-13T08:55:56.648604Z",
     "shell.execute_reply": "2022-06-13T08:55:56.649061Z"
    }
   },
   "outputs": [],
   "source": [
    "forecast_it, ts_it = make_evaluation_predictions(\n",
    "    dataset=test_ds,  # test dataset\n",
    "    predictor=predictor,  # predictor\n",
    "    num_samples=100,  # number of sample paths we want for evaluation\n",
    ")"
   ]
  },
  {
   "cell_type": "code",
   "execution_count": 84,
   "metadata": {
    "execution": {
     "iopub.execute_input": "2022-06-13T08:55:56.656252Z",
     "iopub.status.busy": "2022-06-13T08:55:56.655465Z",
     "iopub.status.idle": "2022-06-13T08:55:56.779523Z",
     "shell.execute_reply": "2022-06-13T08:55:56.780088Z"
    }
   },
   "outputs": [],
   "source": [
    "forecasts = list(forecast_it)\n",
    "tss = list(ts_it)"
   ]
  },
  {
   "cell_type": "code",
   "execution_count": 85,
   "metadata": {
    "execution": {
     "iopub.execute_input": "2022-06-13T08:55:56.790626Z",
     "iopub.status.busy": "2022-06-13T08:55:56.788888Z",
     "iopub.status.idle": "2022-06-13T08:55:56.986518Z",
     "shell.execute_reply": "2022-06-13T08:55:56.986938Z"
    }
   },
   "outputs": [
    {
     "data": {
      "image/png": "[encoded data removed]",
      "text/plain": [
       "<Figure size 720x504 with 1 Axes>"
      ]
     },
     "metadata": {
      "needs_background": "light"
     },
     "output_type": "display_data"
    }
   ],
   "source": [
    "plot_prob_forecasts(tss[0], forecasts[0])"
   ]
  },
  {
   "cell_type": "markdown",
   "metadata": {},
   "source": [
    "### From feedforward to RNN\n",
    "\n",
    "In all the previous examples we have used a feedforward neural network as the base for our forecasting model. The main idea behind it was to use as an input to the network a window of the time series (of length `context_length`) and train the network to forecast the following window (of length `prediction_length`). \n",
    "\n",
    "In this section we will replace the feedforward network with a recurrent neural network (RNN). Due to the different nature of RNNs the structure of the networks will be a bit different. Let's see what are the major changes. \n",
    "\n",
    "#### Training\n",
    "\n",
    "The main idea behind RNN is the same as in the feedforward networks we already constructed: as we unroll the RNN at each time step we use as an input past values of the time series and forecast the next value. We can enhance the input by using multiple past values (for example specific lags based on seasonality patterns) or available features. However, in this example we will keep things simple and just use the last value of the time series. The output of the network at each time step is the distribution of the value of the next time step, where the state of the RNN is used as the feature vector for the parameter projection of the distribution.\n",
    "\n",
    "Due to the sequential nature of the RNN, the distinction between `past_` and `future_` in the cut window of the time series is not really necessary. Therefore, we can concatenate `past_target` and `future_target ` and treat it as a concrete `target` window that we wish to forecast. This means that the input to the RNN would be (sequentially) the window `target[-(context_length + prediction_length + 1):-1]` (one time step before the window we want to predict). As a consequence, we need to have `context_length + prediction_length + 1` available values at each window that we cut. We can define this in the `InstanceSplitter`. \n",
    "\n",
    "Overall, during training the steps are the following:\n",
    "\n",
    "- We pass sequentially through the RNN the target values `target[-(context_length + prediction_length + 1):-1]` \n",
    "- We use the state of the RNN at each time step as a feature vector and project it to the distribution parameter domain\n",
    "- The output at each time step is the distribution of the values of the next time step, which overall is the forecasted distribution for the window `target[-(context_length + prediction_length):]`\n",
    "\n",
    "The above steps are implemented in the `unroll_encoder` method.\n",
    "\n",
    "#### Inference\n",
    "\n",
    "During inference we know the values only of `past_target` therefore we cannot follow exactly the same steps as in training. However the main idea is very similar:\n",
    "\n",
    "- We pass sequentially through the RNN the past target values `past_target[-(context_length + 1):]` that effectively updates the state of the RNN\n",
    "- In the last time step the output of the RNN is effectively the distribution of the next value of the time series (which we do not know). Therefore we sample (`num_sample_paths` times) from this distribution and use the samples as inputs to the RNN for the next time step\n",
    "- We repeat the previous step `prediction_length` times \n",
    "\n",
    "The first step is implemented in `unroll_encoder` and the last steps in the `sample_decoder` method."
   ]
  },
  {
   "cell_type": "code",
   "execution_count": 86,
   "metadata": {
    "execution": {
     "iopub.execute_input": "2022-06-13T08:55:57.010956Z",
     "iopub.status.busy": "2022-06-13T08:55:57.009992Z",
     "iopub.status.idle": "2022-06-13T08:55:57.012463Z",
     "shell.execute_reply": "2022-06-13T08:55:57.012999Z"
    }
   },
   "outputs": [],
   "source": [
    "class MyProbRNN(gluon.HybridBlock):\n",
    "    def __init__(self,\n",
    "        prediction_length,\n",
    "        context_length,\n",
    "        distr_output,\n",
    "        num_cells,\n",
    "        num_layers,\n",
    "        num_sample_paths=100,\n",
    "        scaling=True,\n",
    "        **kwargs\n",
    "     ) -> None:\n",
    "        super().__init__(**kwargs)\n",
    "        self.prediction_length = prediction_length\n",
    "        self.context_length = context_length\n",
    "        self.distr_output = distr_output\n",
    "        self.num_cells = num_cells\n",
    "        self.num_layers = num_layers\n",
    "        self.num_sample_paths = num_sample_paths\n",
    "        self.proj_distr_args = distr_output.get_args_proj()\n",
    "        self.scaling = scaling\n",
    "\n",
    "        with self.name_scope():\n",
    "            self.rnn = mx.gluon.rnn.HybridSequentialRNNCell()\n",
    "            for k in range(self.num_layers):\n",
    "                cell = mx.gluon.rnn.LSTMCell(hidden_size=self.num_cells)\n",
    "                cell = mx.gluon.rnn.ResidualCell(cell) if k > 0 else cell\n",
    "                self.rnn.add(cell)\n",
    "\n",
    "            if scaling:\n",
    "                self.scaler = MeanScaler(keepdims=True)\n",
    "            else:\n",
    "                self.scaler = NOPScaler(keepdims=True)\n",
    "\n",
    "    def compute_scale(self, past_target, past_observed_values):\n",
    "        # scale is computed on the context length last units of the past target\n",
    "        # scale shape is (batch_size, 1, *target_shape)\n",
    "        _, scale = self.scaler(\n",
    "            past_target.slice_axis(\n",
    "                axis=1, begin=-self.context_length, end=None\n",
    "            ),\n",
    "            past_observed_values.slice_axis(\n",
    "                axis=1, begin=-self.context_length, end=None\n",
    "            ),\n",
    "        )\n",
    "\n",
    "        return scale\n",
    "\n",
    "    def unroll_encoder(\n",
    "        self, \n",
    "        F, \n",
    "        past_target, \n",
    "        past_observed_values, \n",
    "        future_target=None, \n",
    "        future_observed_values=None\n",
    "    ):\n",
    "        # overall target field\n",
    "        # input target from -(context_length + prediction_length + 1) to -1\n",
    "        if future_target is not None:  # during training\n",
    "            target_in = F.concat(\n",
    "                past_target, future_target, dim=-1\n",
    "            ).slice_axis(\n",
    "                axis=1, begin=-(self.context_length + self.prediction_length + 1), end=-1\n",
    "            )\n",
    "\n",
    "            # overall observed_values field\n",
    "            # input observed_values corresponding to target_in\n",
    "            observed_values_in = F.concat(\n",
    "                past_observed_values, future_observed_values, dim=-1\n",
    "            ).slice_axis(\n",
    "                axis=1, begin=-(self.context_length + self.prediction_length + 1), end=-1\n",
    "            )\n",
    "\n",
    "            rnn_length = self.context_length + self.prediction_length\n",
    "        else:  # during inference\n",
    "            target_in = past_target.slice_axis(\n",
    "                axis=1, begin=-(self.context_length + 1), end=-1\n",
    "            )\n",
    "\n",
    "            # overall observed_values field\n",
    "            # input observed_values corresponding to target_in\n",
    "            observed_values_in = past_observed_values.slice_axis(\n",
    "                axis=1, begin=-(self.context_length + 1), end=-1\n",
    "            )\n",
    "\n",
    "            rnn_length = self.context_length\n",
    "\n",
    "        # compute scale\n",
    "        scale = self.compute_scale(target_in, observed_values_in)\n",
    "\n",
    "        # scale target_in\n",
    "        target_in_scale = F.broadcast_div(target_in, scale)\n",
    "\n",
    "        # compute network output\n",
    "        net_output, states = self.rnn.unroll(\n",
    "            inputs=target_in_scale,\n",
    "            length=rnn_length,\n",
    "            layout=\"NTC\",\n",
    "            merge_outputs=True,\n",
    "        )\n",
    "\n",
    "        return net_output, states, scale\n",
    "\n",
    "\n",
    "class MyProbTrainRNN(MyProbRNN):\n",
    "    def hybrid_forward(\n",
    "        self,\n",
    "        F,\n",
    "        past_target,\n",
    "        future_target,\n",
    "        past_observed_values,\n",
    "        future_observed_values\n",
    "    ):\n",
    "        net_output, _, scale = self.unroll_encoder(\n",
    "            F, past_target, past_observed_values, future_target, future_observed_values\n",
    "        )\n",
    "\n",
    "        # output target from -(context_length + prediction_length) to end\n",
    "        target_out = F.concat(\n",
    "            past_target, future_target, dim=-1\n",
    "        ).slice_axis(\n",
    "            axis=1, begin=-(self.context_length + self.prediction_length), end=None\n",
    "        )\n",
    "\n",
    "        # project network output to distribution parameters domain\n",
    "        distr_args = self.proj_distr_args(net_output)\n",
    "\n",
    "        # compute distribution\n",
    "        distr = self.distr_output.distribution(distr_args, scale=scale)\n",
    "\n",
    "        # negative log-likelihood\n",
    "        loss = distr.loss(target_out)\n",
    "        return loss\n",
    "\n",
    "\n",
    "class MyProbPredRNN(MyProbTrainRNN):\n",
    "    def sample_decoder(self, F, past_target, states, scale):\n",
    "        # repeat fields: from (batch_size, past_target_length) to\n",
    "        # (batch_size * num_sample_paths, past_target_length)\n",
    "        repeated_states = [\n",
    "            s.repeat(repeats=self.num_sample_paths, axis=0)\n",
    "            for s in states\n",
    "        ]\n",
    "        repeated_scale = scale.repeat(repeats=self.num_sample_paths, axis=0)\n",
    "\n",
    "        # first decoder input is the last value of the past_target, i.e.,\n",
    "        # the previous value of the first time step we want to forecast\n",
    "        decoder_input = past_target.slice_axis(\n",
    "            axis=1, begin=-1, end=None\n",
    "        ).repeat(\n",
    "            repeats=self.num_sample_paths, axis=0\n",
    "        )\n",
    "\n",
    "        # list with samples at each time step\n",
    "        future_samples = []\n",
    "\n",
    "        # for each future time step we draw new samples for this time step and update the state\n",
    "        # the drawn samples are the inputs to the rnn at the next time step\n",
    "        for k in range(self.prediction_length):\n",
    "            rnn_outputs, repeated_states = self.rnn.unroll(\n",
    "                inputs=decoder_input,\n",
    "                length=1,\n",
    "                begin_state=repeated_states,\n",
    "                layout=\"NTC\",\n",
    "                merge_outputs=True,\n",
    "            )\n",
    "\n",
    "            # project network output to distribution parameters domain\n",
    "            distr_args = self.proj_distr_args(rnn_outputs)\n",
    "\n",
    "            # compute distribution\n",
    "            distr = self.distr_output.distribution(distr_args, scale=repeated_scale)\n",
    "\n",
    "            # draw samples (batch_size * num_samples, 1)\n",
    "            new_samples = distr.sample()\n",
    "\n",
    "            # append the samples of the current time step\n",
    "            future_samples.append(new_samples)\n",
    "\n",
    "            # update decoder input for the next time step\n",
    "            decoder_input = new_samples\n",
    "\n",
    "        samples = F.concat(*future_samples, dim=1)\n",
    "\n",
    "        # (batch_size, num_samples, prediction_length)\n",
    "        return samples.reshape(shape=(-1, self.num_sample_paths, self.prediction_length))\n",
    "\n",
    "    def hybrid_forward(self, F, past_target, past_observed_values):\n",
    "        # unroll encoder over context_length\n",
    "        net_output, states, scale = self.unroll_encoder(\n",
    "            F, past_target, past_observed_values\n",
    "        )\n",
    "\n",
    "        samples = self.sample_decoder(F, past_target, states, scale)\n",
    "\n",
    "        return samples"
   ]
  },
  {
   "cell_type": "code",
   "execution_count": 87,
   "metadata": {
    "execution": {
     "iopub.execute_input": "2022-06-13T08:55:57.030512Z",
     "iopub.status.busy": "2022-06-13T08:55:57.029569Z",
     "iopub.status.idle": "2022-06-13T08:55:57.032020Z",
     "shell.execute_reply": "2022-06-13T08:55:57.032547Z"
    }
   },
   "outputs": [],
   "source": [
    "class MyProbRNNEstimator(GluonEstimator):\n",
    "    @validated()\n",
    "    def __init__(\n",
    "        self,\n",
    "        prediction_length: int,\n",
    "        context_length: int,\n",
    "        freq: str,\n",
    "        distr_output: DistributionOutput,\n",
    "        num_cells: int,\n",
    "        num_layers: int,\n",
    "        num_sample_paths: int = 100,\n",
    "        scaling: bool = True,\n",
    "        batch_size: int = 32,\n",
    "        trainer: Trainer = Trainer()\n",
    "    ) -> None:\n",
    "        super().__init__(trainer=trainer, batch_size=batch_size)\n",
    "        self.prediction_length = prediction_length\n",
    "        self.context_length = context_length\n",
    "        self.freq = freq\n",
    "        self.distr_output = distr_output\n",
    "        self.num_cells = num_cells\n",
    "        self.num_layers = num_layers\n",
    "        self.num_sample_paths = num_sample_paths\n",
    "        self.scaling = scaling\n",
    "\n",
    "    def create_transformation(self):\n",
    "        # Feature transformation that the model uses for input.\n",
    "        return AddObservedValuesIndicator(\n",
    "            target_field=FieldName.TARGET,\n",
    "            output_field=FieldName.OBSERVED_VALUES,\n",
    "        )\n",
    "    \n",
    "    def create_training_data_loader(self, dataset, **kwargs):\n",
    "        instance_splitter = InstanceSplitter(\n",
    "            target_field=FieldName.TARGET,\n",
    "            is_pad_field=FieldName.IS_PAD,\n",
    "            start_field=FieldName.START,\n",
    "            forecast_start_field=FieldName.FORECAST_START,\n",
    "            instance_sampler=ExpectedNumInstanceSampler(\n",
    "                num_instances=1,\n",
    "                min_future=self.prediction_length,\n",
    "            ),\n",
    "            past_length=self.context_length + 1,\n",
    "            future_length=self.prediction_length,\n",
    "            time_series_fields=[\n",
    "                FieldName.FEAT_DYNAMIC_REAL,\n",
    "                FieldName.OBSERVED_VALUES,\n",
    "            ],\n",
    "        )\n",
    "        input_names = get_hybrid_forward_input_names(MyProbTrainRNN)\n",
    "        return TrainDataLoader(\n",
    "            dataset=dataset,\n",
    "            transform=instance_splitter + SelectFields(input_names),\n",
    "            batch_size=self.batch_size,\n",
    "            stack_fn=partial(batchify, ctx=self.trainer.ctx, dtype=self.dtype),\n",
    "            decode_fn=partial(as_in_context, ctx=self.trainer.ctx),\n",
    "            **kwargs,\n",
    "        )\n",
    "\n",
    "    def create_training_network(self) -> MyProbTrainRNN:\n",
    "        return MyProbTrainRNN(\n",
    "            prediction_length=self.prediction_length,\n",
    "            context_length=self.context_length,\n",
    "            distr_output=self.distr_output,\n",
    "            num_cells=self.num_cells,\n",
    "            num_layers=self.num_layers,\n",
    "            num_sample_paths=self.num_sample_paths,\n",
    "            scaling=self.scaling\n",
    "        )\n",
    "\n",
    "    def create_predictor(\n",
    "        self, transformation: Transformation, trained_network: HybridBlock\n",
    "    ) -> Predictor:\n",
    "        prediction_splitter = InstanceSplitter(\n",
    "            target_field=FieldName.TARGET,\n",
    "            is_pad_field=FieldName.IS_PAD,\n",
    "            start_field=FieldName.START,\n",
    "            forecast_start_field=FieldName.FORECAST_START,\n",
    "            instance_sampler=TestSplitSampler(),\n",
    "            past_length=self.context_length + 1,\n",
    "            future_length=self.prediction_length,\n",
    "            time_series_fields=[\n",
    "                FieldName.FEAT_DYNAMIC_REAL,\n",
    "                FieldName.OBSERVED_VALUES,\n",
    "            ],\n",
    "        )\n",
    "        prediction_network = MyProbPredRNN(\n",
    "            prediction_length=self.prediction_length,\n",
    "            context_length=self.context_length,\n",
    "            distr_output=self.distr_output,\n",
    "            num_cells=self.num_cells,\n",
    "            num_layers=self.num_layers,\n",
    "            num_sample_paths=self.num_sample_paths,\n",
    "            scaling=self.scaling\n",
    "        )\n",
    "\n",
    "        copy_parameters(trained_network, prediction_network)\n",
    "\n",
    "        return RepresentableBlockPredictor(\n",
    "            input_transform=transformation + prediction_splitter,\n",
    "            prediction_net=prediction_network,\n",
    "            batch_size=self.trainer.batch_size,\n",
    "            freq=self.freq,\n",
    "            prediction_length=self.prediction_length,\n",
    "            ctx=self.trainer.ctx,\n",
    "        )"
   ]
  },
  {
   "cell_type": "code",
   "execution_count": 88,
   "metadata": {
    "execution": {
     "iopub.execute_input": "2022-06-13T08:55:57.038768Z",
     "iopub.status.busy": "2022-06-13T08:55:57.037832Z",
     "iopub.status.idle": "2022-06-13T08:55:57.040121Z",
     "shell.execute_reply": "2022-06-13T08:55:57.040605Z"
    }
   },
   "outputs": [],
   "source": [
    "estimator = MyProbRNNEstimator(\n",
    "    prediction_length=24,\n",
    "    context_length=48,\n",
    "    freq=\"1H\",\n",
    "    num_cells=40,\n",
    "    num_layers=2,\n",
    "    distr_output=GaussianOutput(),\n",
    "    trainer=Trainer(\n",
    "        ctx=\"cpu\",\n",
    "        epochs=5,\n",
    "        learning_rate=1e-3,\n",
    "        hybridize=False,\n",
    "        num_batches_per_epoch=100\n",
    "    )\n",
    ")"
   ]
  },
  {
   "cell_type": "code",
   "execution_count": 89,
   "metadata": {
    "execution": {
     "iopub.execute_input": "2022-06-13T08:55:57.045761Z",
     "iopub.status.busy": "2022-06-13T08:55:57.044984Z",
     "iopub.status.idle": "2022-06-13T08:57:04.428747Z",
     "shell.execute_reply": "2022-06-13T08:57:04.429444Z"
    }
   },
   "outputs": [
    {
     "name": "stderr",
     "output_type": "stream",
     "text": [
      "\r",
      "  0%|                                                                                               | 0/100 [00:00<?, ?it/s]"
     ]
    },
    {
     "name": "stderr",
     "output_type": "stream",
     "text": [
      "\r",
      " 80%|██████████████████████████████████████████▍          | 80/100 [00:10<00:02,  7.93it/s, epoch=1/5, avg_epoch_loss=0.764]"
     ]
    },
    {
     "name": "stderr",
     "output_type": "stream",
     "text": [
      "\r",
      "100%|████████████████████████████████████████████████████| 100/100 [00:12<00:00,  7.96it/s, epoch=1/5, avg_epoch_loss=0.701]"
     ]
    },
    {
     "name": "stderr",
     "output_type": "stream",
     "text": [
      "\n"
     ]
    },
    {
     "name": "stderr",
     "output_type": "stream",
     "text": [
      "\r",
      "  0%|                                                                                               | 0/100 [00:00<?, ?it/s]"
     ]
    },
    {
     "name": "stderr",
     "output_type": "stream",
     "text": [
      "\r",
      " 81%|██████████████████████████████████████████▉          | 81/100 [00:10<00:02,  8.09it/s, epoch=2/5, avg_epoch_loss=0.392]"
     ]
    },
    {
     "name": "stderr",
     "output_type": "stream",
     "text": [
      "\r",
      "100%|████████████████████████████████████████████████████| 100/100 [00:12<00:00,  7.89it/s, epoch=2/5, avg_epoch_loss=0.385]"
     ]
    },
    {
     "name": "stderr",
     "output_type": "stream",
     "text": [
      "\n"
     ]
    },
    {
     "name": "stderr",
     "output_type": "stream",
     "text": [
      "\r",
      "  0%|                                                                                               | 0/100 [00:00<?, ?it/s]"
     ]
    },
    {
     "name": "stderr",
     "output_type": "stream",
     "text": [
      "\r",
      " 61%|████████████████████████████████▎                    | 61/100 [00:10<00:06,  6.06it/s, epoch=3/5, avg_epoch_loss=0.341]"
     ]
    },
    {
     "name": "stderr",
     "output_type": "stream",
     "text": [
      "\r",
      "100%|████████████████████████████████████████████████████| 100/100 [00:15<00:00,  6.66it/s, epoch=3/5, avg_epoch_loss=0.333]"
     ]
    },
    {
     "name": "stderr",
     "output_type": "stream",
     "text": [
      "\n"
     ]
    },
    {
     "name": "stderr",
     "output_type": "stream",
     "text": [
      "\r",
      "  0%|                                                                                               | 0/100 [00:00<?, ?it/s]"
     ]
    },
    {
     "name": "stderr",
     "output_type": "stream",
     "text": [
      "\r",
      " 80%|██████████████████████████████████████████▍          | 80/100 [00:10<00:02,  7.92it/s, epoch=4/5, avg_epoch_loss=0.299]"
     ]
    },
    {
     "name": "stderr",
     "output_type": "stream",
     "text": [
      "\r",
      "100%|████████████████████████████████████████████████████| 100/100 [00:12<00:00,  7.86it/s, epoch=4/5, avg_epoch_loss=0.295]"
     ]
    },
    {
     "name": "stderr",
     "output_type": "stream",
     "text": [
      "\n"
     ]
    },
    {
     "name": "stderr",
     "output_type": "stream",
     "text": [
      "\r",
      "  0%|                                                                                               | 0/100 [00:00<?, ?it/s]"
     ]
    },
    {
     "name": "stderr",
     "output_type": "stream",
     "text": [
      "\r",
      " 76%|████████████████████████████████████████▎            | 76/100 [00:10<00:03,  7.47it/s, epoch=5/5, avg_epoch_loss=0.273]"
     ]
    },
    {
     "name": "stderr",
     "output_type": "stream",
     "text": [
      "\r",
      "100%|█████████████████████████████████████████████████████| 100/100 [00:14<00:00,  6.96it/s, epoch=5/5, avg_epoch_loss=0.27]"
     ]
    },
    {
     "name": "stderr",
     "output_type": "stream",
     "text": [
      "\n"
     ]
    }
   ],
   "source": [
    "predictor = estimator.train(train_ds)"
   ]
  },
  {
   "cell_type": "code",
   "execution_count": 90,
   "metadata": {
    "execution": {
     "iopub.execute_input": "2022-06-13T08:57:04.436707Z",
     "iopub.status.busy": "2022-06-13T08:57:04.435769Z",
     "iopub.status.idle": "2022-06-13T08:57:04.439552Z",
     "shell.execute_reply": "2022-06-13T08:57:04.440218Z"
    }
   },
   "outputs": [],
   "source": [
    "forecast_it, ts_it = make_evaluation_predictions(\n",
    "    dataset=test_ds,  # test dataset\n",
    "    predictor=predictor,  # predictor\n",
    "    num_samples=100,  # number of sample paths we want for evaluation\n",
    ")"
   ]
  },
  {
   "cell_type": "code",
   "execution_count": 91,
   "metadata": {
    "execution": {
     "iopub.execute_input": "2022-06-13T08:57:04.450441Z",
     "iopub.status.busy": "2022-06-13T08:57:04.449158Z",
     "iopub.status.idle": "2022-06-13T08:57:06.167120Z",
     "shell.execute_reply": "2022-06-13T08:57:06.167632Z"
    }
   },
   "outputs": [],
   "source": [
    "forecasts = list(forecast_it)\n",
    "tss = list(ts_it)"
   ]
  },
  {
   "cell_type": "code",
   "execution_count": 92,
   "metadata": {
    "execution": {
     "iopub.execute_input": "2022-06-13T08:57:06.175585Z",
     "iopub.status.busy": "2022-06-13T08:57:06.174781Z",
     "iopub.status.idle": "2022-06-13T08:57:06.446031Z",
     "shell.execute_reply": "2022-06-13T08:57:06.446704Z"
    }
   },
   "outputs": [
    {
     "data": {
      "image/png": "[encoded data removed]",
      "text/plain": [
       "<Figure size 720x504 with 1 Axes>"
      ]
     },
     "metadata": {
      "needs_background": "light"
     },
     "output_type": "display_data"
    }
   ],
   "source": [
    "plot_prob_forecasts(tss[0], forecasts[0])"
   ]
  }
 ],
 "metadata": {
  "language_info": {
   "name": "python"
  }
 },
 "nbformat": 4,
 "nbformat_minor": 4
}