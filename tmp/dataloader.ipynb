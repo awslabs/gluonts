{
 "cells": [
  {
   "cell_type": "code",
   "execution_count": 86,
   "metadata": {},
   "outputs": [],
   "source": [
    "from typing import Optional, Callable, List\n",
    "import pandas as pd\n",
    "import numpy as np\n",
    "from gluonts.dataset.loader import TrainDataLoader, Batch\n",
    "from functools import partial\n",
    "from gluonts.mx.batchify import batchify\n",
    "from gluonts.dataset import DataBatch, Dataset\n",
    "from gluonts.itertools import Cyclic, IterableSlice\n",
    "from gluonts.transform import AdhocTransform, Transformation, Identity"
   ]
  },
  {
   "cell_type": "code",
   "execution_count": 37,
   "metadata": {},
   "outputs": [],
   "source": [
    "dataset1 = [\n",
    "    {\n",
    "        \"start\": pd.Period(\"2022-03-04 00\", freq=\"H\") + 47 * k,\n",
    "        \"target\": k * np.arange(1000, dtype=np.float32),\n",
    "    }\n",
    "    for k in range(10)\n",
    "]\n",
    "\n",
    "dataset2 = [\n",
    "    {\n",
    "        \"start\": pd.Period(\"2022-03-04 00\", freq=\"H\") + 47 * k,\n",
    "        \"target\": k * np.arange(1000, dtype=np.float32),\n",
    "    }\n",
    "    for k in range(20)\n",
    "]\n",
    "\n",
    "datasets = [dataset1, dataset2]"
   ]
  },
  {
   "cell_type": "code",
   "execution_count": 23,
   "metadata": {},
   "outputs": [
    {
     "name": "stdout",
     "output_type": "stream",
     "text": [
      "(4, 1000)\n",
      "(4, 1000)\n",
      "(4, 1000)\n",
      "(4, 1000)\n",
      "(4, 1000)\n",
      "(4, 1000)\n"
     ]
    }
   ],
   "source": [
    "train_data_loader = TrainDataLoader(dataset1, \n",
    "                                    batch_size=4, \n",
    "                                    stack_fn=partial(batchify))\n",
    "step = 0\n",
    "for data in train_data_loader:\n",
    "    print(data['target'].shape)\n",
    "    step += 1\n",
    "    if step > 5:\n",
    "        break"
   ]
  },
  {
   "cell_type": "code",
   "execution_count": 116,
   "metadata": {},
   "outputs": [],
   "source": [
    "class MetaTrainDataLoader:\n",
    "\n",
    "    def __init__(self, \n",
    "                 datasets: List[Dataset], \n",
    "                 batch_size: int, \n",
    "                 prob: np.array,  \n",
    "                 stack_fn: Callable, \n",
    "                 transform: Transformation = Identity(),\n",
    "                 data_loaders: Optional[List[TrainDataLoader]]= None, \n",
    "                 num_batches_per_epoch: Optional[int] = None,     \n",
    "                 shuffle_buffer_length: Optional[int] = None,\n",
    "                 random_state: np.random.RandomState = None\n",
    "):\n",
    "        self.datasets = datasets\n",
    "        self.batch_size = batch_size\n",
    "        self.prob = prob\n",
    "        self.stack_fn = stack_fn\n",
    "        self.transform = transform\n",
    "        self.num_batches_per_epoch = num_batches_per_epoch\n",
    "        self.shuffle_buffer_length = shuffle_buffer_length\n",
    "        self.dataset_loader_mapping = {}\n",
    "        self.random_state = random_state\n",
    "\n",
    "        for i in range(len(datasets)):\n",
    "            if data_loaders:\n",
    "                self.dataset_loader_mapping[i] = data_loaders[i]\n",
    "            else:\n",
    "                self.dataset_loader_mapping[i] = TrainDataLoader(self.datasets[i],\n",
    "                                                                 transform=self.transform,\n",
    "                                                                 batch_size=self.batch_size,\n",
    "                                                                 stack_fn = self.stack_fn, \n",
    "                                                                 num_batches_per_epoch=self.num_batches_per_epoch, \n",
    "                                                                 shuffle_buffer_length=self.shuffle_buffer_length)\n",
    "\n",
    "    def __iter__(self):\n",
    "        return self\n",
    "    \n",
    "    def __next__(self):\n",
    "        if not self.random_state:\n",
    "            self.random_state = np.random.RandomState()\n",
    "        dataset_ind = self.random_state.choice(range(len(self.datasets)), p=self.prob)\n",
    "        print(dataset_ind)\n",
    "        loader = self.dataset_loader_mapping[dataset_ind]\n",
    "        return next(iter(loader))\n"
   ]
  },
  {
   "cell_type": "code",
   "execution_count": 117,
   "metadata": {},
   "outputs": [
    {
     "name": "stdout",
     "output_type": "stream",
     "text": [
      "[0.33333333 0.66666667]\n",
      "0\n",
      "1\n",
      "1\n",
      "1\n",
      "1\n",
      "0\n",
      "0\n",
      "0\n",
      "1\n",
      "1\n",
      "1\n"
     ]
    }
   ],
   "source": [
    "datasets = [dataset1, dataset2]\n",
    "dataset_sizes = np.array([len(dataset)for dataset in datasets])\n",
    "prob = dataset_sizes / np.sum(dataset_sizes)\n",
    "random_state = np.random.RandomState(seed=69)\n",
    "train_data_loader = MetaTrainDataLoader(datasets, 4, prob, partial(batchify), random_state=random_state)\n",
    "print(prob)\n",
    "step = 0\n",
    "for data in train_data_loader:\n",
    "    step += 1\n",
    "    if step > 10:\n",
    "        break"
   ]
  },
  {
   "cell_type": "code",
   "execution_count": null,
   "metadata": {},
   "outputs": [],
   "source": []
  },
  {
   "cell_type": "code",
   "execution_count": null,
   "metadata": {},
   "outputs": [],
   "source": []
  }
 ],
 "metadata": {
  "kernelspec": {
   "display_name": "gluonts",
   "language": "python",
   "name": "python3"
  },
  "language_info": {
   "codemirror_mode": {
    "name": "ipython",
    "version": 3
   },
   "file_extension": ".py",
   "mimetype": "text/x-python",
   "name": "python",
   "nbconvert_exporter": "python",
   "pygments_lexer": "ipython3",
   "version": "3.7.9"
  },
  "orig_nbformat": 4
 },
 "nbformat": 4,
 "nbformat_minor": 2
}
