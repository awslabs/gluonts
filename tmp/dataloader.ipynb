{
 "cells": [
  {
   "cell_type": "code",
   "execution_count": 71,
   "metadata": {},
   "outputs": [],
   "source": [
    "from typing import Optional, Callable, List, Iterable, Iterator\n",
    "from dataclasses import dataclass\n",
    "import pandas as pd\n",
    "import numpy as np\n",
    "from gluonts.dataset.loader import TrainDataLoader, Batch\n",
    "from functools import partial\n",
    "from gluonts.mx.batchify import batchify\n",
    "from gluonts.dataset import DataBatch, Dataset\n",
    "from gluonts.itertools import Cyclic, IterableSlice\n",
    "from gluonts.transform import AdhocTransform, Transformation, Identity"
   ]
  },
  {
   "cell_type": "code",
   "execution_count": 62,
   "metadata": {},
   "outputs": [],
   "source": [
    "dataset1 = [\n",
    "    {\n",
    "        \"start\": pd.Period(\"2022-03-04 00\", freq=\"H\") + 47 * k,\n",
    "        \"target\": k * np.arange(1000, dtype=np.float32),\n",
    "    }\n",
    "    for k in range(2)\n",
    "]\n",
    "\n",
    "dataset2 = [\n",
    "    {\n",
    "        \"start\": pd.Period(\"2022-03-04 00\", freq=\"H\") + 47 * k,\n",
    "        \"target\": k * np.arange(1000, dtype=np.float32),\n",
    "    }\n",
    "    for k in range(4)\n",
    "]\n",
    "\n",
    "datasets = [dataset1, dataset2]"
   ]
  },
  {
   "cell_type": "code",
   "execution_count": 63,
   "metadata": {},
   "outputs": [],
   "source": [
    "train_data_loader1 = TrainDataLoader(dataset1, \n",
    "                                    batch_size=4, \n",
    "                                    stack_fn=partial(batchify))\n",
    "\n",
    "train_data_loader2 = TrainDataLoader(dataset2, \n",
    "                                    batch_size=4, \n",
    "                                    stack_fn=partial(batchify))\n"
   ]
  },
  {
   "cell_type": "code",
   "execution_count": 106,
   "metadata": {},
   "outputs": [],
   "source": [
    "@dataclass\n",
    "class MixIterables:\n",
    "    iterables: List[Iterable] \n",
    "    probabilities: List[float]\n",
    "    random_state: np.random.RandomState = np.random.RandomState()\n",
    "\n",
    "    def __post_init__(self):\n",
    "        self.iterators = [iter(iterable) for iterable in self.iterables]\n",
    "\n",
    "    def __iter__(self):\n",
    "        idx = self.random_state.choice(range(len(self.iterators)), p=self.probabilities)\n",
    "        print(idx)\n",
    "        try:\n",
    "            yield next(self.iterators[idx])\n",
    "        except StopIteration as e:\n",
    "            self.iterators[idx] = iter(self.iterables[idx])\n",
    "            yield next(self.iterators[idx])\n",
    "                \n"
   ]
  },
  {
   "cell_type": "code",
   "execution_count": 107,
   "metadata": {},
   "outputs": [
    {
     "name": "stdout",
     "output_type": "stream",
     "text": [
      "1\n",
      "1\n",
      "0\n",
      "1\n",
      "('batch', 0)\n",
      "1\n",
      "0\n",
      "1\n",
      "1\n",
      "('batch', 1)\n",
      "0\n",
      "1\n",
      "0\n",
      "1\n",
      "('batch', 2)\n"
     ]
    }
   ],
   "source": [
    "dataset = MixIterables([dataset1, dataset2], [0.33, 0.67])\n",
    "train_data_loader = TrainDataLoader(dataset, \n",
    "                                    batch_size=4, \n",
    "                                    stack_fn=partial(batchify))\n",
    "\n",
    "for i, data in enumerate(train_data_loader):\n",
    "    print((\"batch\", i))\n",
    "    if i >= 2:\n",
    "        break"
   ]
  },
  {
   "cell_type": "code",
   "execution_count": 108,
   "metadata": {},
   "outputs": [],
   "source": [
    "@dataclass\n",
    "class MixIterators:\n",
    "    iterators: List[Iterator] \n",
    "    probabilities: List[float]\n",
    "    random_state: np.random.RandomState = np.random.RandomState()\n",
    "\n",
    "    def __iter__(self):\n",
    "        idx = self.random_state.choice(range(len(self.iterators)), p=self.probabilities)\n",
    "        print(idx)\n",
    "        yield next(self.iterators[idx])\n"
   ]
  },
  {
   "cell_type": "code",
   "execution_count": 104,
   "metadata": {},
   "outputs": [
    {
     "name": "stdout",
     "output_type": "stream",
     "text": [
      "1\n",
      "1\n",
      "1\n",
      "1\n",
      "('batch', 0)\n",
      "1\n",
      "1\n",
      "0\n",
      "0\n",
      "('batch', 1)\n",
      "1\n",
      "1\n",
      "1\n",
      "1\n",
      "('batch', 2)\n"
     ]
    }
   ],
   "source": [
    "dataset = MixIterators([iter(Cyclic(dataset1)), iter(Cyclic(dataset2))], [0.33, 0.67])\n",
    "train_data_loader = TrainDataLoader(dataset, \n",
    "                                    batch_size=4, \n",
    "                                    stack_fn=partial(batchify))\n",
    "\n",
    "for i, data in enumerate(train_data_loader):\n",
    "    print((\"batch\", i))\n",
    "    if i >= 2:\n",
    "        break"
   ]
  },
  {
   "attachments": {},
   "cell_type": "markdown",
   "metadata": {},
   "source": [
    "### For each batch, sample it from a dataset with a specified probabilities"
   ]
  },
  {
   "cell_type": "code",
   "execution_count": 61,
   "metadata": {},
   "outputs": [
    {
     "name": "stdout",
     "output_type": "stream",
     "text": [
      "0\n"
     ]
    }
   ],
   "source": [
    "train_data_loader = MixIterables([train_data_loader1, train_data_loader2], [0.33, 0.67])\n",
    "step = 0\n",
    "for data in train_data_loader:\n",
    "    step += 1\n",
    "    if step > 4:\n",
    "        break"
   ]
  },
  {
   "attachments": {},
   "cell_type": "markdown",
   "metadata": {},
   "source": [
    "### STOP READING"
   ]
  },
  {
   "cell_type": "code",
   "execution_count": null,
   "metadata": {},
   "outputs": [],
   "source": []
  },
  {
   "cell_type": "code",
   "execution_count": null,
   "metadata": {},
   "outputs": [],
   "source": []
  },
  {
   "cell_type": "code",
   "execution_count": 11,
   "metadata": {},
   "outputs": [],
   "source": [
    "class MetaTrainDataLoader:\n",
    "\n",
    "    def __init__(self, \n",
    "                 datasets: List[Dataset], \n",
    "                 batch_size: int, \n",
    "                 prob: np.array,  \n",
    "                 stack_fn: Callable, \n",
    "                 transform: Transformation = Identity(),\n",
    "                 data_loaders: Optional[List[TrainDataLoader]]= None, \n",
    "                 num_batches_per_epoch: Optional[int] = None,     \n",
    "                 shuffle_buffer_length: Optional[int] = None,\n",
    "                 random_state: np.random.RandomState = None\n",
    "):\n",
    "        self.datasets = datasets\n",
    "        self.batch_size = batch_size\n",
    "        self.prob = prob\n",
    "        self.stack_fn = stack_fn\n",
    "        self.transform = transform\n",
    "        self.num_batches_per_epoch = num_batches_per_epoch\n",
    "        self.shuffle_buffer_length = shuffle_buffer_length\n",
    "        self.dataset_loader_mapping = {}\n",
    "        self.random_state = random_state\n",
    "\n",
    "        for i in range(len(datasets)):\n",
    "            if data_loaders:\n",
    "                self.dataset_loader_mapping[i] = iter(data_loaders[i])\n",
    "            else:\n",
    "                self.dataset_loader_mapping[i] = iter(TrainDataLoader(self.datasets[i],\n",
    "                                                                 transform=self.transform,\n",
    "                                                                 batch_size=self.batch_size,\n",
    "                                                                 stack_fn = self.stack_fn, \n",
    "                                                                 num_batches_per_epoch=self.num_batches_per_epoch, \n",
    "                                                                 shuffle_buffer_length=self.shuffle_buffer_length))\n",
    "\n",
    "    def __iter__(self):\n",
    "        return self\n",
    "    \n",
    "    def __next__(self):\n",
    "        if not self.random_state:\n",
    "            self.random_state = np.random.RandomState()\n",
    "        dataset_ind = self.random_state.choice(range(len(self.datasets)), p=self.prob)\n",
    "        print(dataset_ind)\n",
    "        loader = self.dataset_loader_mapping[dataset_ind]\n",
    "        return next(loader)\n"
   ]
  },
  {
   "cell_type": "code",
   "execution_count": 12,
   "metadata": {},
   "outputs": [
    {
     "name": "stdout",
     "output_type": "stream",
     "text": [
      "[0.33333333 0.66666667]\n",
      "0\n",
      "1\n",
      "1\n",
      "1\n",
      "1\n",
      "0\n",
      "0\n",
      "0\n",
      "1\n",
      "1\n",
      "1\n"
     ]
    }
   ],
   "source": [
    "datasets = [dataset1, dataset2]\n",
    "dataset_sizes = np.array([len(dataset)for dataset in datasets])\n",
    "prob = dataset_sizes / np.sum(dataset_sizes)\n",
    "random_state = np.random.RandomState(seed=69)\n",
    "train_data_loader = MetaTrainDataLoader(datasets, 4, prob, partial(batchify), random_state=random_state)\n",
    "print(prob)\n",
    "step = 0\n",
    "for data in train_data_loader:\n",
    "    step += 1\n",
    "    if step > 10:\n",
    "        break"
   ]
  },
  {
   "cell_type": "code",
   "execution_count": null,
   "metadata": {},
   "outputs": [],
   "source": []
  },
  {
   "cell_type": "code",
   "execution_count": null,
   "metadata": {},
   "outputs": [],
   "source": []
  }
 ],
 "metadata": {
  "kernelspec": {
   "display_name": "gluonts",
   "language": "python",
   "name": "python3"
  },
  "language_info": {
   "codemirror_mode": {
    "name": "ipython",
    "version": 3
   },
   "file_extension": ".py",
   "mimetype": "text/x-python",
   "name": "python",
   "nbconvert_exporter": "python",
   "pygments_lexer": "ipython3",
   "version": "3.7.9"
  },
  "orig_nbformat": 4
 },
 "nbformat": 4,
 "nbformat_minor": 2
}
