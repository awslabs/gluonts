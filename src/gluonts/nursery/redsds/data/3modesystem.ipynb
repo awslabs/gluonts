{
 "cells": [
  {
   "cell_type": "code",
   "execution_count": 1,
   "source": [
    "import numpy as np\n",
    "import torch\n",
    "from tqdm.notebook import tqdm"
   ],
   "outputs": [],
   "metadata": {}
  },
  {
   "cell_type": "code",
   "execution_count": 2,
   "source": [
    "# The data generation and plotting code was inspired by the repo https://github.com/mattjj/pyslds released under the MIT License.\n",
    "# Link: https://github.com/mattjj/pyslds/blob/master/examples/slds_example_figure.py"
   ],
   "outputs": [],
   "metadata": {}
  },
  {
   "cell_type": "code",
   "execution_count": 3,
   "source": [
    "import matplotlib\n",
    "matplotlib.rcParams.update({'font.sans-serif' : 'Helvetica',\n",
    "                            'axes.labelsize': 10,\n",
    "                            'xtick.labelsize' : 6,\n",
    "                            'ytick.labelsize' : 6,\n",
    "                            'axes.titlesize' : 10})\n",
    "\n",
    "import matplotlib.pyplot as plt\n",
    "from matplotlib.patches import Rectangle\n",
    "import matplotlib.gridspec as gridspec\n",
    "\n",
    "import seaborn as sns\n",
    "sns.set(style=\"white\")\n",
    "\n",
    "color_names = [\"red\",\n",
    "               \"windows blue\",\n",
    "               \"amber\",\n",
    "               \"faded green\",\n",
    "               \"dusty purple\",\n",
    "               \"orange\",\n",
    "               \"clay\",\n",
    "               \"pink\",\n",
    "               \"greyish\",\n",
    "               \"light cyan\",\n",
    "               \"steel blue\",\n",
    "               \"pastel purple\",\n",
    "               \"mint\",\n",
    "               \"salmon\"]\n",
    "\n",
    "colors = sns.xkcd_palette(color_names)"
   ],
   "outputs": [],
   "metadata": {}
  },
  {
   "cell_type": "code",
   "execution_count": null,
   "source": [
    "\n",
    "def show_duration_dists(fig_size,\n",
    "                        rho,\n",
    "                        fig_title=None):\n",
    "    K, d_max = rho.shape\n",
    "    fig, axn = plt.subplots(nrows=K, figsize=fig_size)\n",
    "    if fig_title:\n",
    "        plt.title(fig_title)\n",
    "    for k in range(K):\n",
    "        axn[k].bar(np.arange(d_max), rho[k])\n",
    "        # axn[k].set_ylim((0., 1.))\n",
    "        axn[k].set_ylabel(f'State {k}')\n",
    "        axn[k].set_xticks(np.arange(d_max))\n",
    "    plt.show()"
   ],
   "outputs": [],
   "metadata": {}
  },
  {
   "cell_type": "code",
   "execution_count": null,
   "source": [
    "seed = 42\n",
    "np.random.seed(seed)\n",
    "torch.manual_seed(seed)"
   ],
   "outputs": [],
   "metadata": {}
  },
  {
   "cell_type": "code",
   "execution_count": null,
   "source": [
    "x_dim = 2\n",
    "obs_dim = 1\n",
    "K = 3\n",
    "d_max = 20"
   ],
   "outputs": [],
   "metadata": {}
  },
  {
   "cell_type": "code",
   "execution_count": null,
   "source": [
    "Tr = [[0.1, 0.2, 0.7],\n",
    "      [0.3, 0.5, 0.2],\n",
    "      [0.3,  0.3, 0.4]]"
   ],
   "outputs": [],
   "metadata": {}
  },
  {
   "cell_type": "code",
   "execution_count": null,
   "source": [
    "mu_init = np.zeros((K, x_dim))\n",
    "mu_init[:, 0] = 2.0\n",
    "sigma_init = 0.1 * np.ones(x_dim)\n",
    "x_init = torch.distributions.normal.Normal(\n",
    "    torch.from_numpy(mu_init),\n",
    "    torch.from_numpy(sigma_init))\n",
    "x_init = torch.distributions.independent.Independent(x_init, 1)\n",
    "x_init.sample()"
   ],
   "outputs": [],
   "metadata": {}
  },
  {
   "cell_type": "code",
   "execution_count": null,
   "source": [
    "def random_rotation(n, theta):\n",
    "    rot = 0.99 * np.array([[np.cos(theta), -np.sin(theta)],\n",
    "                           [np.sin(theta), np.cos(theta)]])\n",
    "    out = np.zeros((n, n))\n",
    "    out[:2, :2] = rot\n",
    "    q = np.linalg.qr(np.random.randn(n, n))[0]\n",
    "    return q.dot(out).dot(q.T)\n",
    "\n",
    "def x_transition(As, bs, xtm1, zt):\n",
    "    A, b = As[zt], bs[zt]\n",
    "    h = (A @ xtm1.t()).t() + b\n",
    "    dist = torch.distributions.normal.Normal(h, 0.1)\n",
    "    dist = torch.distributions.independent.Independent(dist, 1)\n",
    "    return dist"
   ],
   "outputs": [],
   "metadata": {}
  },
  {
   "cell_type": "code",
   "execution_count": null,
   "source": [
    "ths = np.linspace(0, np.pi/4., K)\n",
    "As = [random_rotation(x_dim, ths[k]) for k in range(K)]\n",
    "bs = [np.zeros((1, x_dim))] + [.25 * np.random.randn(1, x_dim) for k in range(K-1)]\n",
    "As = list(map(torch.from_numpy, As))\n",
    "bs = list(map(torch.from_numpy, bs))"
   ],
   "outputs": [],
   "metadata": {}
  },
  {
   "cell_type": "code",
   "execution_count": null,
   "source": [
    "def y_emission(C, d, xt):\n",
    "    h = (C @ xt.t()).t() + d\n",
    "    dist = torch.distributions.normal.Normal(h, 0.2)\n",
    "    dist = torch.distributions.independent.Independent(dist, 1)\n",
    "    return dist"
   ],
   "outputs": [],
   "metadata": {}
  },
  {
   "cell_type": "code",
   "execution_count": null,
   "source": [
    "Cs = [torch.from_numpy(np.random.randn(obs_dim, x_dim)) for _ in range(K)]\n",
    "ds = [torch.from_numpy(np.random.randint(3, size=(1, obs_dim))) for _ in range(K)]"
   ],
   "outputs": [],
   "metadata": {}
  },
  {
   "cell_type": "code",
   "execution_count": null,
   "source": [
    "def make_U(D):\n",
    "    U = 1-D/np.cumsum(D[:,::-1], 1)[:,::-1]\n",
    "    return U\n",
    "\n",
    "rho = np.zeros((K, d_max))\n",
    "\n",
    "rho[0, 5] = 2\n",
    "rho[0, 10] = 5\n",
    "rho[0, 15] = 7\n",
    "rho[0, 19] = 3\n",
    "rho[1, 7] = 5\n",
    "rho[1, 16] = 8\n",
    "rho[1, 18] = 6\n",
    "rho[1, 19] = 1\n",
    "rho[2, 12] = 3\n",
    "rho[2, 15] = 7\n",
    "rho[2, 17] = 5\n",
    "rho[2, 19] = 2\n",
    "\n",
    "rho = rho / np.sum(rho, -1, keepdims=True)\n",
    "U = make_U(rho)"
   ],
   "outputs": [],
   "metadata": {}
  },
  {
   "cell_type": "code",
   "execution_count": null,
   "source": [
    "# show_duration_dists((15, 2 * K), rho)"
   ],
   "outputs": [],
   "metadata": {}
  },
  {
   "cell_type": "code",
   "execution_count": null,
   "source": [],
   "outputs": [],
   "metadata": {}
  },
  {
   "cell_type": "code",
   "execution_count": null,
   "source": [
    "def generate_timeseries(T=100):\n",
    "    cs, zs, xs, ys = [], [], [], []\n",
    "    ct = 0\n",
    "    zt = np.random.randint(K)\n",
    "    xt = x_init.sample()[zt].view(1, x_dim)\n",
    "    for i in range(T):\n",
    "        yt = y_emission(Cs[zt], ds[zt], xt).sample()\n",
    "        cs += [ct]\n",
    "        zs += [zt]\n",
    "        xs += [xt.data.numpy()]\n",
    "        ys += [yt.data.numpy()]\n",
    "        p_inc_count = U[zt, ct]\n",
    "        if np.random.rand() < p_inc_count:\n",
    "            ct += 1\n",
    "        else:\n",
    "            ct = 0\n",
    "        if ct > 0:\n",
    "            zt = zt\n",
    "        else:\n",
    "            zt = np.random.choice([0, 1, 2], p=Tr[zt])\n",
    "        xt = x_transition(As, bs, xt, zt).sample()\n",
    "        \n",
    "    return np.stack(cs), np.stack(zs), np.concatenate(xs, 0), np.concatenate(ys, 0)"
   ],
   "outputs": [],
   "metadata": {}
  },
  {
   "cell_type": "code",
   "execution_count": null,
   "source": [
    "def draw_slds_figure(z, x, y, filename=None):\n",
    "    fig = plt.figure(figsize=(10, 2.7))\n",
    "    gs = gridspec.GridSpec(5, 1)\n",
    "    ax = fig.add_subplot(gs[2:, 0])\n",
    "    ylim = 1.1 * abs(y).max()\n",
    "    ymax = ylim * (2*obs_dim + 1)\n",
    "    ymin = -ylim\n",
    "\n",
    "    # Plot the discrete state in the background\n",
    "    cps = np.where(np.diff(z) != 0)[0] + 1\n",
    "    left_cps = np.concatenate(([0], cps))\n",
    "    right_cps = np.concatenate((cps, [T]))\n",
    "    for l,r in zip(left_cps, right_cps):\n",
    "        ax.add_patch(\n",
    "            Rectangle([l, ymin], r-l, ymax-ymin,\n",
    "                      color=colors[z[l]], ec=\"none\", alpha=0.5))\n",
    "\n",
    "        ax.plot([r, r], [ymin, ymax], '-', color=\"gray\", lw=1)\n",
    "\n",
    "    # Plot the observations\n",
    "    for i in range(obs_dim):\n",
    "        ax.plot(np.arange(T), ylim * (2*i+1) + y[:,i], '-k', lw=1)\n",
    "\n",
    "    ax.set_xlim(0, T)\n",
    "    ax.set_xlabel(\"time\")\n",
    "\n",
    "    ax.set_ylim(ymin, ymax)\n",
    "    ax.set_yticks([])\n",
    "    ax.set_yticks(ylim * (2*np.arange(obs_dim)+1))\n",
    "\n",
    "    def yticklabel(i):\n",
    "        return \"$n=%d$\" % (obs_dim-i) if (i >= obs_dim-2) else \\\n",
    "            \"$n=N$\" if i == 0 else \".\"\n",
    "\n",
    "    ax.set_yticklabels(map(yticklabel, np.arange(obs_dim)))\n",
    "    ax.yaxis.labelpad = 0\n",
    "    ax.set_ylabel(\"${\\\\mathbf{y}_t}$\", rotation=0, verticalalignment='center')\n",
    "\n",
    "    ## Plot the continuous latent state above that above\n",
    "    ax = fig.add_subplot(gs[1, 0])\n",
    "    xlim = 1.1 * abs(x).max()\n",
    "    for l, r in zip(left_cps, right_cps):\n",
    "        ax.add_patch(\n",
    "            Rectangle([l, -xlim], r - l, 2*xlim,\n",
    "                      color=colors[z[l]], ec=\"none\", alpha=0.5))\n",
    "\n",
    "        ax.plot([r, r], [-xlim, xlim], '-', color=\"gray\", lw=1)\n",
    "\n",
    "    linestyles = [\"-\", \":\"]\n",
    "    for i in range(x_dim):\n",
    "        ax.plot(np.arange(T), x[:, i],\n",
    "                'k', ls=linestyles[i%len(linestyles)], lw=1)\n",
    "\n",
    "    ax.set_xlim(0, T)\n",
    "    ax.set_ylim(-xlim, xlim)\n",
    "    ax.set_xticks([])\n",
    "    ax.set_yticks([])\n",
    "    ax.yaxis.labelpad = 34\n",
    "    ax.set_ylabel(\"${\\\\mathbf{x}_t}$\", rotation=0, verticalalignment='center')\n",
    "\n",
    "    ## Now plot the latent state above that above\n",
    "    ax = fig.add_subplot(gs[0, 0])\n",
    "    for l, r in zip(left_cps, right_cps):\n",
    "        ax.add_patch(\n",
    "            Rectangle([l, 0], r - l, 10,\n",
    "                      color=colors[z[l]], ec=\"none\", alpha=0.5))\n",
    "\n",
    "        ax.plot([r, r], [0, 10], '-', color=\"gray\", lw=1)\n",
    "#         ax.text(l + (r - l) / 2. - 10., 3,\n",
    "#                 # \"u\" if z[l] == 0 else \"d\",\n",
    "#                 # string.ascii_lowercase[z[l]],\n",
    "#                 z[l]+1,\n",
    "#                 fontdict={\"size\": 9})\n",
    "    ax.set_xlim(0, T)\n",
    "    ax.set_ylim(0, 10)\n",
    "    ax.set_xticks([])\n",
    "    ax.set_yticks([])\n",
    "    ax.yaxis.labelpad = 34\n",
    "    ax.set_ylabel(\"${\\\\mathbf{z}_t}$\", rotation=0, verticalalignment='center')\n",
    "\n",
    "    if filename is not None:\n",
    "        fig.savefig(filename)\n",
    "\n",
    "    plt.show()"
   ],
   "outputs": [],
   "metadata": {}
  },
  {
   "cell_type": "code",
   "execution_count": null,
   "source": [
    "T = 200\n",
    "cs, zs, xs, ys = generate_timeseries(T)\n",
    "draw_slds_figure(zs, xs, ys)"
   ],
   "outputs": [],
   "metadata": {}
  },
  {
   "cell_type": "code",
   "execution_count": null,
   "source": [
    "data_y = []\n",
    "data_z = []\n",
    "for i in tqdm(range(10000)):\n",
    "    cs, zs, xs, ys = generate_timeseries(T)\n",
    "    data_y.append(ys)\n",
    "    data_z.append(zs)\n",
    "data_y = np.asarray(data_y)\n",
    "data_z = np.asarray(data_z)\n",
    "data_y.shape, data_z.shape"
   ],
   "outputs": [],
   "metadata": {}
  },
  {
   "cell_type": "code",
   "execution_count": null,
   "source": [
    "rho"
   ],
   "outputs": [],
   "metadata": {}
  },
  {
   "cell_type": "code",
   "execution_count": null,
   "source": [
    "np.savez('3modesystem.npz', y=data_y, z=data_z)"
   ],
   "outputs": [],
   "metadata": {}
  },
  {
   "cell_type": "code",
   "execution_count": null,
   "source": [
    "tdata_y = []\n",
    "tdata_z = []\n",
    "for i in tqdm(range(500)):\n",
    "    cs, zs, xs, ys = generate_timeseries(T)\n",
    "    tdata_y.append(ys)\n",
    "    tdata_z.append(zs)\n",
    "tdata_y = np.asarray(tdata_y)\n",
    "tdata_z = np.asarray(tdata_z)\n",
    "tdata_y.shape, tdata_z.shape"
   ],
   "outputs": [],
   "metadata": {}
  },
  {
   "cell_type": "code",
   "execution_count": null,
   "source": [
    "np.savez('3modesystem_test.npz', y=tdata_y, z=tdata_z)"
   ],
   "outputs": [],
   "metadata": {}
  },
  {
   "cell_type": "code",
   "execution_count": null,
   "source": [
    "import fractions\n",
    "np.set_printoptions(formatter={'all':lambda x: str(fractions.Fraction(x).limit_denominator())})\n",
    "print(rho)"
   ],
   "outputs": [],
   "metadata": {}
  }
 ],
 "metadata": {
  "kernelspec": {
   "name": "python3",
   "display_name": "Python 3.6.13 64-bit ('snlds': conda)"
  },
  "language_info": {
   "codemirror_mode": {
    "name": "ipython",
    "version": 3
   },
   "file_extension": ".py",
   "mimetype": "text/x-python",
   "name": "python",
   "nbconvert_exporter": "python",
   "pygments_lexer": "ipython3",
   "version": "3.6.13"
  },
  "interpreter": {
   "hash": "6de1c0fc760d8c708e42be92962f6bc3987f9131373be825a46e790ad117b246"
  }
 },
 "nbformat": 4,
 "nbformat_minor": 4
}