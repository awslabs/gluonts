{
 "cells": [
  {
   "cell_type": "code",
   "execution_count": null,
   "source": [
    "import numpy as np\n",
    "import matplotlib.pyplot as plt\n",
    "from tqdm.auto import tqdm\n",
    "import seaborn as sns"
   ],
   "outputs": [],
   "metadata": {}
  },
  {
   "cell_type": "code",
   "execution_count": null,
   "source": [
    "seed = 111\n",
    "np.random.seed(seed)\n",
    "sns.set(style=\"white\")\n",
    "\n",
    "color_names = [\"red\",\n",
    "               \"windows blue\",\n",
    "               \"amber\",\n",
    "               \"faded green\",\n",
    "               \"dusty purple\",\n",
    "               \"orange\",\n",
    "               \"clay\",\n",
    "               \"pink\",\n",
    "               \"greyish\",\n",
    "               \"light cyan\",\n",
    "               \"steel blue\",\n",
    "               \"pastel purple\",\n",
    "               \"mint\",\n",
    "               \"salmon\"]\n",
    "\n",
    "colors = sns.xkcd_palette(color_names)"
   ],
   "outputs": [],
   "metadata": {}
  },
  {
   "cell_type": "code",
   "execution_count": null,
   "source": [
    "def _plot_segments(ax, segmentation, ymin, ymax):\n",
    "    s_seq = np.squeeze(segmentation)\n",
    "    z_cps = np.concatenate(\n",
    "        ([0], np.where(np.diff(s_seq))[0]+1, [s_seq.size]))\n",
    "    for start, stop in zip(z_cps[:-1], z_cps[1:]):\n",
    "        stop = min(s_seq.size, stop+1)\n",
    "        ax.axvspan(\n",
    "            start, stop-1, ymin=ymin, ymax=ymax,\n",
    "            alpha=.8, facecolor=colors[s_seq[start]])"
   ],
   "outputs": [],
   "metadata": {}
  },
  {
   "cell_type": "code",
   "execution_count": null,
   "source": [],
   "outputs": [],
   "metadata": {}
  },
  {
   "cell_type": "code",
   "execution_count": null,
   "source": [
    "def make_seq(h=10, T=100):\n",
    "    y = np.random.randint(h)\n",
    "    seq = []\n",
    "    z_seq = []\n",
    "    v = np.random.uniform(-0.5, 0.5)\n",
    "    for i in range(T):\n",
    "        z_seq.append(0 if v < 0 else 1)\n",
    "        seq.append(y + np.random.randn(1) * 0.1)\n",
    "        y += v\n",
    "        if y > h:\n",
    "            v = -v\n",
    "        elif y < 0:\n",
    "            v = -v\n",
    "    return np.array(seq), np.array(z_seq)"
   ],
   "outputs": [],
   "metadata": {}
  },
  {
   "cell_type": "code",
   "execution_count": null,
   "source": [
    "y_seq, z_seq = make_seq()\n",
    "fig = plt.figure(figsize=(12, 4))\n",
    "ax = fig.gca()\n",
    "ax.scatter(np.arange(100), y_seq)\n",
    "ax.set_ylim([-1, 11.])\n",
    "_plot_segments(ax, z_seq, 0., 0.05)\n",
    "plt.show()"
   ],
   "outputs": [],
   "metadata": {}
  },
  {
   "cell_type": "code",
   "execution_count": null,
   "source": [
    "data_y = []\n",
    "data_z = []\n",
    "for i in tqdm(range(100000)):\n",
    "    dy, dz = make_seq()\n",
    "    data_y.append(dy)\n",
    "    data_z.append(dz)\n",
    "data_y = np.asarray(data_y)\n",
    "data_z = np.asarray(data_z)\n",
    "data_y.shape, data_z.shape"
   ],
   "outputs": [],
   "metadata": {}
  },
  {
   "cell_type": "code",
   "execution_count": null,
   "source": [
    "idx = np.random.randint(data_y.shape[0])\n",
    "y_seq, z_seq = data_y[idx], data_z[idx]\n",
    "fig = plt.figure(figsize=(12, 4))\n",
    "ax = fig.gca()\n",
    "ax.scatter(np.arange(100), y_seq, s=25, marker='+')\n",
    "ax.plot(np.arange(100), y_seq)\n",
    "ax.set_ylim([-1, 11.])\n",
    "_plot_segments(ax, z_seq, 0., 0.05)\n",
    "plt.show()"
   ],
   "outputs": [],
   "metadata": {}
  },
  {
   "cell_type": "code",
   "execution_count": null,
   "source": [
    "np.savez('bouncing_ball.npz', y=data_y, z=data_z)"
   ],
   "outputs": [],
   "metadata": {}
  },
  {
   "cell_type": "code",
   "execution_count": null,
   "source": [
    "data_y = []\n",
    "data_z = []\n",
    "for i in tqdm(range(1000)):\n",
    "    dy, dz = make_seq(T=150)\n",
    "    data_y.append(dy)\n",
    "    data_z.append(dz)\n",
    "data_y = np.asarray(data_y)\n",
    "data_z = np.asarray(data_z)\n",
    "data_y.shape, data_z.shape"
   ],
   "outputs": [],
   "metadata": {}
  },
  {
   "cell_type": "code",
   "execution_count": null,
   "source": [
    "np.savez('bouncing_ball_test.npz', y=data_y, z=data_z)"
   ],
   "outputs": [],
   "metadata": {}
  }
 ],
 "metadata": {
  "kernelspec": {
   "name": "python3",
   "display_name": "Python 3.6.13 64-bit ('snlds': conda)"
  },
  "language_info": {
   "codemirror_mode": {
    "name": "ipython",
    "version": 3
   },
   "file_extension": ".py",
   "mimetype": "text/x-python",
   "name": "python",
   "nbconvert_exporter": "python",
   "pygments_lexer": "ipython3",
   "version": "3.6.13"
  },
  "interpreter": {
   "hash": "6de1c0fc760d8c708e42be92962f6bc3987f9131373be825a46e790ad117b246"
  }
 },
 "nbformat": 4,
 "nbformat_minor": 4
}