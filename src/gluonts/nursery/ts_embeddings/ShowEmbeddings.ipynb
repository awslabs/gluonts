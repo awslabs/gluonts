{
 "cells": [
  {
   "cell_type": "code",
   "execution_count": null,
   "metadata": {},
   "outputs": [],
   "source": [
    "%matplotlib inline\n",
    "\n",
    "import numpy as np\n",
    "import pandas as pd\n",
    "import torch\n",
    "import matplotlib.pyplot as plt\n",
    "plt.rcParams['figure.figsize'] = (16.0, 8.0)\n",
    "\n",
    "from gluonts.nursery.ts_embeddings.run import MyDataModule"
   ]
  },
  {
   "cell_type": "code",
   "execution_count": null,
   "metadata": {},
   "outputs": [],
   "source": [
    "encoder_model_path = './encoder.pt'\n",
    "print('loading encoder')\n",
    "loaded_encoder = torch.jit.load(encoder_model_path)"
   ]
  },
  {
   "cell_type": "code",
   "execution_count": null,
   "metadata": {},
   "outputs": [],
   "source": [
    "dm = MyDataModule(ts_len=3 * 7 * 24, dataset_name='traffic', num_workers=4,\n",
    "                 batch_size=128)\n",
    "dm.setup()"
   ]
  },
  {
   "cell_type": "code",
   "execution_count": null,
   "metadata": {},
   "outputs": [],
   "source": [
    "series = []\n",
    "for i, batch in enumerate(dm.train_dataloader()):\n",
    "    series.append(batch)\n",
    "    if len(series) > 500:\n",
    "        break\n",
    "    \n",
    "series = torch.cat(series, dim=0)\n",
    "print('running encoder')\n",
    "\n",
    "with torch.no_grad():\n",
    "    embed = loaded_encoder(series).numpy()"
   ]
  },
  {
   "cell_type": "code",
   "execution_count": null,
   "metadata": {},
   "outputs": [],
   "source": [
    "from sklearn.manifold import TSNE\n",
    "tsne_out = TSNE(n_components=2, perplexity=80).fit_transform(embed)\n",
    "import matplotlib.pyplot as plt\n",
    "plt.scatter(tsne_out[:, 0], tsne_out[:, 1])\n",
    "plt.show()"
   ]
  },
  {
   "cell_type": "code",
   "execution_count": null,
   "metadata": {},
   "outputs": [],
   "source": [
    "import plotly.graph_objs as go\n",
    "import plotly.offline as py\n",
    "\n",
    "from ipywidgets import interactive, HBox, VBox\n",
    "\n",
    "py.init_notebook_mode()"
   ]
  },
  {
   "cell_type": "code",
   "execution_count": null,
   "metadata": {},
   "outputs": [],
   "source": [
    "targets = series.numpy()"
   ]
  },
  {
   "cell_type": "code",
   "execution_count": null,
   "metadata": {},
   "outputs": [],
   "source": [
    "f = go.FigureWidget([go.Scatter(\n",
    "        x=tsne_out[:, 0],\n",
    "        y=tsne_out[:, 1],\n",
    "        mode='markers',\n",
    ")])\n",
    "scatter = f.data[0]\n",
    "\n",
    "t = go.FigureWidget([\n",
    "    go.Scatter(x=np.arange(len(targets[0])), y=targets[0]),\n",
    "])\n",
    "\n",
    "def p(s, points, input_state):\n",
    "    if len(points.point_inds) != 1:\n",
    "        return\n",
    "    i = points.point_inds[0]\n",
    "    ts = targets[i]\n",
    "    \n",
    "    t.data[0].x = np.arange(len(ts))\n",
    "    t.data[0].y = ts\n",
    "    t.update_layout(yaxis=dict(range=[0, 1.1 * np.nanmax(ts)]))\n",
    "\n",
    "scatter.on_hover(p)\n",
    "\n",
    "VBox((t,f))"
   ]
  },
  {
   "cell_type": "code",
   "execution_count": null,
   "metadata": {},
   "outputs": [],
   "source": []
  }
 ],
 "metadata": {
  "kernelspec": {
   "display_name": "Python 3",
   "language": "python",
   "name": "python3"
  },
  "language_info": {
   "codemirror_mode": {
    "name": "ipython",
    "version": 3
   },
   "file_extension": ".py",
   "mimetype": "text/x-python",
   "name": "python",
   "nbconvert_exporter": "python",
   "pygments_lexer": "ipython3",
   "version": "3.8.5"
  }
 },
 "nbformat": 4,
 "nbformat_minor": 4
}
