{
 "cells": [
  {
   "cell_type": "code",
   "execution_count": 1,
   "metadata": {},
   "outputs": [],
   "source": [
    "import numpy as np\n",
    "import scipy as sp\n",
    "import pylab as pl\n",
    "pl.rcParams['figure.figsize'] = 4,4"
   ]
  },
  {
   "cell_type": "code",
   "execution_count": 2,
   "metadata": {},
   "outputs": [],
   "source": [
    "from gmm_base import *"
   ]
  },
  {
   "cell_type": "code",
   "execution_count": 3,
   "metadata": {},
   "outputs": [],
   "source": [
    "lamb = 0.5\n",
    "xmax = 4/lamb\n",
    "sample_size = int(1e4)\n",
    "num_clusters = 3\n",
    "epochs = 1000"
   ]
  },
  {
   "cell_type": "code",
   "execution_count": 4,
   "metadata": {},
   "outputs": [],
   "source": [
    "x = np.random.RandomState(0).exponential(1./lamb, sample_size)"
   ]
  },
  {
   "cell_type": "code",
   "execution_count": 5,
   "metadata": {},
   "outputs": [],
   "source": [
    "def Gaussian_pdf(ex):\n",
    "    return np.exp(- 0.5*(ex-x.mean())**2/x.std()**2\n",
    "                  - 0.5*np.log(2*np.pi*x.std()**2))"
   ]
  },
  {
   "cell_type": "code",
   "execution_count": 6,
   "metadata": {},
   "outputs": [
    {
     "data": {
      "text/plain": [
       "(-0.4191023651728891, 8.0)"
      ]
     },
     "execution_count": 6,
     "metadata": {},
     "output_type": "execute_result"
    },
    {
     "data": {
      "image/png": "[encoded data removed]",
      "text/plain": [
       "<Figure size 288x288 with 1 Axes>"
      ]
     },
     "metadata": {
      "needs_background": "light"
     },
     "output_type": "display_data"
    }
   ],
   "source": [
    "ex = np.linspace(0, xmax)\n",
    "pl.hist(x, ex, density=True, fill=False, histtype='step',\n",
    "        label='empirical');\n",
    "\n",
    "pl.plot(ex, Gaussian_pdf(ex), '--', label='Gaussian')\n",
    "pl.errorbar([x.mean()], Gaussian_pdf([x.mean()]), None, [x.std()],\n",
    "            'x', color='C3', capsize=2, label='Gaussian mode')\n",
    "\n",
    "pl.legend(loc='upper right')\n",
    "pl.xlim(xmax=xmax)"
   ]
  },
  {
   "cell_type": "markdown",
   "metadata": {},
   "source": [
    "# EM"
   ]
  },
  {
   "cell_type": "code",
   "execution_count": 7,
   "metadata": {},
   "outputs": [
    {
     "name": "stdout",
     "output_type": "stream",
     "text": [
      "1 loglik=-2.111 elapsed=0.0s\n",
      "2 loglik=-2.089 elapsed=0.0s\n",
      "4 loglik=-1.952 elapsed=0.0s\n",
      "8 loglik=-1.887 elapsed=0.1s\n",
      "16 loglik=-1.799 elapsed=0.1s\n",
      "32 loglik=-1.778 elapsed=0.3s\n",
      "64 loglik=-1.775 elapsed=0.8s\n",
      "100 loglik=-1.774 elapsed=1.1s\n"
     ]
    }
   ],
   "source": [
    "model = GMMModel(x[:,None], num_clusters=num_clusters)\n",
    "trainer = GMMTrainer(model)\n",
    "\n",
    "for t, epoch in elapsed(range(100)):\n",
    "    trainer(x[:,None])\n",
    "    if np.allclose(np.log2(epoch+1), np.round(np.log2(epoch+1))) or epoch+1==100:\n",
    "        loglik = model(mx.nd.array(x[:,None]))[0].mean().asscalar()\n",
    "        print(f'{epoch+1} loglik={loglik:.3f} elapsed={t:.1f}s')"
   ]
  },
  {
   "cell_type": "code",
   "execution_count": 8,
   "metadata": {},
   "outputs": [
    {
     "name": "stdout",
     "output_type": "stream",
     "text": [
      "inferred lamb=0.425\n"
     ]
    }
   ],
   "source": [
    "hat_lambda = infer_lambda(model, xmin=0, xmax=xmax)\n",
    "print(f'inferred lamb={hat_lambda:.3f}')"
   ]
  },
  {
   "cell_type": "code",
   "execution_count": 9,
   "metadata": {},
   "outputs": [],
   "source": [
    "def mixture_pdf(ex):\n",
    "    log_marg = model(mx.nd.array(ex, dtype='float32'))[0]\n",
    "    return log_marg.exp().asnumpy()"
   ]
  },
  {
   "cell_type": "code",
   "execution_count": 10,
   "metadata": {},
   "outputs": [],
   "source": [
    "log_prior_ = model.log_prior_.data().asnumpy()\n",
    "mu_ = model.mu_.data().asnumpy()\n",
    "kR_ = model.kR_.data().asnumpy()\n",
    "cov_ = np.linalg.inv(kR_.swapaxes(1,2) @ kR_)\n",
    "s2_ = np.array([np.diag(c) for c in cov_])"
   ]
  },
  {
   "cell_type": "code",
   "execution_count": 11,
   "metadata": {},
   "outputs": [
    {
     "data": {
      "text/plain": [
       "(-0.4, 8.0)"
      ]
     },
     "execution_count": 11,
     "metadata": {},
     "output_type": "execute_result"
    },
    {
     "data": {
      "image/png": "[encoded data removed]",
      "text/plain": [
       "<Figure size 288x288 with 1 Axes>"
      ]
     },
     "metadata": {
      "needs_background": "light"
     },
     "output_type": "display_data"
    }
   ],
   "source": [
    "ex = np.linspace(0, xmax)\n",
    "pl.hist(x, ex, density=True, fill=False, histtype='step',\n",
    "        label='empirical pdf')\n",
    "\n",
    "pl.plot(ex, mixture_pdf(ex[:,None]), '--', label='mixture pdf')\n",
    "\n",
    "pl.plot(ex, hat_lambda*np.exp(-hat_lambda*ex),\n",
    "        label=f'inferred $\\hat\\lambda$={hat_lambda:.3f}')\n",
    "\n",
    "pl.errorbar(mu_.squeeze(-1),\n",
    "            np.exp(log_prior_) / (2*np.pi*s2_.squeeze(-1))**0.5,\n",
    "            None, s2_.squeeze(-1)**0.5,\n",
    "            'x', capsize=2, label='mixture modes')\n",
    "\n",
    "pl.legend(loc='upper right')\n",
    "pl.xlim(xmax=xmax)"
   ]
  },
  {
   "cell_type": "code",
   "execution_count": null,
   "metadata": {},
   "outputs": [],
   "source": []
  }
 ],
 "metadata": {
  "kernelspec": {
   "display_name": "Environment (conda_mxnet_p36)",
   "language": "python",
   "name": "conda_mxnet_p36"
  },
  "language_info": {
   "codemirror_mode": {
    "name": "ipython",
    "version": 3
   },
   "file_extension": ".py",
   "mimetype": "text/x-python",
   "name": "python",
   "nbconvert_exporter": "python",
   "pygments_lexer": "ipython3",
   "version": "3.6.10"
  }
 },
 "nbformat": 4,
 "nbformat_minor": 4
}
